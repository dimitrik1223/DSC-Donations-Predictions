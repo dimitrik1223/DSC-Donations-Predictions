{
 "cells": [
  {
   "cell_type": "code",
   "execution_count": 1111,
   "id": "559a8fd7",
   "metadata": {
    "scrolled": true
   },
   "outputs": [],
   "source": [
    "import sys\n",
    "import numpy as np\n",
    "import pandas as pd\n",
    "from pandas               import DataFrame\n",
    "from pandas               import read_csv\n",
    "from numpy                import array\n",
    "from numpy                import random\n",
    "from sklearn.linear_model import LogisticRegression \n",
    "from sklearn.metrics      import auc\n",
    "from sklearn.metrics      import roc_auc_score\n",
    "from matplotlib           import pyplot\n",
    "import openpyxl\n",
    "from pathlib import Path\n",
    "from datetime import datetime\n",
    "from sklearn.model_selection import train_test_split\n",
    "import seaborn as sns\n",
    "import matplotlib.pyplot as plt\n",
    "from sklearn.metrics import accuracy_score\n",
    "from scipy.stats          import pearsonr\n",
    "from sklearn.preprocessing import LabelEncoder\n",
    "from sklearn.ensemble import RandomForestClassifier\n",
    "from sklearn.naive_bayes import GaussianNB\n",
    "from sklearn.ensemble import GradientBoostingClassifier"
   ]
  },
  {
   "cell_type": "code",
   "execution_count": 1112,
   "id": "78f66cb5",
   "metadata": {},
   "outputs": [],
   "source": [
    "#read in all csvs and create dataframes respectively\n",
    "\n",
    "campaigns = pd.read_csv(\"C:/Users/dkestenbaum/Desktop/PDA_GROUP ASSIGNMENT DSC use-case-20211201/campaigns.csv\",sep=';')\n",
    "\n",
    "donors = pd.read_csv(\"C:/Users/dkestenbaum/Desktop/PDA_GROUP ASSIGNMENT DSC use-case-20211201/donors.csv\")\n",
    "\n",
    "gifts = pd.read_csv(\"C:/Users/dkestenbaum/Desktop/PDA_GROUP ASSIGNMENT DSC use-case-20211201/gifts.csv\")\n",
    "\n"
   ]
  },
  {
   "cell_type": "code",
   "execution_count": 1113,
   "id": "eefaa555",
   "metadata": {
    "scrolled": true
   },
   "outputs": [
    {
     "data": {
      "text/html": [
       "<div>\n",
       "<style scoped>\n",
       "    .dataframe tbody tr th:only-of-type {\n",
       "        vertical-align: middle;\n",
       "    }\n",
       "\n",
       "    .dataframe tbody tr th {\n",
       "        vertical-align: top;\n",
       "    }\n",
       "\n",
       "    .dataframe thead th {\n",
       "        text-align: right;\n",
       "    }\n",
       "</style>\n",
       "<table border=\"1\" class=\"dataframe\">\n",
       "  <thead>\n",
       "    <tr style=\"text-align: right;\">\n",
       "      <th></th>\n",
       "      <th>campaignID</th>\n",
       "      <th>date</th>\n",
       "      <th>lettersSent</th>\n",
       "      <th>CostUnit</th>\n",
       "    </tr>\n",
       "  </thead>\n",
       "  <tbody>\n",
       "    <tr>\n",
       "      <th>0</th>\n",
       "      <td>153</td>\n",
       "      <td>13/12/2004</td>\n",
       "      <td>6 873</td>\n",
       "      <td>0,17 €</td>\n",
       "    </tr>\n",
       "    <tr>\n",
       "      <th>1</th>\n",
       "      <td>154</td>\n",
       "      <td>01/01/2005</td>\n",
       "      <td>7 656</td>\n",
       "      <td>0,30 €</td>\n",
       "    </tr>\n",
       "    <tr>\n",
       "      <th>2</th>\n",
       "      <td>180</td>\n",
       "      <td>18/01/2005</td>\n",
       "      <td>9 933</td>\n",
       "      <td>0,20 €</td>\n",
       "    </tr>\n",
       "    <tr>\n",
       "      <th>3</th>\n",
       "      <td>433</td>\n",
       "      <td>29/01/2005</td>\n",
       "      <td>7 448</td>\n",
       "      <td>0,59 €</td>\n",
       "    </tr>\n",
       "    <tr>\n",
       "      <th>4</th>\n",
       "      <td>476</td>\n",
       "      <td>12/02/2005</td>\n",
       "      <td>6 605</td>\n",
       "      <td>0,51 €</td>\n",
       "    </tr>\n",
       "  </tbody>\n",
       "</table>\n",
       "</div>"
      ],
      "text/plain": [
       "   campaignID        date lettersSent CostUnit\n",
       "0         153  13/12/2004       6 873   0,17 €\n",
       "1         154  01/01/2005       7 656   0,30 €\n",
       "2         180  18/01/2005       9 933   0,20 €\n",
       "3         433  29/01/2005       7 448   0,59 €\n",
       "4         476  12/02/2005       6 605   0,51 €"
      ]
     },
     "execution_count": 1113,
     "metadata": {},
     "output_type": "execute_result"
    }
   ],
   "source": [
    "campaigns.head()"
   ]
  },
  {
   "cell_type": "code",
   "execution_count": 1114,
   "id": "5271a1e9",
   "metadata": {},
   "outputs": [
    {
     "name": "stdout",
     "output_type": "stream",
     "text": [
      "<class 'pandas.core.frame.DataFrame'>\n",
      "RangeIndex: 367 entries, 0 to 366\n",
      "Data columns (total 4 columns):\n",
      " #   Column       Non-Null Count  Dtype \n",
      "---  ------       --------------  ----- \n",
      " 0   campaignID   367 non-null    int64 \n",
      " 1   date         367 non-null    object\n",
      " 2   lettersSent  367 non-null    object\n",
      " 3   CostUnit     367 non-null    object\n",
      "dtypes: int64(1), object(3)\n",
      "memory usage: 11.6+ KB\n"
     ]
    }
   ],
   "source": [
    "campaigns.info()"
   ]
  },
  {
   "cell_type": "code",
   "execution_count": 1115,
   "id": "d71e4f16",
   "metadata": {
    "scrolled": true
   },
   "outputs": [
    {
     "data": {
      "text/plain": [
       "campaignID      int64\n",
       "date           object\n",
       "lettersSent    object\n",
       "CostUnit       object\n",
       "dtype: object"
      ]
     },
     "execution_count": 1115,
     "metadata": {},
     "output_type": "execute_result"
    }
   ],
   "source": [
    "campaigns.dtypes"
   ]
  },
  {
   "cell_type": "markdown",
   "id": "795b968e",
   "metadata": {},
   "source": [
    "# Data Cleaning "
   ]
  },
  {
   "cell_type": "code",
   "execution_count": 1116,
   "id": "7fa48446",
   "metadata": {
    "scrolled": true
   },
   "outputs": [
    {
     "data": {
      "text/plain": [
       "campaignID              int64\n",
       "date           datetime64[ns]\n",
       "lettersSent            object\n",
       "CostUnit               object\n",
       "dtype: object"
      ]
     },
     "execution_count": 1116,
     "metadata": {},
     "output_type": "execute_result"
    }
   ],
   "source": [
    "#transform date column to datetime\n",
    "\n",
    "campaigns['date'] = pd.to_datetime(campaigns['date'])\n",
    "\n",
    "campaigns.dtypes"
   ]
  },
  {
   "cell_type": "code",
   "execution_count": 1117,
   "id": "3e64f7e2",
   "metadata": {},
   "outputs": [
    {
     "data": {
      "text/html": [
       "<div>\n",
       "<style scoped>\n",
       "    .dataframe tbody tr th:only-of-type {\n",
       "        vertical-align: middle;\n",
       "    }\n",
       "\n",
       "    .dataframe tbody tr th {\n",
       "        vertical-align: top;\n",
       "    }\n",
       "\n",
       "    .dataframe thead th {\n",
       "        text-align: right;\n",
       "    }\n",
       "</style>\n",
       "<table border=\"1\" class=\"dataframe\">\n",
       "  <thead>\n",
       "    <tr style=\"text-align: right;\">\n",
       "      <th></th>\n",
       "      <th>campaignID</th>\n",
       "      <th>date</th>\n",
       "      <th>lettersSent</th>\n",
       "      <th>CostUnit</th>\n",
       "    </tr>\n",
       "  </thead>\n",
       "  <tbody>\n",
       "    <tr>\n",
       "      <th>0</th>\n",
       "      <td>153</td>\n",
       "      <td>2004-12-13</td>\n",
       "      <td>6 873</td>\n",
       "      <td>0,17 €</td>\n",
       "    </tr>\n",
       "    <tr>\n",
       "      <th>1</th>\n",
       "      <td>154</td>\n",
       "      <td>2005-01-01</td>\n",
       "      <td>7 656</td>\n",
       "      <td>0,30 €</td>\n",
       "    </tr>\n",
       "    <tr>\n",
       "      <th>2</th>\n",
       "      <td>180</td>\n",
       "      <td>2005-01-18</td>\n",
       "      <td>9 933</td>\n",
       "      <td>0,20 €</td>\n",
       "    </tr>\n",
       "    <tr>\n",
       "      <th>3</th>\n",
       "      <td>433</td>\n",
       "      <td>2005-01-29</td>\n",
       "      <td>7 448</td>\n",
       "      <td>0,59 €</td>\n",
       "    </tr>\n",
       "    <tr>\n",
       "      <th>4</th>\n",
       "      <td>476</td>\n",
       "      <td>2005-12-02</td>\n",
       "      <td>6 605</td>\n",
       "      <td>0,51 €</td>\n",
       "    </tr>\n",
       "  </tbody>\n",
       "</table>\n",
       "</div>"
      ],
      "text/plain": [
       "   campaignID       date lettersSent CostUnit\n",
       "0         153 2004-12-13       6 873   0,17 €\n",
       "1         154 2005-01-01       7 656   0,30 €\n",
       "2         180 2005-01-18       9 933   0,20 €\n",
       "3         433 2005-01-29       7 448   0,59 €\n",
       "4         476 2005-12-02       6 605   0,51 €"
      ]
     },
     "execution_count": 1117,
     "metadata": {},
     "output_type": "execute_result"
    }
   ],
   "source": [
    "campaigns.head()"
   ]
  },
  {
   "cell_type": "code",
   "execution_count": 1118,
   "id": "34e9a93f",
   "metadata": {
    "scrolled": true
   },
   "outputs": [
    {
     "data": {
      "text/plain": [
       "campaignID              int64\n",
       "date           datetime64[ns]\n",
       "lettersSent             int32\n",
       "CostUnit               object\n",
       "dtype: object"
      ]
     },
     "execution_count": 1118,
     "metadata": {},
     "output_type": "execute_result"
    }
   ],
   "source": [
    "#transform lettersSent to type int \n",
    "\n",
    "campaigns['lettersSent'] = campaigns['lettersSent'].str.replace(\"\\u202f\", \"\")\n",
    "\n",
    "campaigns['lettersSent'] = campaigns['lettersSent'].astype('int')\n",
    "\n",
    "campaigns.dtypes"
   ]
  },
  {
   "cell_type": "code",
   "execution_count": 1119,
   "id": "b2418ffa",
   "metadata": {
    "scrolled": true
   },
   "outputs": [],
   "source": [
    "#reformat costunit and transform to float \n",
    "\n",
    "campaigns['CostUnit'] = campaigns['CostUnit'].str.replace(\"€\",\"\")\n",
    "campaigns['CostUnit'] = campaigns['CostUnit'].str.replace(\",\",\".\")\n",
    "campaigns['CostUnit'] = campaigns['CostUnit'].astype(float)"
   ]
  },
  {
   "cell_type": "code",
   "execution_count": 1120,
   "id": "876d763c",
   "metadata": {},
   "outputs": [],
   "source": [
    "campaigns.rename(columns={\"CostUnit\":\"CostUnit (Euros)\", \"date\":\"campaign date\"},inplace=True)"
   ]
  },
  {
   "cell_type": "code",
   "execution_count": 1121,
   "id": "fdd3ba78",
   "metadata": {},
   "outputs": [],
   "source": [
    "campaigns['campaignID'] = campaigns['campaignID'].astype(str)"
   ]
  },
  {
   "cell_type": "code",
   "execution_count": 1122,
   "id": "7471475c",
   "metadata": {
    "scrolled": false
   },
   "outputs": [
    {
     "data": {
      "text/plain": [
       "campaignID                  object\n",
       "campaign date       datetime64[ns]\n",
       "lettersSent                  int32\n",
       "CostUnit (Euros)           float64\n",
       "dtype: object"
      ]
     },
     "execution_count": 1122,
     "metadata": {},
     "output_type": "execute_result"
    }
   ],
   "source": [
    "campaigns.dtypes"
   ]
  },
  {
   "cell_type": "code",
   "execution_count": 1123,
   "id": "f0a26ce9",
   "metadata": {},
   "outputs": [],
   "source": [
    "#rename columns to campaign specific col names\n",
    "campaigns.rename(columns={\"lettersSent\":\"campaign_lettersSent\",\"CostUnit (Euros)\":\"campaign_cost_per_unit\"},inplace=True)"
   ]
  },
  {
   "cell_type": "code",
   "execution_count": 1124,
   "id": "42d90c73",
   "metadata": {},
   "outputs": [],
   "source": [
    "campaigns_6169 = campaigns[campaigns['campaignID']=='6169']"
   ]
  },
  {
   "cell_type": "code",
   "execution_count": 1125,
   "id": "26ea998e",
   "metadata": {
    "scrolled": true
   },
   "outputs": [
    {
     "data": {
      "text/html": [
       "<div>\n",
       "<style scoped>\n",
       "    .dataframe tbody tr th:only-of-type {\n",
       "        vertical-align: middle;\n",
       "    }\n",
       "\n",
       "    .dataframe tbody tr th {\n",
       "        vertical-align: top;\n",
       "    }\n",
       "\n",
       "    .dataframe thead th {\n",
       "        text-align: right;\n",
       "    }\n",
       "</style>\n",
       "<table border=\"1\" class=\"dataframe\">\n",
       "  <thead>\n",
       "    <tr style=\"text-align: right;\">\n",
       "      <th></th>\n",
       "      <th>campaignID</th>\n",
       "      <th>campaign date</th>\n",
       "      <th>campaign_lettersSent</th>\n",
       "      <th>campaign_cost_per_unit</th>\n",
       "    </tr>\n",
       "  </thead>\n",
       "  <tbody>\n",
       "    <tr>\n",
       "      <th>335</th>\n",
       "      <td>6169</td>\n",
       "      <td>2018-04-09</td>\n",
       "      <td>34888</td>\n",
       "      <td>0.87</td>\n",
       "    </tr>\n",
       "  </tbody>\n",
       "</table>\n",
       "</div>"
      ],
      "text/plain": [
       "    campaignID campaign date  campaign_lettersSent  campaign_cost_per_unit\n",
       "335       6169    2018-04-09                 34888                    0.87"
      ]
     },
     "execution_count": 1125,
     "metadata": {},
     "output_type": "execute_result"
    }
   ],
   "source": [
    "campaigns_6169.head()"
   ]
  },
  {
   "cell_type": "code",
   "execution_count": 1126,
   "id": "2a2bfce7",
   "metadata": {
    "scrolled": true
   },
   "outputs": [
    {
     "data": {
      "text/html": [
       "<div>\n",
       "<style scoped>\n",
       "    .dataframe tbody tr th:only-of-type {\n",
       "        vertical-align: middle;\n",
       "    }\n",
       "\n",
       "    .dataframe tbody tr th {\n",
       "        vertical-align: top;\n",
       "    }\n",
       "\n",
       "    .dataframe thead th {\n",
       "        text-align: right;\n",
       "    }\n",
       "</style>\n",
       "<table border=\"1\" class=\"dataframe\">\n",
       "  <thead>\n",
       "    <tr style=\"text-align: right;\">\n",
       "      <th></th>\n",
       "      <th>Unnamed: 0</th>\n",
       "      <th>donorID</th>\n",
       "      <th>zipcode</th>\n",
       "      <th>province</th>\n",
       "      <th>region</th>\n",
       "      <th>gender</th>\n",
       "      <th>language</th>\n",
       "      <th>dateOfBirth</th>\n",
       "    </tr>\n",
       "  </thead>\n",
       "  <tbody>\n",
       "    <tr>\n",
       "      <th>0</th>\n",
       "      <td>0</td>\n",
       "      <td>100001</td>\n",
       "      <td>1861.0</td>\n",
       "      <td>Flemish Brabant</td>\n",
       "      <td>Flanders</td>\n",
       "      <td>F</td>\n",
       "      <td>NL</td>\n",
       "      <td>12/24/1967</td>\n",
       "    </tr>\n",
       "    <tr>\n",
       "      <th>1</th>\n",
       "      <td>1</td>\n",
       "      <td>100002</td>\n",
       "      <td>2260.0</td>\n",
       "      <td>Antwerp</td>\n",
       "      <td>Flanders</td>\n",
       "      <td>M</td>\n",
       "      <td>NL</td>\n",
       "      <td>01/14/1952</td>\n",
       "    </tr>\n",
       "    <tr>\n",
       "      <th>2</th>\n",
       "      <td>2</td>\n",
       "      <td>100003</td>\n",
       "      <td>1780.0</td>\n",
       "      <td>Flemish Brabant</td>\n",
       "      <td>Flanders</td>\n",
       "      <td>M</td>\n",
       "      <td>NL</td>\n",
       "      <td>12/23/1986</td>\n",
       "    </tr>\n",
       "    <tr>\n",
       "      <th>3</th>\n",
       "      <td>3</td>\n",
       "      <td>100004</td>\n",
       "      <td>1020.0</td>\n",
       "      <td>Brussels</td>\n",
       "      <td>Brussels</td>\n",
       "      <td>F</td>\n",
       "      <td>FR</td>\n",
       "      <td>03/29/1952</td>\n",
       "    </tr>\n",
       "    <tr>\n",
       "      <th>4</th>\n",
       "      <td>4</td>\n",
       "      <td>100005</td>\n",
       "      <td>1020.0</td>\n",
       "      <td>Brussels</td>\n",
       "      <td>Brussels</td>\n",
       "      <td>F</td>\n",
       "      <td>FR</td>\n",
       "      <td>06/25/1986</td>\n",
       "    </tr>\n",
       "  </tbody>\n",
       "</table>\n",
       "</div>"
      ],
      "text/plain": [
       "   Unnamed: 0  donorID  zipcode         province    region gender language  \\\n",
       "0           0   100001   1861.0  Flemish Brabant  Flanders      F       NL   \n",
       "1           1   100002   2260.0          Antwerp  Flanders      M       NL   \n",
       "2           2   100003   1780.0  Flemish Brabant  Flanders      M       NL   \n",
       "3           3   100004   1020.0         Brussels  Brussels      F       FR   \n",
       "4           4   100005   1020.0         Brussels  Brussels      F       FR   \n",
       "\n",
       "  dateOfBirth  \n",
       "0  12/24/1967  \n",
       "1  01/14/1952  \n",
       "2  12/23/1986  \n",
       "3  03/29/1952  \n",
       "4  06/25/1986  "
      ]
     },
     "execution_count": 1126,
     "metadata": {},
     "output_type": "execute_result"
    }
   ],
   "source": [
    "donors.head()"
   ]
  },
  {
   "cell_type": "code",
   "execution_count": 1127,
   "id": "025cbfb6",
   "metadata": {
    "scrolled": true
   },
   "outputs": [
    {
     "name": "stdout",
     "output_type": "stream",
     "text": [
      "<class 'pandas.core.frame.DataFrame'>\n",
      "RangeIndex: 44691 entries, 0 to 44690\n",
      "Data columns (total 8 columns):\n",
      " #   Column       Non-Null Count  Dtype  \n",
      "---  ------       --------------  -----  \n",
      " 0   Unnamed: 0   44691 non-null  int64  \n",
      " 1   donorID      44691 non-null  int64  \n",
      " 2   zipcode      44689 non-null  float64\n",
      " 3   province     44691 non-null  object \n",
      " 4   region       44691 non-null  object \n",
      " 5   gender       44659 non-null  object \n",
      " 6   language     44691 non-null  object \n",
      " 7   dateOfBirth  44691 non-null  object \n",
      "dtypes: float64(1), int64(2), object(5)\n",
      "memory usage: 2.7+ MB\n"
     ]
    }
   ],
   "source": [
    "donors.info()"
   ]
  },
  {
   "cell_type": "markdown",
   "id": "dfdcf3e4",
   "metadata": {},
   "source": [
    "# Data Cleaning & Feature Engineering"
   ]
  },
  {
   "cell_type": "code",
   "execution_count": 1128,
   "id": "a793a1ee",
   "metadata": {
    "scrolled": true
   },
   "outputs": [
    {
     "data": {
      "text/html": [
       "<div>\n",
       "<style scoped>\n",
       "    .dataframe tbody tr th:only-of-type {\n",
       "        vertical-align: middle;\n",
       "    }\n",
       "\n",
       "    .dataframe tbody tr th {\n",
       "        vertical-align: top;\n",
       "    }\n",
       "\n",
       "    .dataframe thead th {\n",
       "        text-align: right;\n",
       "    }\n",
       "</style>\n",
       "<table border=\"1\" class=\"dataframe\">\n",
       "  <thead>\n",
       "    <tr style=\"text-align: right;\">\n",
       "      <th></th>\n",
       "      <th>donorID</th>\n",
       "      <th>zipcode</th>\n",
       "      <th>province</th>\n",
       "      <th>region</th>\n",
       "      <th>gender</th>\n",
       "      <th>language</th>\n",
       "      <th>dateOfBirth</th>\n",
       "    </tr>\n",
       "  </thead>\n",
       "  <tbody>\n",
       "    <tr>\n",
       "      <th>0</th>\n",
       "      <td>100001</td>\n",
       "      <td>1861.0</td>\n",
       "      <td>Flemish Brabant</td>\n",
       "      <td>Flanders</td>\n",
       "      <td>F</td>\n",
       "      <td>NL</td>\n",
       "      <td>12/24/1967</td>\n",
       "    </tr>\n",
       "    <tr>\n",
       "      <th>1</th>\n",
       "      <td>100002</td>\n",
       "      <td>2260.0</td>\n",
       "      <td>Antwerp</td>\n",
       "      <td>Flanders</td>\n",
       "      <td>M</td>\n",
       "      <td>NL</td>\n",
       "      <td>01/14/1952</td>\n",
       "    </tr>\n",
       "    <tr>\n",
       "      <th>2</th>\n",
       "      <td>100003</td>\n",
       "      <td>1780.0</td>\n",
       "      <td>Flemish Brabant</td>\n",
       "      <td>Flanders</td>\n",
       "      <td>M</td>\n",
       "      <td>NL</td>\n",
       "      <td>12/23/1986</td>\n",
       "    </tr>\n",
       "    <tr>\n",
       "      <th>3</th>\n",
       "      <td>100004</td>\n",
       "      <td>1020.0</td>\n",
       "      <td>Brussels</td>\n",
       "      <td>Brussels</td>\n",
       "      <td>F</td>\n",
       "      <td>FR</td>\n",
       "      <td>03/29/1952</td>\n",
       "    </tr>\n",
       "    <tr>\n",
       "      <th>4</th>\n",
       "      <td>100005</td>\n",
       "      <td>1020.0</td>\n",
       "      <td>Brussels</td>\n",
       "      <td>Brussels</td>\n",
       "      <td>F</td>\n",
       "      <td>FR</td>\n",
       "      <td>06/25/1986</td>\n",
       "    </tr>\n",
       "  </tbody>\n",
       "</table>\n",
       "</div>"
      ],
      "text/plain": [
       "   donorID  zipcode         province    region gender language dateOfBirth\n",
       "0   100001   1861.0  Flemish Brabant  Flanders      F       NL  12/24/1967\n",
       "1   100002   2260.0          Antwerp  Flanders      M       NL  01/14/1952\n",
       "2   100003   1780.0  Flemish Brabant  Flanders      M       NL  12/23/1986\n",
       "3   100004   1020.0         Brussels  Brussels      F       FR  03/29/1952\n",
       "4   100005   1020.0         Brussels  Brussels      F       FR  06/25/1986"
      ]
     },
     "execution_count": 1128,
     "metadata": {},
     "output_type": "execute_result"
    }
   ],
   "source": [
    "#drop old index column\n",
    "\n",
    "donors.drop(['Unnamed: 0'],inplace=True, axis=1)\n",
    "\n",
    "donors.head()"
   ]
  },
  {
   "cell_type": "code",
   "execution_count": 1129,
   "id": "2a45e6da",
   "metadata": {},
   "outputs": [],
   "source": [
    "#drop the two na values in zipcode column\n",
    "donors.dropna(subset = ['zipcode'], inplace=True)"
   ]
  },
  {
   "cell_type": "code",
   "execution_count": 1130,
   "id": "b4f20cf2",
   "metadata": {},
   "outputs": [],
   "source": [
    "donors['zipcode'] = donors['zipcode'].astype(float)\n",
    "donors['zipcode'] = donors['zipcode'].astype(int)\n",
    "donors['zipcode'] = donors['zipcode'].astype(str)"
   ]
  },
  {
   "cell_type": "code",
   "execution_count": 1131,
   "id": "8f463f83",
   "metadata": {},
   "outputs": [],
   "source": [
    "#transform date column to datetime\n",
    "\n",
    "donors['dateOfBirth'] = pd.to_datetime(donors['dateOfBirth'])"
   ]
  },
  {
   "cell_type": "code",
   "execution_count": 1132,
   "id": "70c73040",
   "metadata": {
    "scrolled": false
   },
   "outputs": [
    {
     "data": {
      "text/plain": [
       "donorID                 int64\n",
       "zipcode                object\n",
       "province               object\n",
       "region                 object\n",
       "gender                 object\n",
       "language               object\n",
       "dateOfBirth    datetime64[ns]\n",
       "dtype: object"
      ]
     },
     "execution_count": 1132,
     "metadata": {},
     "output_type": "execute_result"
    }
   ],
   "source": [
    "donors.dtypes"
   ]
  },
  {
   "cell_type": "code",
   "execution_count": 1133,
   "id": "c74424d6",
   "metadata": {
    "scrolled": true
   },
   "outputs": [
    {
     "data": {
      "text/plain": [
       "Antwerp            10293\n",
       "East Flanders       9137\n",
       "West Flanders       8964\n",
       "Flemish Brabant     6781\n",
       "Limburg             4818\n",
       "Brussels            1488\n",
       "Liege                970\n",
       "Hainaut              944\n",
       "Walloon Brabant      433\n",
       "Namur                401\n",
       "Luxembourg           303\n",
       "ANTWERP              157\n",
       "Name: province, dtype: int64"
      ]
     },
     "execution_count": 1133,
     "metadata": {},
     "output_type": "execute_result"
    }
   ],
   "source": [
    "donors['province'].value_counts()"
   ]
  },
  {
   "cell_type": "code",
   "execution_count": 1134,
   "id": "f49cad0d",
   "metadata": {},
   "outputs": [],
   "source": [
    "donors['province'] = np.where(donors['province'] == 'ANTWERP','Antwerp',donors['province'])"
   ]
  },
  {
   "cell_type": "code",
   "execution_count": 1135,
   "id": "6ddd6e6b",
   "metadata": {
    "scrolled": true
   },
   "outputs": [
    {
     "data": {
      "text/plain": [
       "Antwerp            10450\n",
       "East Flanders       9137\n",
       "West Flanders       8964\n",
       "Flemish Brabant     6781\n",
       "Limburg             4818\n",
       "Brussels            1488\n",
       "Liege                970\n",
       "Hainaut              944\n",
       "Walloon Brabant      433\n",
       "Namur                401\n",
       "Luxembourg           303\n",
       "Name: province, dtype: int64"
      ]
     },
     "execution_count": 1135,
     "metadata": {},
     "output_type": "execute_result"
    }
   ],
   "source": [
    "donors['province'].value_counts()"
   ]
  },
  {
   "cell_type": "code",
   "execution_count": 1136,
   "id": "b21c876b",
   "metadata": {
    "scrolled": true
   },
   "outputs": [
    {
     "data": {
      "text/plain": [
       "Flanders    40150\n",
       "Wallonia     3051\n",
       "Brussels     1488\n",
       "Name: region, dtype: int64"
      ]
     },
     "execution_count": 1136,
     "metadata": {},
     "output_type": "execute_result"
    }
   ],
   "source": [
    "donors['region'].value_counts()"
   ]
  },
  {
   "cell_type": "code",
   "execution_count": 1137,
   "id": "d125c2c1",
   "metadata": {
    "scrolled": true
   },
   "outputs": [
    {
     "data": {
      "text/plain": [
       "NL    40063\n",
       "FR     4622\n",
       "EN        4\n",
       "Name: language, dtype: int64"
      ]
     },
     "execution_count": 1137,
     "metadata": {},
     "output_type": "execute_result"
    }
   ],
   "source": [
    "donors['language'].value_counts()"
   ]
  },
  {
   "cell_type": "code",
   "execution_count": 1138,
   "id": "523105eb",
   "metadata": {
    "scrolled": true
   },
   "outputs": [
    {
     "data": {
      "text/plain": [
       "M    25790\n",
       "F    18867\n",
       "Name: gender, dtype: int64"
      ]
     },
     "execution_count": 1138,
     "metadata": {},
     "output_type": "execute_result"
    }
   ],
   "source": [
    "donors['gender'].value_counts()"
   ]
  },
  {
   "cell_type": "code",
   "execution_count": 1139,
   "id": "bbe66411",
   "metadata": {},
   "outputs": [],
   "source": [
    "#create third gender category for undisclosed gender\n",
    "\n",
    "donors['gender'] = np.where(donors['gender'].isnull(),'undisclosed',donors['gender'])"
   ]
  },
  {
   "cell_type": "code",
   "execution_count": 1140,
   "id": "b9c29249",
   "metadata": {
    "scrolled": true
   },
   "outputs": [
    {
     "data": {
      "text/plain": [
       "M              25790\n",
       "F              18867\n",
       "undisclosed       32\n",
       "Name: gender, dtype: int64"
      ]
     },
     "execution_count": 1140,
     "metadata": {},
     "output_type": "execute_result"
    }
   ],
   "source": [
    "donors['gender'].value_counts()"
   ]
  },
  {
   "cell_type": "code",
   "execution_count": 1141,
   "id": "a1aed522",
   "metadata": {
    "scrolled": false
   },
   "outputs": [
    {
     "name": "stdout",
     "output_type": "stream",
     "text": [
      "<class 'pandas.core.frame.DataFrame'>\n",
      "Int64Index: 44689 entries, 0 to 44690\n",
      "Data columns (total 7 columns):\n",
      " #   Column       Non-Null Count  Dtype         \n",
      "---  ------       --------------  -----         \n",
      " 0   donorID      44689 non-null  int64         \n",
      " 1   zipcode      44689 non-null  object        \n",
      " 2   province     44689 non-null  object        \n",
      " 3   region       44689 non-null  object        \n",
      " 4   gender       44689 non-null  object        \n",
      " 5   language     44689 non-null  object        \n",
      " 6   dateOfBirth  44689 non-null  datetime64[ns]\n",
      "dtypes: datetime64[ns](1), int64(1), object(5)\n",
      "memory usage: 2.7+ MB\n"
     ]
    }
   ],
   "source": [
    "donors.info()"
   ]
  },
  {
   "cell_type": "code",
   "execution_count": 1142,
   "id": "9b770f8d",
   "metadata": {},
   "outputs": [],
   "source": [
    "#rename columns to donor specific names\n",
    "donors.rename(columns={\"zipcode\":\"donors_zip\",\"province\":\"donors_province\",\"region\":\"donors_region\",\"gender\":\"donors_gender\",\"language\":\"donors_language\",\"dateOfBirth\":\"donors_DOB\"},inplace=True)"
   ]
  },
  {
   "cell_type": "code",
   "execution_count": 1143,
   "id": "cbc795f6",
   "metadata": {
    "scrolled": true
   },
   "outputs": [
    {
     "data": {
      "text/html": [
       "<div>\n",
       "<style scoped>\n",
       "    .dataframe tbody tr th:only-of-type {\n",
       "        vertical-align: middle;\n",
       "    }\n",
       "\n",
       "    .dataframe tbody tr th {\n",
       "        vertical-align: top;\n",
       "    }\n",
       "\n",
       "    .dataframe thead th {\n",
       "        text-align: right;\n",
       "    }\n",
       "</style>\n",
       "<table border=\"1\" class=\"dataframe\">\n",
       "  <thead>\n",
       "    <tr style=\"text-align: right;\">\n",
       "      <th></th>\n",
       "      <th>donorID</th>\n",
       "      <th>donors_zip</th>\n",
       "      <th>donors_province</th>\n",
       "      <th>donors_region</th>\n",
       "      <th>donors_gender</th>\n",
       "      <th>donors_language</th>\n",
       "      <th>donors_DOB</th>\n",
       "    </tr>\n",
       "  </thead>\n",
       "  <tbody>\n",
       "    <tr>\n",
       "      <th>0</th>\n",
       "      <td>100001</td>\n",
       "      <td>1861</td>\n",
       "      <td>Flemish Brabant</td>\n",
       "      <td>Flanders</td>\n",
       "      <td>F</td>\n",
       "      <td>NL</td>\n",
       "      <td>1967-12-24</td>\n",
       "    </tr>\n",
       "    <tr>\n",
       "      <th>1</th>\n",
       "      <td>100002</td>\n",
       "      <td>2260</td>\n",
       "      <td>Antwerp</td>\n",
       "      <td>Flanders</td>\n",
       "      <td>M</td>\n",
       "      <td>NL</td>\n",
       "      <td>1952-01-14</td>\n",
       "    </tr>\n",
       "    <tr>\n",
       "      <th>2</th>\n",
       "      <td>100003</td>\n",
       "      <td>1780</td>\n",
       "      <td>Flemish Brabant</td>\n",
       "      <td>Flanders</td>\n",
       "      <td>M</td>\n",
       "      <td>NL</td>\n",
       "      <td>1986-12-23</td>\n",
       "    </tr>\n",
       "    <tr>\n",
       "      <th>3</th>\n",
       "      <td>100004</td>\n",
       "      <td>1020</td>\n",
       "      <td>Brussels</td>\n",
       "      <td>Brussels</td>\n",
       "      <td>F</td>\n",
       "      <td>FR</td>\n",
       "      <td>1952-03-29</td>\n",
       "    </tr>\n",
       "    <tr>\n",
       "      <th>4</th>\n",
       "      <td>100005</td>\n",
       "      <td>1020</td>\n",
       "      <td>Brussels</td>\n",
       "      <td>Brussels</td>\n",
       "      <td>F</td>\n",
       "      <td>FR</td>\n",
       "      <td>1986-06-25</td>\n",
       "    </tr>\n",
       "  </tbody>\n",
       "</table>\n",
       "</div>"
      ],
      "text/plain": [
       "   donorID donors_zip  donors_province donors_region donors_gender  \\\n",
       "0   100001       1861  Flemish Brabant      Flanders             F   \n",
       "1   100002       2260          Antwerp      Flanders             M   \n",
       "2   100003       1780  Flemish Brabant      Flanders             M   \n",
       "3   100004       1020         Brussels      Brussels             F   \n",
       "4   100005       1020         Brussels      Brussels             F   \n",
       "\n",
       "  donors_language donors_DOB  \n",
       "0              NL 1967-12-24  \n",
       "1              NL 1952-01-14  \n",
       "2              NL 1986-12-23  \n",
       "3              FR 1952-03-29  \n",
       "4              FR 1986-06-25  "
      ]
     },
     "execution_count": 1143,
     "metadata": {},
     "output_type": "execute_result"
    }
   ],
   "source": [
    "donors.head()"
   ]
  },
  {
   "cell_type": "code",
   "execution_count": 1144,
   "id": "7c26859d",
   "metadata": {
    "scrolled": false
   },
   "outputs": [
    {
     "data": {
      "text/html": [
       "<div>\n",
       "<style scoped>\n",
       "    .dataframe tbody tr th:only-of-type {\n",
       "        vertical-align: middle;\n",
       "    }\n",
       "\n",
       "    .dataframe tbody tr th {\n",
       "        vertical-align: top;\n",
       "    }\n",
       "\n",
       "    .dataframe thead th {\n",
       "        text-align: right;\n",
       "    }\n",
       "</style>\n",
       "<table border=\"1\" class=\"dataframe\">\n",
       "  <thead>\n",
       "    <tr style=\"text-align: right;\">\n",
       "      <th></th>\n",
       "      <th>donorID</th>\n",
       "      <th>donors_zip</th>\n",
       "      <th>donors_province</th>\n",
       "      <th>donors_region</th>\n",
       "      <th>donors_gender</th>\n",
       "      <th>donors_language</th>\n",
       "      <th>donors_DOB</th>\n",
       "      <th>yob</th>\n",
       "      <th>age</th>\n",
       "    </tr>\n",
       "  </thead>\n",
       "  <tbody>\n",
       "    <tr>\n",
       "      <th>0</th>\n",
       "      <td>100001</td>\n",
       "      <td>1861</td>\n",
       "      <td>Flemish Brabant</td>\n",
       "      <td>Flanders</td>\n",
       "      <td>F</td>\n",
       "      <td>NL</td>\n",
       "      <td>1967-12-24</td>\n",
       "      <td>1967</td>\n",
       "      <td>51</td>\n",
       "    </tr>\n",
       "    <tr>\n",
       "      <th>1</th>\n",
       "      <td>100002</td>\n",
       "      <td>2260</td>\n",
       "      <td>Antwerp</td>\n",
       "      <td>Flanders</td>\n",
       "      <td>M</td>\n",
       "      <td>NL</td>\n",
       "      <td>1952-01-14</td>\n",
       "      <td>1952</td>\n",
       "      <td>66</td>\n",
       "    </tr>\n",
       "    <tr>\n",
       "      <th>2</th>\n",
       "      <td>100003</td>\n",
       "      <td>1780</td>\n",
       "      <td>Flemish Brabant</td>\n",
       "      <td>Flanders</td>\n",
       "      <td>M</td>\n",
       "      <td>NL</td>\n",
       "      <td>1986-12-23</td>\n",
       "      <td>1986</td>\n",
       "      <td>32</td>\n",
       "    </tr>\n",
       "    <tr>\n",
       "      <th>3</th>\n",
       "      <td>100004</td>\n",
       "      <td>1020</td>\n",
       "      <td>Brussels</td>\n",
       "      <td>Brussels</td>\n",
       "      <td>F</td>\n",
       "      <td>FR</td>\n",
       "      <td>1952-03-29</td>\n",
       "      <td>1952</td>\n",
       "      <td>66</td>\n",
       "    </tr>\n",
       "    <tr>\n",
       "      <th>4</th>\n",
       "      <td>100005</td>\n",
       "      <td>1020</td>\n",
       "      <td>Brussels</td>\n",
       "      <td>Brussels</td>\n",
       "      <td>F</td>\n",
       "      <td>FR</td>\n",
       "      <td>1986-06-25</td>\n",
       "      <td>1986</td>\n",
       "      <td>32</td>\n",
       "    </tr>\n",
       "  </tbody>\n",
       "</table>\n",
       "</div>"
      ],
      "text/plain": [
       "   donorID donors_zip  donors_province donors_region donors_gender  \\\n",
       "0   100001       1861  Flemish Brabant      Flanders             F   \n",
       "1   100002       2260          Antwerp      Flanders             M   \n",
       "2   100003       1780  Flemish Brabant      Flanders             M   \n",
       "3   100004       1020         Brussels      Brussels             F   \n",
       "4   100005       1020         Brussels      Brussels             F   \n",
       "\n",
       "  donors_language donors_DOB   yob  age  \n",
       "0              NL 1967-12-24  1967   51  \n",
       "1              NL 1952-01-14  1952   66  \n",
       "2              NL 1986-12-23  1986   32  \n",
       "3              FR 1952-03-29  1952   66  \n",
       "4              FR 1986-06-25  1986   32  "
      ]
     },
     "execution_count": 1144,
     "metadata": {},
     "output_type": "execute_result"
    }
   ],
   "source": [
    "donors[\"yob\"] = donors['donors_DOB'].astype(str).str[:4].astype(int)\n",
    "donors[\"age\"] = 2018 - donors[\"yob\"]\n",
    "donors.head()"
   ]
  },
  {
   "cell_type": "code",
   "execution_count": 1145,
   "id": "f41d5c46",
   "metadata": {},
   "outputs": [],
   "source": [
    "donors['donorID'] = donors['donorID'].astype(str)"
   ]
  },
  {
   "cell_type": "code",
   "execution_count": 1146,
   "id": "f89baaad",
   "metadata": {
    "scrolled": true
   },
   "outputs": [
    {
     "data": {
      "text/plain": [
       "donorID                    object\n",
       "donors_zip                 object\n",
       "donors_province            object\n",
       "donors_region              object\n",
       "donors_gender              object\n",
       "donors_language            object\n",
       "donors_DOB         datetime64[ns]\n",
       "yob                         int32\n",
       "age                         int32\n",
       "dtype: object"
      ]
     },
     "execution_count": 1146,
     "metadata": {},
     "output_type": "execute_result"
    }
   ],
   "source": [
    "donors.dtypes"
   ]
  },
  {
   "cell_type": "code",
   "execution_count": 1147,
   "id": "4f80fa91",
   "metadata": {},
   "outputs": [],
   "source": [
    "#encoding for categoricals\n",
    "\n",
    "l_province = LabelEncoder()\n",
    "donors[\"donors_province\"] = l_province.fit_transform(donors[\"donors_province\"])\n",
    "\n",
    "l_region = LabelEncoder()\n",
    "donors[\"donors_region\"] = l_region.fit_transform(donors[\"donors_region\"])\n",
    "\n",
    "l_gender = LabelEncoder()\n",
    "donors[\"donors_gender\"] = l_gender.fit_transform(donors[\"donors_gender\"])\n",
    "\n",
    "l_language = LabelEncoder()\n",
    "donors[\"donors_language\"] = l_language.fit_transform(donors[\"donors_language\"])"
   ]
  },
  {
   "cell_type": "code",
   "execution_count": 1148,
   "id": "aa5b79b9",
   "metadata": {
    "scrolled": true
   },
   "outputs": [
    {
     "data": {
      "text/html": [
       "<div>\n",
       "<style scoped>\n",
       "    .dataframe tbody tr th:only-of-type {\n",
       "        vertical-align: middle;\n",
       "    }\n",
       "\n",
       "    .dataframe tbody tr th {\n",
       "        vertical-align: top;\n",
       "    }\n",
       "\n",
       "    .dataframe thead th {\n",
       "        text-align: right;\n",
       "    }\n",
       "</style>\n",
       "<table border=\"1\" class=\"dataframe\">\n",
       "  <thead>\n",
       "    <tr style=\"text-align: right;\">\n",
       "      <th></th>\n",
       "      <th>donorID</th>\n",
       "      <th>donors_zip</th>\n",
       "      <th>donors_province</th>\n",
       "      <th>donors_region</th>\n",
       "      <th>donors_gender</th>\n",
       "      <th>donors_language</th>\n",
       "      <th>donors_DOB</th>\n",
       "      <th>yob</th>\n",
       "      <th>age</th>\n",
       "    </tr>\n",
       "  </thead>\n",
       "  <tbody>\n",
       "    <tr>\n",
       "      <th>0</th>\n",
       "      <td>100001</td>\n",
       "      <td>1861</td>\n",
       "      <td>3</td>\n",
       "      <td>1</td>\n",
       "      <td>0</td>\n",
       "      <td>2</td>\n",
       "      <td>1967-12-24</td>\n",
       "      <td>1967</td>\n",
       "      <td>51</td>\n",
       "    </tr>\n",
       "    <tr>\n",
       "      <th>1</th>\n",
       "      <td>100002</td>\n",
       "      <td>2260</td>\n",
       "      <td>0</td>\n",
       "      <td>1</td>\n",
       "      <td>1</td>\n",
       "      <td>2</td>\n",
       "      <td>1952-01-14</td>\n",
       "      <td>1952</td>\n",
       "      <td>66</td>\n",
       "    </tr>\n",
       "    <tr>\n",
       "      <th>2</th>\n",
       "      <td>100003</td>\n",
       "      <td>1780</td>\n",
       "      <td>3</td>\n",
       "      <td>1</td>\n",
       "      <td>1</td>\n",
       "      <td>2</td>\n",
       "      <td>1986-12-23</td>\n",
       "      <td>1986</td>\n",
       "      <td>32</td>\n",
       "    </tr>\n",
       "    <tr>\n",
       "      <th>3</th>\n",
       "      <td>100004</td>\n",
       "      <td>1020</td>\n",
       "      <td>1</td>\n",
       "      <td>0</td>\n",
       "      <td>0</td>\n",
       "      <td>1</td>\n",
       "      <td>1952-03-29</td>\n",
       "      <td>1952</td>\n",
       "      <td>66</td>\n",
       "    </tr>\n",
       "    <tr>\n",
       "      <th>4</th>\n",
       "      <td>100005</td>\n",
       "      <td>1020</td>\n",
       "      <td>1</td>\n",
       "      <td>0</td>\n",
       "      <td>0</td>\n",
       "      <td>1</td>\n",
       "      <td>1986-06-25</td>\n",
       "      <td>1986</td>\n",
       "      <td>32</td>\n",
       "    </tr>\n",
       "  </tbody>\n",
       "</table>\n",
       "</div>"
      ],
      "text/plain": [
       "  donorID donors_zip  donors_province  donors_region  donors_gender  \\\n",
       "0  100001       1861                3              1              0   \n",
       "1  100002       2260                0              1              1   \n",
       "2  100003       1780                3              1              1   \n",
       "3  100004       1020                1              0              0   \n",
       "4  100005       1020                1              0              0   \n",
       "\n",
       "   donors_language donors_DOB   yob  age  \n",
       "0                2 1967-12-24  1967   51  \n",
       "1                2 1952-01-14  1952   66  \n",
       "2                2 1986-12-23  1986   32  \n",
       "3                1 1952-03-29  1952   66  \n",
       "4                1 1986-06-25  1986   32  "
      ]
     },
     "execution_count": 1148,
     "metadata": {},
     "output_type": "execute_result"
    }
   ],
   "source": [
    "donors.head()"
   ]
  },
  {
   "cell_type": "code",
   "execution_count": 1149,
   "id": "a5b06ea3",
   "metadata": {
    "scrolled": true
   },
   "outputs": [
    {
     "data": {
      "text/html": [
       "<div>\n",
       "<style scoped>\n",
       "    .dataframe tbody tr th:only-of-type {\n",
       "        vertical-align: middle;\n",
       "    }\n",
       "\n",
       "    .dataframe tbody tr th {\n",
       "        vertical-align: top;\n",
       "    }\n",
       "\n",
       "    .dataframe thead th {\n",
       "        text-align: right;\n",
       "    }\n",
       "</style>\n",
       "<table border=\"1\" class=\"dataframe\">\n",
       "  <thead>\n",
       "    <tr style=\"text-align: right;\">\n",
       "      <th></th>\n",
       "      <th>Unnamed: 0</th>\n",
       "      <th>donorID</th>\n",
       "      <th>campaignID</th>\n",
       "      <th>amount</th>\n",
       "      <th>date</th>\n",
       "    </tr>\n",
       "  </thead>\n",
       "  <tbody>\n",
       "    <tr>\n",
       "      <th>0</th>\n",
       "      <td>0</td>\n",
       "      <td>100001</td>\n",
       "      <td>NaN</td>\n",
       "      <td>12,39</td>\n",
       "      <td>2004-03-23</td>\n",
       "    </tr>\n",
       "    <tr>\n",
       "      <th>1</th>\n",
       "      <td>1</td>\n",
       "      <td>100001</td>\n",
       "      <td>1577.0</td>\n",
       "      <td>12,39</td>\n",
       "      <td>2007-10-11</td>\n",
       "    </tr>\n",
       "    <tr>\n",
       "      <th>2</th>\n",
       "      <td>2</td>\n",
       "      <td>100001</td>\n",
       "      <td>1634.0</td>\n",
       "      <td>6,69</td>\n",
       "      <td>2007-12-28</td>\n",
       "    </tr>\n",
       "    <tr>\n",
       "      <th>3</th>\n",
       "      <td>3</td>\n",
       "      <td>100001</td>\n",
       "      <td>1778.0</td>\n",
       "      <td>24,79</td>\n",
       "      <td>2008-06-14</td>\n",
       "    </tr>\n",
       "    <tr>\n",
       "      <th>4</th>\n",
       "      <td>4</td>\n",
       "      <td>100001</td>\n",
       "      <td>1808.0</td>\n",
       "      <td>7,44</td>\n",
       "      <td>2008-07-09</td>\n",
       "    </tr>\n",
       "  </tbody>\n",
       "</table>\n",
       "</div>"
      ],
      "text/plain": [
       "   Unnamed: 0  donorID  campaignID amount        date\n",
       "0           0   100001         NaN  12,39  2004-03-23\n",
       "1           1   100001      1577.0  12,39  2007-10-11\n",
       "2           2   100001      1634.0   6,69  2007-12-28\n",
       "3           3   100001      1778.0  24,79  2008-06-14\n",
       "4           4   100001      1808.0   7,44  2008-07-09"
      ]
     },
     "execution_count": 1149,
     "metadata": {},
     "output_type": "execute_result"
    }
   ],
   "source": [
    "gifts.head()"
   ]
  },
  {
   "cell_type": "code",
   "execution_count": 1150,
   "id": "387cfa3b",
   "metadata": {},
   "outputs": [],
   "source": [
    "#drop Unnamed: 0 column\n",
    "\n",
    "gifts.drop(['Unnamed: 0'],inplace=True, axis=1)"
   ]
  },
  {
   "cell_type": "code",
   "execution_count": 1151,
   "id": "ef509563",
   "metadata": {
    "scrolled": false
   },
   "outputs": [
    {
     "name": "stdout",
     "output_type": "stream",
     "text": [
      "<class 'pandas.core.frame.DataFrame'>\n",
      "RangeIndex: 216594 entries, 0 to 216593\n",
      "Data columns (total 4 columns):\n",
      " #   Column      Non-Null Count   Dtype  \n",
      "---  ------      --------------   -----  \n",
      " 0   donorID     216594 non-null  int64  \n",
      " 1   campaignID  200957 non-null  float64\n",
      " 2   amount      216594 non-null  object \n",
      " 3   date        216594 non-null  object \n",
      "dtypes: float64(1), int64(1), object(2)\n",
      "memory usage: 6.6+ MB\n"
     ]
    }
   ],
   "source": [
    "gifts.info()"
   ]
  },
  {
   "cell_type": "code",
   "execution_count": 1152,
   "id": "1fed442d",
   "metadata": {},
   "outputs": [],
   "source": [
    "#transform donation date to datetime\n",
    "gifts['date'] = pd.to_datetime(gifts['date'])"
   ]
  },
  {
   "cell_type": "code",
   "execution_count": 1153,
   "id": "bd55a774",
   "metadata": {},
   "outputs": [],
   "source": [
    "#transform amount column to correct format and float type\n",
    "\n",
    "gifts['amount'] = gifts['amount'].str.replace(\",\",\".\")\n",
    "gifts['amount'] = gifts['amount'].astype(float)"
   ]
  },
  {
   "cell_type": "code",
   "execution_count": 1154,
   "id": "f2b3ec2e",
   "metadata": {},
   "outputs": [],
   "source": [
    "#convert campaignId type to int in order to get rid of float point \n",
    "#preliminary step is converting NaN to 0 \n",
    "#convert 0 (missing) to no_campaign\n",
    "gifts['campaignID'] = np.where(gifts['campaignID'].isnull(), 0 ,gifts['campaignID'])\n",
    "gifts['campaignID'] = gifts['campaignID'].astype(int)\n",
    "gifts['campaignID'] = gifts['campaignID'].astype(str)"
   ]
  },
  {
   "cell_type": "code",
   "execution_count": 1155,
   "id": "d112aed5",
   "metadata": {},
   "outputs": [],
   "source": [
    "gifts['campaignID'] = np.where(gifts['campaignID'] == '0', \"no_campaign\", gifts['campaignID'])"
   ]
  },
  {
   "cell_type": "code",
   "execution_count": 1156,
   "id": "12fe022d",
   "metadata": {
    "scrolled": false
   },
   "outputs": [
    {
     "name": "stdout",
     "output_type": "stream",
     "text": [
      "<class 'pandas.core.frame.DataFrame'>\n",
      "RangeIndex: 216594 entries, 0 to 216593\n",
      "Data columns (total 4 columns):\n",
      " #   Column      Non-Null Count   Dtype         \n",
      "---  ------      --------------   -----         \n",
      " 0   donorID     216594 non-null  int64         \n",
      " 1   campaignID  216594 non-null  object        \n",
      " 2   amount      216594 non-null  float64       \n",
      " 3   date        216594 non-null  datetime64[ns]\n",
      "dtypes: datetime64[ns](1), float64(1), int64(1), object(1)\n",
      "memory usage: 6.6+ MB\n"
     ]
    }
   ],
   "source": [
    "gifts.info()"
   ]
  },
  {
   "cell_type": "code",
   "execution_count": 1157,
   "id": "91290d75",
   "metadata": {},
   "outputs": [],
   "source": [
    "gifts['donorID'] = gifts['donorID'].astype(str)"
   ]
  },
  {
   "cell_type": "code",
   "execution_count": 1158,
   "id": "04d868ed",
   "metadata": {
    "scrolled": true
   },
   "outputs": [
    {
     "data": {
      "text/plain": [
       "donorID               object\n",
       "campaignID            object\n",
       "amount               float64\n",
       "date          datetime64[ns]\n",
       "dtype: object"
      ]
     },
     "execution_count": 1158,
     "metadata": {},
     "output_type": "execute_result"
    }
   ],
   "source": [
    "gifts.dtypes"
   ]
  },
  {
   "cell_type": "code",
   "execution_count": 1159,
   "id": "88d12cad",
   "metadata": {},
   "outputs": [],
   "source": [
    "gifts.rename(columns={\"donorID\":\"donation_donorID\",\"campaignID\":\"donation_campaignID\",\"amount\":\"donation_amount\",\"date\":\"donation_date\"},inplace=True)"
   ]
  },
  {
   "cell_type": "code",
   "execution_count": 1160,
   "id": "b82cd412",
   "metadata": {
    "scrolled": true
   },
   "outputs": [
    {
     "data": {
      "text/html": [
       "<div>\n",
       "<style scoped>\n",
       "    .dataframe tbody tr th:only-of-type {\n",
       "        vertical-align: middle;\n",
       "    }\n",
       "\n",
       "    .dataframe tbody tr th {\n",
       "        vertical-align: top;\n",
       "    }\n",
       "\n",
       "    .dataframe thead th {\n",
       "        text-align: right;\n",
       "    }\n",
       "</style>\n",
       "<table border=\"1\" class=\"dataframe\">\n",
       "  <thead>\n",
       "    <tr style=\"text-align: right;\">\n",
       "      <th></th>\n",
       "      <th>donation_donorID</th>\n",
       "      <th>donation_campaignID</th>\n",
       "      <th>donation_amount</th>\n",
       "      <th>donation_date</th>\n",
       "    </tr>\n",
       "  </thead>\n",
       "  <tbody>\n",
       "    <tr>\n",
       "      <th>0</th>\n",
       "      <td>100001</td>\n",
       "      <td>no_campaign</td>\n",
       "      <td>12.39</td>\n",
       "      <td>2004-03-23</td>\n",
       "    </tr>\n",
       "    <tr>\n",
       "      <th>1</th>\n",
       "      <td>100001</td>\n",
       "      <td>1577</td>\n",
       "      <td>12.39</td>\n",
       "      <td>2007-10-11</td>\n",
       "    </tr>\n",
       "    <tr>\n",
       "      <th>2</th>\n",
       "      <td>100001</td>\n",
       "      <td>1634</td>\n",
       "      <td>6.69</td>\n",
       "      <td>2007-12-28</td>\n",
       "    </tr>\n",
       "    <tr>\n",
       "      <th>3</th>\n",
       "      <td>100001</td>\n",
       "      <td>1778</td>\n",
       "      <td>24.79</td>\n",
       "      <td>2008-06-14</td>\n",
       "    </tr>\n",
       "    <tr>\n",
       "      <th>4</th>\n",
       "      <td>100001</td>\n",
       "      <td>1808</td>\n",
       "      <td>7.44</td>\n",
       "      <td>2008-07-09</td>\n",
       "    </tr>\n",
       "  </tbody>\n",
       "</table>\n",
       "</div>"
      ],
      "text/plain": [
       "  donation_donorID donation_campaignID  donation_amount donation_date\n",
       "0           100001         no_campaign            12.39    2004-03-23\n",
       "1           100001                1577            12.39    2007-10-11\n",
       "2           100001                1634             6.69    2007-12-28\n",
       "3           100001                1778            24.79    2008-06-14\n",
       "4           100001                1808             7.44    2008-07-09"
      ]
     },
     "execution_count": 1160,
     "metadata": {},
     "output_type": "execute_result"
    }
   ],
   "source": [
    "gifts.head()"
   ]
  },
  {
   "cell_type": "code",
   "execution_count": 1161,
   "id": "60f601f2",
   "metadata": {},
   "outputs": [],
   "source": [
    "#create cut off date object \n",
    "#filter 6169 gifts dataframe for only dates before cut off in order to prevent data leakage\n",
    "\n",
    "date = '20180804'\n",
    "cut_off_date_6169 = datetime.strptime(date,'%Y%m%d')\n",
    "gifts_6169 = gifts[gifts['donation_date'] < cut_off_date_6169]"
   ]
  },
  {
   "cell_type": "code",
   "execution_count": 1162,
   "id": "f192e971",
   "metadata": {},
   "outputs": [],
   "source": [
    "#groupby to aggregate most recent donation date\n",
    "recency6169 = gifts_6169.groupby(by=\"donation_donorID\").agg({'donation_date': 'max'}).reset_index()"
   ]
  },
  {
   "cell_type": "code",
   "execution_count": 1163,
   "id": "beadbf49",
   "metadata": {},
   "outputs": [],
   "source": [
    "recency6169.rename(columns = {\"donation_date\":\"recency\"},inplace=True)"
   ]
  },
  {
   "cell_type": "code",
   "execution_count": 1164,
   "id": "822414f6",
   "metadata": {},
   "outputs": [
    {
     "data": {
      "text/html": [
       "<div>\n",
       "<style scoped>\n",
       "    .dataframe tbody tr th:only-of-type {\n",
       "        vertical-align: middle;\n",
       "    }\n",
       "\n",
       "    .dataframe tbody tr th {\n",
       "        vertical-align: top;\n",
       "    }\n",
       "\n",
       "    .dataframe thead th {\n",
       "        text-align: right;\n",
       "    }\n",
       "</style>\n",
       "<table border=\"1\" class=\"dataframe\">\n",
       "  <thead>\n",
       "    <tr style=\"text-align: right;\">\n",
       "      <th></th>\n",
       "      <th>donation_donorID</th>\n",
       "      <th>recency</th>\n",
       "    </tr>\n",
       "  </thead>\n",
       "  <tbody>\n",
       "    <tr>\n",
       "      <th>0</th>\n",
       "      <td>100001</td>\n",
       "      <td>2011-12-30</td>\n",
       "    </tr>\n",
       "    <tr>\n",
       "      <th>1</th>\n",
       "      <td>100002</td>\n",
       "      <td>2015-01-10</td>\n",
       "    </tr>\n",
       "    <tr>\n",
       "      <th>2</th>\n",
       "      <td>100003</td>\n",
       "      <td>2018-07-08</td>\n",
       "    </tr>\n",
       "    <tr>\n",
       "      <th>3</th>\n",
       "      <td>100004</td>\n",
       "      <td>2011-06-03</td>\n",
       "    </tr>\n",
       "    <tr>\n",
       "      <th>4</th>\n",
       "      <td>100005</td>\n",
       "      <td>2018-06-19</td>\n",
       "    </tr>\n",
       "  </tbody>\n",
       "</table>\n",
       "</div>"
      ],
      "text/plain": [
       "  donation_donorID    recency\n",
       "0           100001 2011-12-30\n",
       "1           100002 2015-01-10\n",
       "2           100003 2018-07-08\n",
       "3           100004 2011-06-03\n",
       "4           100005 2018-06-19"
      ]
     },
     "execution_count": 1164,
     "metadata": {},
     "output_type": "execute_result"
    }
   ],
   "source": [
    "recency6169.head()"
   ]
  },
  {
   "cell_type": "code",
   "execution_count": 1165,
   "id": "565b2049",
   "metadata": {},
   "outputs": [
    {
     "data": {
      "text/plain": [
       "donation_donorID               object\n",
       "donation_campaignID            object\n",
       "donation_amount               float64\n",
       "donation_date          datetime64[ns]\n",
       "dtype: object"
      ]
     },
     "execution_count": 1165,
     "metadata": {},
     "output_type": "execute_result"
    }
   ],
   "source": [
    "gifts_6169.dtypes"
   ]
  },
  {
   "cell_type": "code",
   "execution_count": 1166,
   "id": "ee210ab0",
   "metadata": {
    "scrolled": false
   },
   "outputs": [
    {
     "data": {
      "text/html": [
       "<div>\n",
       "<style scoped>\n",
       "    .dataframe tbody tr th:only-of-type {\n",
       "        vertical-align: middle;\n",
       "    }\n",
       "\n",
       "    .dataframe tbody tr th {\n",
       "        vertical-align: top;\n",
       "    }\n",
       "\n",
       "    .dataframe thead th {\n",
       "        text-align: right;\n",
       "    }\n",
       "</style>\n",
       "<table border=\"1\" class=\"dataframe\">\n",
       "  <thead>\n",
       "    <tr style=\"text-align: right;\">\n",
       "      <th></th>\n",
       "      <th>donation_donorID</th>\n",
       "      <th>donation_total_co</th>\n",
       "      <th>donation_average_co</th>\n",
       "      <th>donation_median_co</th>\n",
       "      <th>donation_max_co</th>\n",
       "      <th>donation_min_co</th>\n",
       "      <th>donation_cu</th>\n",
       "    </tr>\n",
       "  </thead>\n",
       "  <tbody>\n",
       "    <tr>\n",
       "      <th>0</th>\n",
       "      <td>100001</td>\n",
       "      <td>178.49</td>\n",
       "      <td>14.874167</td>\n",
       "      <td>11.195</td>\n",
       "      <td>30.00</td>\n",
       "      <td>6.69</td>\n",
       "      <td>12</td>\n",
       "    </tr>\n",
       "    <tr>\n",
       "      <th>1</th>\n",
       "      <td>100002</td>\n",
       "      <td>20.00</td>\n",
       "      <td>20.000000</td>\n",
       "      <td>20.000</td>\n",
       "      <td>20.00</td>\n",
       "      <td>20.00</td>\n",
       "      <td>1</td>\n",
       "    </tr>\n",
       "    <tr>\n",
       "      <th>2</th>\n",
       "      <td>100003</td>\n",
       "      <td>18.00</td>\n",
       "      <td>3.600000</td>\n",
       "      <td>3.000</td>\n",
       "      <td>5.00</td>\n",
       "      <td>3.00</td>\n",
       "      <td>5</td>\n",
       "    </tr>\n",
       "    <tr>\n",
       "      <th>3</th>\n",
       "      <td>100004</td>\n",
       "      <td>716.22</td>\n",
       "      <td>27.546923</td>\n",
       "      <td>24.790</td>\n",
       "      <td>49.58</td>\n",
       "      <td>24.79</td>\n",
       "      <td>26</td>\n",
       "    </tr>\n",
       "    <tr>\n",
       "      <th>4</th>\n",
       "      <td>100005</td>\n",
       "      <td>14.96</td>\n",
       "      <td>3.740000</td>\n",
       "      <td>3.740</td>\n",
       "      <td>5.00</td>\n",
       "      <td>2.48</td>\n",
       "      <td>4</td>\n",
       "    </tr>\n",
       "  </tbody>\n",
       "</table>\n",
       "</div>"
      ],
      "text/plain": [
       "  donation_donorID  donation_total_co  donation_average_co  \\\n",
       "0           100001             178.49            14.874167   \n",
       "1           100002              20.00            20.000000   \n",
       "2           100003              18.00             3.600000   \n",
       "3           100004             716.22            27.546923   \n",
       "4           100005              14.96             3.740000   \n",
       "\n",
       "   donation_median_co  donation_max_co  donation_min_co  donation_cu  \n",
       "0              11.195            30.00             6.69           12  \n",
       "1              20.000            20.00            20.00            1  \n",
       "2               3.000             5.00             3.00            5  \n",
       "3              24.790            49.58            24.79           26  \n",
       "4               3.740             5.00             2.48            4  "
      ]
     },
     "execution_count": 1166,
     "metadata": {},
     "output_type": "execute_result"
    }
   ],
   "source": [
    "gifts_donations_cut_off_6169 = gifts_6169.groupby('donation_donorID').agg({'donation_amount': ['sum','mean','median','max','min','count']}).reset_index()\n",
    "gifts_donations_cut_off_6169.columns = ['donation_donorID','donation_total_co','donation_average_co','donation_median_co','donation_max_co','donation_min_co','donation_cu']\n",
    "gifts_donations_cut_off_6169.head()"
   ]
  },
  {
   "cell_type": "code",
   "execution_count": 1167,
   "id": "bc4af60b",
   "metadata": {},
   "outputs": [],
   "source": [
    "gifts_donations_cut_off_6169['donation_donorID'] = gifts_donations_cut_off_6169['donation_donorID'].astype(str)"
   ]
  },
  {
   "cell_type": "code",
   "execution_count": 1168,
   "id": "d04213b7",
   "metadata": {},
   "outputs": [],
   "source": [
    "gifts_donation_cut_off_6169 = gifts_donations_cut_off_6169.merge(recency6169, on=\"donation_donorID\",how=\"left\")"
   ]
  },
  {
   "cell_type": "code",
   "execution_count": 1169,
   "id": "0e81808b",
   "metadata": {
    "scrolled": true
   },
   "outputs": [
    {
     "data": {
      "text/html": [
       "<div>\n",
       "<style scoped>\n",
       "    .dataframe tbody tr th:only-of-type {\n",
       "        vertical-align: middle;\n",
       "    }\n",
       "\n",
       "    .dataframe tbody tr th {\n",
       "        vertical-align: top;\n",
       "    }\n",
       "\n",
       "    .dataframe thead th {\n",
       "        text-align: right;\n",
       "    }\n",
       "</style>\n",
       "<table border=\"1\" class=\"dataframe\">\n",
       "  <thead>\n",
       "    <tr style=\"text-align: right;\">\n",
       "      <th></th>\n",
       "      <th>donation_donorID</th>\n",
       "      <th>donation_total_co</th>\n",
       "      <th>donation_average_co</th>\n",
       "      <th>donation_median_co</th>\n",
       "      <th>donation_max_co</th>\n",
       "      <th>donation_min_co</th>\n",
       "      <th>donation_cu</th>\n",
       "      <th>recency</th>\n",
       "    </tr>\n",
       "  </thead>\n",
       "  <tbody>\n",
       "    <tr>\n",
       "      <th>0</th>\n",
       "      <td>100001</td>\n",
       "      <td>178.49</td>\n",
       "      <td>14.874167</td>\n",
       "      <td>11.195</td>\n",
       "      <td>30.00</td>\n",
       "      <td>6.69</td>\n",
       "      <td>12</td>\n",
       "      <td>2011-12-30</td>\n",
       "    </tr>\n",
       "    <tr>\n",
       "      <th>1</th>\n",
       "      <td>100002</td>\n",
       "      <td>20.00</td>\n",
       "      <td>20.000000</td>\n",
       "      <td>20.000</td>\n",
       "      <td>20.00</td>\n",
       "      <td>20.00</td>\n",
       "      <td>1</td>\n",
       "      <td>2015-01-10</td>\n",
       "    </tr>\n",
       "    <tr>\n",
       "      <th>2</th>\n",
       "      <td>100003</td>\n",
       "      <td>18.00</td>\n",
       "      <td>3.600000</td>\n",
       "      <td>3.000</td>\n",
       "      <td>5.00</td>\n",
       "      <td>3.00</td>\n",
       "      <td>5</td>\n",
       "      <td>2018-07-08</td>\n",
       "    </tr>\n",
       "    <tr>\n",
       "      <th>3</th>\n",
       "      <td>100004</td>\n",
       "      <td>716.22</td>\n",
       "      <td>27.546923</td>\n",
       "      <td>24.790</td>\n",
       "      <td>49.58</td>\n",
       "      <td>24.79</td>\n",
       "      <td>26</td>\n",
       "      <td>2011-06-03</td>\n",
       "    </tr>\n",
       "    <tr>\n",
       "      <th>4</th>\n",
       "      <td>100005</td>\n",
       "      <td>14.96</td>\n",
       "      <td>3.740000</td>\n",
       "      <td>3.740</td>\n",
       "      <td>5.00</td>\n",
       "      <td>2.48</td>\n",
       "      <td>4</td>\n",
       "      <td>2018-06-19</td>\n",
       "    </tr>\n",
       "  </tbody>\n",
       "</table>\n",
       "</div>"
      ],
      "text/plain": [
       "  donation_donorID  donation_total_co  donation_average_co  \\\n",
       "0           100001             178.49            14.874167   \n",
       "1           100002              20.00            20.000000   \n",
       "2           100003              18.00             3.600000   \n",
       "3           100004             716.22            27.546923   \n",
       "4           100005              14.96             3.740000   \n",
       "\n",
       "   donation_median_co  donation_max_co  donation_min_co  donation_cu  \\\n",
       "0              11.195            30.00             6.69           12   \n",
       "1              20.000            20.00            20.00            1   \n",
       "2               3.000             5.00             3.00            5   \n",
       "3              24.790            49.58            24.79           26   \n",
       "4               3.740             5.00             2.48            4   \n",
       "\n",
       "     recency  \n",
       "0 2011-12-30  \n",
       "1 2015-01-10  \n",
       "2 2018-07-08  \n",
       "3 2011-06-03  \n",
       "4 2018-06-19  "
      ]
     },
     "execution_count": 1169,
     "metadata": {},
     "output_type": "execute_result"
    }
   ],
   "source": [
    "gifts_donation_cut_off_6169.head()"
   ]
  },
  {
   "cell_type": "code",
   "execution_count": 1170,
   "id": "4b156826",
   "metadata": {
    "scrolled": false
   },
   "outputs": [
    {
     "data": {
      "text/html": [
       "<div>\n",
       "<style scoped>\n",
       "    .dataframe tbody tr th:only-of-type {\n",
       "        vertical-align: middle;\n",
       "    }\n",
       "\n",
       "    .dataframe tbody tr th {\n",
       "        vertical-align: top;\n",
       "    }\n",
       "\n",
       "    .dataframe thead th {\n",
       "        text-align: right;\n",
       "    }\n",
       "</style>\n",
       "<table border=\"1\" class=\"dataframe\">\n",
       "  <thead>\n",
       "    <tr style=\"text-align: right;\">\n",
       "      <th></th>\n",
       "      <th>donation_donorID</th>\n",
       "      <th>donation_campaignID</th>\n",
       "      <th>donation_amount</th>\n",
       "      <th>donation_date</th>\n",
       "      <th>donation_total_co</th>\n",
       "      <th>donation_average_co</th>\n",
       "      <th>donation_median_co</th>\n",
       "      <th>donation_max_co</th>\n",
       "      <th>donation_min_co</th>\n",
       "      <th>donation_cu</th>\n",
       "      <th>recency</th>\n",
       "    </tr>\n",
       "  </thead>\n",
       "  <tbody>\n",
       "    <tr>\n",
       "      <th>0</th>\n",
       "      <td>100001</td>\n",
       "      <td>no_campaign</td>\n",
       "      <td>12.39</td>\n",
       "      <td>2004-03-23</td>\n",
       "      <td>178.49</td>\n",
       "      <td>14.874167</td>\n",
       "      <td>11.195</td>\n",
       "      <td>30.0</td>\n",
       "      <td>6.69</td>\n",
       "      <td>12.0</td>\n",
       "      <td>2011-12-30</td>\n",
       "    </tr>\n",
       "    <tr>\n",
       "      <th>1</th>\n",
       "      <td>100001</td>\n",
       "      <td>1577</td>\n",
       "      <td>12.39</td>\n",
       "      <td>2007-10-11</td>\n",
       "      <td>178.49</td>\n",
       "      <td>14.874167</td>\n",
       "      <td>11.195</td>\n",
       "      <td>30.0</td>\n",
       "      <td>6.69</td>\n",
       "      <td>12.0</td>\n",
       "      <td>2011-12-30</td>\n",
       "    </tr>\n",
       "    <tr>\n",
       "      <th>2</th>\n",
       "      <td>100001</td>\n",
       "      <td>1634</td>\n",
       "      <td>6.69</td>\n",
       "      <td>2007-12-28</td>\n",
       "      <td>178.49</td>\n",
       "      <td>14.874167</td>\n",
       "      <td>11.195</td>\n",
       "      <td>30.0</td>\n",
       "      <td>6.69</td>\n",
       "      <td>12.0</td>\n",
       "      <td>2011-12-30</td>\n",
       "    </tr>\n",
       "    <tr>\n",
       "      <th>3</th>\n",
       "      <td>100001</td>\n",
       "      <td>1778</td>\n",
       "      <td>24.79</td>\n",
       "      <td>2008-06-14</td>\n",
       "      <td>178.49</td>\n",
       "      <td>14.874167</td>\n",
       "      <td>11.195</td>\n",
       "      <td>30.0</td>\n",
       "      <td>6.69</td>\n",
       "      <td>12.0</td>\n",
       "      <td>2011-12-30</td>\n",
       "    </tr>\n",
       "    <tr>\n",
       "      <th>4</th>\n",
       "      <td>100001</td>\n",
       "      <td>1808</td>\n",
       "      <td>7.44</td>\n",
       "      <td>2008-07-09</td>\n",
       "      <td>178.49</td>\n",
       "      <td>14.874167</td>\n",
       "      <td>11.195</td>\n",
       "      <td>30.0</td>\n",
       "      <td>6.69</td>\n",
       "      <td>12.0</td>\n",
       "      <td>2011-12-30</td>\n",
       "    </tr>\n",
       "  </tbody>\n",
       "</table>\n",
       "</div>"
      ],
      "text/plain": [
       "  donation_donorID donation_campaignID  donation_amount donation_date  \\\n",
       "0           100001         no_campaign            12.39    2004-03-23   \n",
       "1           100001                1577            12.39    2007-10-11   \n",
       "2           100001                1634             6.69    2007-12-28   \n",
       "3           100001                1778            24.79    2008-06-14   \n",
       "4           100001                1808             7.44    2008-07-09   \n",
       "\n",
       "   donation_total_co  donation_average_co  donation_median_co  \\\n",
       "0             178.49            14.874167              11.195   \n",
       "1             178.49            14.874167              11.195   \n",
       "2             178.49            14.874167              11.195   \n",
       "3             178.49            14.874167              11.195   \n",
       "4             178.49            14.874167              11.195   \n",
       "\n",
       "   donation_max_co  donation_min_co  donation_cu    recency  \n",
       "0             30.0             6.69         12.0 2011-12-30  \n",
       "1             30.0             6.69         12.0 2011-12-30  \n",
       "2             30.0             6.69         12.0 2011-12-30  \n",
       "3             30.0             6.69         12.0 2011-12-30  \n",
       "4             30.0             6.69         12.0 2011-12-30  "
      ]
     },
     "execution_count": 1170,
     "metadata": {},
     "output_type": "execute_result"
    }
   ],
   "source": [
    "#merge orginial gifts dataframe with newly computed features \n",
    "\n",
    "donations_train_6169 = gifts.merge(gifts_donation_cut_off_6169, on='donation_donorID',how='left')\n",
    "donations_train_6169.head()"
   ]
  },
  {
   "cell_type": "code",
   "execution_count": 1171,
   "id": "f5b68a47",
   "metadata": {},
   "outputs": [
    {
     "data": {
      "text/plain": [
       "donation_donorID               object\n",
       "donation_campaignID            object\n",
       "donation_amount               float64\n",
       "donation_date          datetime64[ns]\n",
       "donation_total_co             float64\n",
       "donation_average_co           float64\n",
       "donation_median_co            float64\n",
       "donation_max_co               float64\n",
       "donation_min_co               float64\n",
       "donation_cu                   float64\n",
       "recency                datetime64[ns]\n",
       "dtype: object"
      ]
     },
     "execution_count": 1171,
     "metadata": {},
     "output_type": "execute_result"
    }
   ],
   "source": [
    "donations_train_6169.dtypes"
   ]
  },
  {
   "cell_type": "markdown",
   "id": "41bc9358",
   "metadata": {},
   "source": [
    "# Merge All Dfs"
   ]
  },
  {
   "cell_type": "code",
   "execution_count": 1172,
   "id": "ed125225",
   "metadata": {},
   "outputs": [],
   "source": [
    "donations_train_6169 = donors.merge(donations_train_6169,left_on='donorID',right_on='donation_donorID', how='inner')\n",
    "\n"
   ]
  },
  {
   "cell_type": "code",
   "execution_count": 1173,
   "id": "47e9f44d",
   "metadata": {},
   "outputs": [],
   "source": [
    "donations_train_6169 = donations_train_6169.merge(campaigns_6169, left_on='donation_campaignID', right_on='campaignID', how='left')"
   ]
  },
  {
   "cell_type": "code",
   "execution_count": 1174,
   "id": "d5669b61",
   "metadata": {},
   "outputs": [
    {
     "name": "stdout",
     "output_type": "stream",
     "text": [
      "<class 'pandas.core.frame.DataFrame'>\n",
      "Int64Index: 216567 entries, 0 to 216566\n",
      "Data columns (total 24 columns):\n",
      " #   Column                  Non-Null Count   Dtype         \n",
      "---  ------                  --------------   -----         \n",
      " 0   donorID                 216567 non-null  object        \n",
      " 1   donors_zip              216567 non-null  object        \n",
      " 2   donors_province         216567 non-null  int32         \n",
      " 3   donors_region           216567 non-null  int32         \n",
      " 4   donors_gender           216567 non-null  int32         \n",
      " 5   donors_language         216567 non-null  int32         \n",
      " 6   donors_DOB              216567 non-null  datetime64[ns]\n",
      " 7   yob                     216567 non-null  int32         \n",
      " 8   age                     216567 non-null  int32         \n",
      " 9   donation_donorID        216567 non-null  object        \n",
      " 10  donation_campaignID     216567 non-null  object        \n",
      " 11  donation_amount         216567 non-null  float64       \n",
      " 12  donation_date           216567 non-null  datetime64[ns]\n",
      " 13  donation_total_co       216567 non-null  float64       \n",
      " 14  donation_average_co     216567 non-null  float64       \n",
      " 15  donation_median_co      216567 non-null  float64       \n",
      " 16  donation_max_co         216567 non-null  float64       \n",
      " 17  donation_min_co         216567 non-null  float64       \n",
      " 18  donation_cu             216567 non-null  float64       \n",
      " 19  recency                 216567 non-null  datetime64[ns]\n",
      " 20  campaignID              1176 non-null    object        \n",
      " 21  campaign date           1176 non-null    datetime64[ns]\n",
      " 22  campaign_lettersSent    1176 non-null    float64       \n",
      " 23  campaign_cost_per_unit  1176 non-null    float64       \n",
      "dtypes: datetime64[ns](4), float64(9), int32(6), object(5)\n",
      "memory usage: 36.4+ MB\n"
     ]
    }
   ],
   "source": [
    "donations_train_6169.info()"
   ]
  },
  {
   "cell_type": "code",
   "execution_count": 1175,
   "id": "84dc9726",
   "metadata": {},
   "outputs": [],
   "source": [
    "#donations_train_6169.drop(['campaignID_y','campaign date_y','campaign_lettersSent_y','campaign_cost_per_unit_y'],inplace=True,axis=1)"
   ]
  },
  {
   "cell_type": "markdown",
   "id": "03d5f097",
   "metadata": {},
   "source": [
    "# Create Dependent Variable"
   ]
  },
  {
   "cell_type": "code",
   "execution_count": 1176,
   "id": "5f845ed8",
   "metadata": {
    "scrolled": true
   },
   "outputs": [],
   "source": [
    "#target variable creation, 1 where donor made donation to 6169 and the amount was >= to 30 euros\n",
    "\n",
    "donations_train_6169['donated_to_6169'] = np.where((donations_train_6169['donation_campaignID'] == '6169') & (donations_train_6169['donation_amount'] >= 30.0),1,0)"
   ]
  },
  {
   "cell_type": "code",
   "execution_count": 1177,
   "id": "b8eddf54",
   "metadata": {
    "scrolled": true
   },
   "outputs": [
    {
     "data": {
      "text/plain": [
       "0    215618\n",
       "1       949\n",
       "Name: donated_to_6169, dtype: int64"
      ]
     },
     "execution_count": 1177,
     "metadata": {},
     "output_type": "execute_result"
    }
   ],
   "source": [
    "\n",
    "donations_train_6169['donated_to_6169'].value_counts()"
   ]
  },
  {
   "cell_type": "code",
   "execution_count": 1178,
   "id": "6f1f5e5f",
   "metadata": {
    "scrolled": true
   },
   "outputs": [
    {
     "data": {
      "text/html": [
       "<div>\n",
       "<style scoped>\n",
       "    .dataframe tbody tr th:only-of-type {\n",
       "        vertical-align: middle;\n",
       "    }\n",
       "\n",
       "    .dataframe tbody tr th {\n",
       "        vertical-align: top;\n",
       "    }\n",
       "\n",
       "    .dataframe thead th {\n",
       "        text-align: right;\n",
       "    }\n",
       "</style>\n",
       "<table border=\"1\" class=\"dataframe\">\n",
       "  <thead>\n",
       "    <tr style=\"text-align: right;\">\n",
       "      <th></th>\n",
       "      <th>donorID</th>\n",
       "      <th>donors_zip</th>\n",
       "      <th>donors_province</th>\n",
       "      <th>donors_region</th>\n",
       "      <th>donors_gender</th>\n",
       "      <th>donors_language</th>\n",
       "      <th>donors_DOB</th>\n",
       "      <th>yob</th>\n",
       "      <th>age</th>\n",
       "      <th>donation_donorID</th>\n",
       "      <th>...</th>\n",
       "      <th>donation_median_co</th>\n",
       "      <th>donation_max_co</th>\n",
       "      <th>donation_min_co</th>\n",
       "      <th>donation_cu</th>\n",
       "      <th>recency</th>\n",
       "      <th>campaignID</th>\n",
       "      <th>campaign date</th>\n",
       "      <th>campaign_lettersSent</th>\n",
       "      <th>campaign_cost_per_unit</th>\n",
       "      <th>donated_to_6169</th>\n",
       "    </tr>\n",
       "  </thead>\n",
       "  <tbody>\n",
       "    <tr>\n",
       "      <th>0</th>\n",
       "      <td>100001</td>\n",
       "      <td>1861</td>\n",
       "      <td>3</td>\n",
       "      <td>1</td>\n",
       "      <td>0</td>\n",
       "      <td>2</td>\n",
       "      <td>1967-12-24</td>\n",
       "      <td>1967</td>\n",
       "      <td>51</td>\n",
       "      <td>100001</td>\n",
       "      <td>...</td>\n",
       "      <td>11.195</td>\n",
       "      <td>30.0</td>\n",
       "      <td>6.69</td>\n",
       "      <td>12.0</td>\n",
       "      <td>2011-12-30</td>\n",
       "      <td>NaN</td>\n",
       "      <td>NaT</td>\n",
       "      <td>NaN</td>\n",
       "      <td>NaN</td>\n",
       "      <td>0</td>\n",
       "    </tr>\n",
       "    <tr>\n",
       "      <th>1</th>\n",
       "      <td>100001</td>\n",
       "      <td>1861</td>\n",
       "      <td>3</td>\n",
       "      <td>1</td>\n",
       "      <td>0</td>\n",
       "      <td>2</td>\n",
       "      <td>1967-12-24</td>\n",
       "      <td>1967</td>\n",
       "      <td>51</td>\n",
       "      <td>100001</td>\n",
       "      <td>...</td>\n",
       "      <td>11.195</td>\n",
       "      <td>30.0</td>\n",
       "      <td>6.69</td>\n",
       "      <td>12.0</td>\n",
       "      <td>2011-12-30</td>\n",
       "      <td>NaN</td>\n",
       "      <td>NaT</td>\n",
       "      <td>NaN</td>\n",
       "      <td>NaN</td>\n",
       "      <td>0</td>\n",
       "    </tr>\n",
       "    <tr>\n",
       "      <th>2</th>\n",
       "      <td>100001</td>\n",
       "      <td>1861</td>\n",
       "      <td>3</td>\n",
       "      <td>1</td>\n",
       "      <td>0</td>\n",
       "      <td>2</td>\n",
       "      <td>1967-12-24</td>\n",
       "      <td>1967</td>\n",
       "      <td>51</td>\n",
       "      <td>100001</td>\n",
       "      <td>...</td>\n",
       "      <td>11.195</td>\n",
       "      <td>30.0</td>\n",
       "      <td>6.69</td>\n",
       "      <td>12.0</td>\n",
       "      <td>2011-12-30</td>\n",
       "      <td>NaN</td>\n",
       "      <td>NaT</td>\n",
       "      <td>NaN</td>\n",
       "      <td>NaN</td>\n",
       "      <td>0</td>\n",
       "    </tr>\n",
       "    <tr>\n",
       "      <th>3</th>\n",
       "      <td>100001</td>\n",
       "      <td>1861</td>\n",
       "      <td>3</td>\n",
       "      <td>1</td>\n",
       "      <td>0</td>\n",
       "      <td>2</td>\n",
       "      <td>1967-12-24</td>\n",
       "      <td>1967</td>\n",
       "      <td>51</td>\n",
       "      <td>100001</td>\n",
       "      <td>...</td>\n",
       "      <td>11.195</td>\n",
       "      <td>30.0</td>\n",
       "      <td>6.69</td>\n",
       "      <td>12.0</td>\n",
       "      <td>2011-12-30</td>\n",
       "      <td>NaN</td>\n",
       "      <td>NaT</td>\n",
       "      <td>NaN</td>\n",
       "      <td>NaN</td>\n",
       "      <td>0</td>\n",
       "    </tr>\n",
       "    <tr>\n",
       "      <th>4</th>\n",
       "      <td>100001</td>\n",
       "      <td>1861</td>\n",
       "      <td>3</td>\n",
       "      <td>1</td>\n",
       "      <td>0</td>\n",
       "      <td>2</td>\n",
       "      <td>1967-12-24</td>\n",
       "      <td>1967</td>\n",
       "      <td>51</td>\n",
       "      <td>100001</td>\n",
       "      <td>...</td>\n",
       "      <td>11.195</td>\n",
       "      <td>30.0</td>\n",
       "      <td>6.69</td>\n",
       "      <td>12.0</td>\n",
       "      <td>2011-12-30</td>\n",
       "      <td>NaN</td>\n",
       "      <td>NaT</td>\n",
       "      <td>NaN</td>\n",
       "      <td>NaN</td>\n",
       "      <td>0</td>\n",
       "    </tr>\n",
       "  </tbody>\n",
       "</table>\n",
       "<p>5 rows × 25 columns</p>\n",
       "</div>"
      ],
      "text/plain": [
       "  donorID donors_zip  donors_province  donors_region  donors_gender  \\\n",
       "0  100001       1861                3              1              0   \n",
       "1  100001       1861                3              1              0   \n",
       "2  100001       1861                3              1              0   \n",
       "3  100001       1861                3              1              0   \n",
       "4  100001       1861                3              1              0   \n",
       "\n",
       "   donors_language donors_DOB   yob  age donation_donorID  ...  \\\n",
       "0                2 1967-12-24  1967   51           100001  ...   \n",
       "1                2 1967-12-24  1967   51           100001  ...   \n",
       "2                2 1967-12-24  1967   51           100001  ...   \n",
       "3                2 1967-12-24  1967   51           100001  ...   \n",
       "4                2 1967-12-24  1967   51           100001  ...   \n",
       "\n",
       "  donation_median_co  donation_max_co donation_min_co  donation_cu    recency  \\\n",
       "0             11.195             30.0            6.69         12.0 2011-12-30   \n",
       "1             11.195             30.0            6.69         12.0 2011-12-30   \n",
       "2             11.195             30.0            6.69         12.0 2011-12-30   \n",
       "3             11.195             30.0            6.69         12.0 2011-12-30   \n",
       "4             11.195             30.0            6.69         12.0 2011-12-30   \n",
       "\n",
       "   campaignID  campaign date  campaign_lettersSent  campaign_cost_per_unit  \\\n",
       "0         NaN            NaT                   NaN                     NaN   \n",
       "1         NaN            NaT                   NaN                     NaN   \n",
       "2         NaN            NaT                   NaN                     NaN   \n",
       "3         NaN            NaT                   NaN                     NaN   \n",
       "4         NaN            NaT                   NaN                     NaN   \n",
       "\n",
       "  donated_to_6169  \n",
       "0               0  \n",
       "1               0  \n",
       "2               0  \n",
       "3               0  \n",
       "4               0  \n",
       "\n",
       "[5 rows x 25 columns]"
      ]
     },
     "execution_count": 1178,
     "metadata": {},
     "output_type": "execute_result"
    }
   ],
   "source": [
    "donations_train_6169.head()"
   ]
  },
  {
   "cell_type": "code",
   "execution_count": 1179,
   "id": "904f26d7",
   "metadata": {
    "scrolled": true
   },
   "outputs": [],
   "source": [
    "#isolate target variable values of 1 for 6169 campaign\n",
    "\n",
    "donations_1_6169 = donations_train_6169[donations_train_6169['donated_to_6169'] == 1]"
   ]
  },
  {
   "cell_type": "code",
   "execution_count": 1180,
   "id": "63cb15f7",
   "metadata": {
    "scrolled": true
   },
   "outputs": [
    {
     "name": "stderr",
     "output_type": "stream",
     "text": [
      "<ipython-input-1180-63e84b436a2d>:3: SettingWithCopyWarning: \n",
      "A value is trying to be set on a copy of a slice from a DataFrame\n",
      "\n",
      "See the caveats in the documentation: https://pandas.pydata.org/pandas-docs/stable/user_guide/indexing.html#returning-a-view-versus-a-copy\n",
      "  donations_1_6169.drop_duplicates(subset='donation_donorID',inplace=True)\n"
     ]
    }
   ],
   "source": [
    "#drop duplicates for proper granularity\n",
    "\n",
    "donations_1_6169.drop_duplicates(subset='donation_donorID',inplace=True)"
   ]
  },
  {
   "cell_type": "code",
   "execution_count": 1181,
   "id": "a67529bb",
   "metadata": {},
   "outputs": [],
   "source": [
    "#isolate target variable values of 0 \n",
    "\n",
    "donations_0_6169 = donations_train_6169[donations_train_6169['donated_to_6169']== 0]"
   ]
  },
  {
   "cell_type": "code",
   "execution_count": 1182,
   "id": "7d7dc835",
   "metadata": {
    "scrolled": false
   },
   "outputs": [
    {
     "name": "stderr",
     "output_type": "stream",
     "text": [
      "<ipython-input-1182-08ff7d5c3369>:1: SettingWithCopyWarning: \n",
      "A value is trying to be set on a copy of a slice from a DataFrame\n",
      "\n",
      "See the caveats in the documentation: https://pandas.pydata.org/pandas-docs/stable/user_guide/indexing.html#returning-a-view-versus-a-copy\n",
      "  donations_0_6169.drop_duplicates(subset='donation_donorID',inplace=True)\n"
     ]
    }
   ],
   "source": [
    "donations_0_6169.drop_duplicates(subset='donation_donorID',inplace=True)"
   ]
  },
  {
   "cell_type": "code",
   "execution_count": 1183,
   "id": "ee79aa68",
   "metadata": {},
   "outputs": [
    {
     "data": {
      "text/html": [
       "<div>\n",
       "<style scoped>\n",
       "    .dataframe tbody tr th:only-of-type {\n",
       "        vertical-align: middle;\n",
       "    }\n",
       "\n",
       "    .dataframe tbody tr th {\n",
       "        vertical-align: top;\n",
       "    }\n",
       "\n",
       "    .dataframe thead th {\n",
       "        text-align: right;\n",
       "    }\n",
       "</style>\n",
       "<table border=\"1\" class=\"dataframe\">\n",
       "  <thead>\n",
       "    <tr style=\"text-align: right;\">\n",
       "      <th></th>\n",
       "      <th>donorID</th>\n",
       "      <th>donors_zip</th>\n",
       "      <th>donors_province</th>\n",
       "      <th>donors_region</th>\n",
       "      <th>donors_gender</th>\n",
       "      <th>donors_language</th>\n",
       "      <th>donors_DOB</th>\n",
       "      <th>yob</th>\n",
       "      <th>age</th>\n",
       "      <th>donation_donorID</th>\n",
       "      <th>...</th>\n",
       "      <th>donation_median_co</th>\n",
       "      <th>donation_max_co</th>\n",
       "      <th>donation_min_co</th>\n",
       "      <th>donation_cu</th>\n",
       "      <th>recency</th>\n",
       "      <th>campaignID</th>\n",
       "      <th>campaign date</th>\n",
       "      <th>campaign_lettersSent</th>\n",
       "      <th>campaign_cost_per_unit</th>\n",
       "      <th>donated_to_6169</th>\n",
       "    </tr>\n",
       "  </thead>\n",
       "  <tbody>\n",
       "    <tr>\n",
       "      <th>0</th>\n",
       "      <td>100001</td>\n",
       "      <td>1861</td>\n",
       "      <td>3</td>\n",
       "      <td>1</td>\n",
       "      <td>0</td>\n",
       "      <td>2</td>\n",
       "      <td>1967-12-24</td>\n",
       "      <td>1967</td>\n",
       "      <td>51</td>\n",
       "      <td>100001</td>\n",
       "      <td>...</td>\n",
       "      <td>11.195</td>\n",
       "      <td>30.00</td>\n",
       "      <td>6.69</td>\n",
       "      <td>12.0</td>\n",
       "      <td>2011-12-30</td>\n",
       "      <td>NaN</td>\n",
       "      <td>NaT</td>\n",
       "      <td>NaN</td>\n",
       "      <td>NaN</td>\n",
       "      <td>0</td>\n",
       "    </tr>\n",
       "    <tr>\n",
       "      <th>12</th>\n",
       "      <td>100002</td>\n",
       "      <td>2260</td>\n",
       "      <td>0</td>\n",
       "      <td>1</td>\n",
       "      <td>1</td>\n",
       "      <td>2</td>\n",
       "      <td>1952-01-14</td>\n",
       "      <td>1952</td>\n",
       "      <td>66</td>\n",
       "      <td>100002</td>\n",
       "      <td>...</td>\n",
       "      <td>20.000</td>\n",
       "      <td>20.00</td>\n",
       "      <td>20.00</td>\n",
       "      <td>1.0</td>\n",
       "      <td>2015-01-10</td>\n",
       "      <td>NaN</td>\n",
       "      <td>NaT</td>\n",
       "      <td>NaN</td>\n",
       "      <td>NaN</td>\n",
       "      <td>0</td>\n",
       "    </tr>\n",
       "    <tr>\n",
       "      <th>13</th>\n",
       "      <td>100003</td>\n",
       "      <td>1780</td>\n",
       "      <td>3</td>\n",
       "      <td>1</td>\n",
       "      <td>1</td>\n",
       "      <td>2</td>\n",
       "      <td>1986-12-23</td>\n",
       "      <td>1986</td>\n",
       "      <td>32</td>\n",
       "      <td>100003</td>\n",
       "      <td>...</td>\n",
       "      <td>3.000</td>\n",
       "      <td>5.00</td>\n",
       "      <td>3.00</td>\n",
       "      <td>5.0</td>\n",
       "      <td>2018-07-08</td>\n",
       "      <td>NaN</td>\n",
       "      <td>NaT</td>\n",
       "      <td>NaN</td>\n",
       "      <td>NaN</td>\n",
       "      <td>0</td>\n",
       "    </tr>\n",
       "    <tr>\n",
       "      <th>25</th>\n",
       "      <td>100004</td>\n",
       "      <td>1020</td>\n",
       "      <td>1</td>\n",
       "      <td>0</td>\n",
       "      <td>0</td>\n",
       "      <td>1</td>\n",
       "      <td>1952-03-29</td>\n",
       "      <td>1952</td>\n",
       "      <td>66</td>\n",
       "      <td>100004</td>\n",
       "      <td>...</td>\n",
       "      <td>24.790</td>\n",
       "      <td>49.58</td>\n",
       "      <td>24.79</td>\n",
       "      <td>26.0</td>\n",
       "      <td>2011-06-03</td>\n",
       "      <td>NaN</td>\n",
       "      <td>NaT</td>\n",
       "      <td>NaN</td>\n",
       "      <td>NaN</td>\n",
       "      <td>0</td>\n",
       "    </tr>\n",
       "    <tr>\n",
       "      <th>51</th>\n",
       "      <td>100005</td>\n",
       "      <td>1020</td>\n",
       "      <td>1</td>\n",
       "      <td>0</td>\n",
       "      <td>0</td>\n",
       "      <td>1</td>\n",
       "      <td>1986-06-25</td>\n",
       "      <td>1986</td>\n",
       "      <td>32</td>\n",
       "      <td>100005</td>\n",
       "      <td>...</td>\n",
       "      <td>3.740</td>\n",
       "      <td>5.00</td>\n",
       "      <td>2.48</td>\n",
       "      <td>4.0</td>\n",
       "      <td>2018-06-19</td>\n",
       "      <td>NaN</td>\n",
       "      <td>NaT</td>\n",
       "      <td>NaN</td>\n",
       "      <td>NaN</td>\n",
       "      <td>0</td>\n",
       "    </tr>\n",
       "  </tbody>\n",
       "</table>\n",
       "<p>5 rows × 25 columns</p>\n",
       "</div>"
      ],
      "text/plain": [
       "   donorID donors_zip  donors_province  donors_region  donors_gender  \\\n",
       "0   100001       1861                3              1              0   \n",
       "12  100002       2260                0              1              1   \n",
       "13  100003       1780                3              1              1   \n",
       "25  100004       1020                1              0              0   \n",
       "51  100005       1020                1              0              0   \n",
       "\n",
       "    donors_language donors_DOB   yob  age donation_donorID  ...  \\\n",
       "0                 2 1967-12-24  1967   51           100001  ...   \n",
       "12                2 1952-01-14  1952   66           100002  ...   \n",
       "13                2 1986-12-23  1986   32           100003  ...   \n",
       "25                1 1952-03-29  1952   66           100004  ...   \n",
       "51                1 1986-06-25  1986   32           100005  ...   \n",
       "\n",
       "   donation_median_co  donation_max_co donation_min_co  donation_cu  \\\n",
       "0              11.195            30.00            6.69         12.0   \n",
       "12             20.000            20.00           20.00          1.0   \n",
       "13              3.000             5.00            3.00          5.0   \n",
       "25             24.790            49.58           24.79         26.0   \n",
       "51              3.740             5.00            2.48          4.0   \n",
       "\n",
       "      recency  campaignID  campaign date  campaign_lettersSent  \\\n",
       "0  2011-12-30         NaN            NaT                   NaN   \n",
       "12 2015-01-10         NaN            NaT                   NaN   \n",
       "13 2018-07-08         NaN            NaT                   NaN   \n",
       "25 2011-06-03         NaN            NaT                   NaN   \n",
       "51 2018-06-19         NaN            NaT                   NaN   \n",
       "\n",
       "    campaign_cost_per_unit donated_to_6169  \n",
       "0                      NaN               0  \n",
       "12                     NaN               0  \n",
       "13                     NaN               0  \n",
       "25                     NaN               0  \n",
       "51                     NaN               0  \n",
       "\n",
       "[5 rows x 25 columns]"
      ]
     },
     "execution_count": 1183,
     "metadata": {},
     "output_type": "execute_result"
    }
   ],
   "source": [
    "donations_0_6169.head()"
   ]
  },
  {
   "cell_type": "code",
   "execution_count": 1184,
   "id": "86c9028d",
   "metadata": {},
   "outputs": [],
   "source": [
    "#concatenate the dataframes for both isolated target variable values dfs\n",
    "\n",
    "donations_train_6169 = pd.concat([donations_0_6169,donations_1_6169],axis=0)"
   ]
  },
  {
   "cell_type": "code",
   "execution_count": 1185,
   "id": "35fb0f39",
   "metadata": {},
   "outputs": [
    {
     "data": {
      "text/html": [
       "<div>\n",
       "<style scoped>\n",
       "    .dataframe tbody tr th:only-of-type {\n",
       "        vertical-align: middle;\n",
       "    }\n",
       "\n",
       "    .dataframe tbody tr th {\n",
       "        vertical-align: top;\n",
       "    }\n",
       "\n",
       "    .dataframe thead th {\n",
       "        text-align: right;\n",
       "    }\n",
       "</style>\n",
       "<table border=\"1\" class=\"dataframe\">\n",
       "  <thead>\n",
       "    <tr style=\"text-align: right;\">\n",
       "      <th></th>\n",
       "      <th>donorID</th>\n",
       "      <th>donors_zip</th>\n",
       "      <th>donors_province</th>\n",
       "      <th>donors_region</th>\n",
       "      <th>donors_gender</th>\n",
       "      <th>donors_language</th>\n",
       "      <th>donors_DOB</th>\n",
       "      <th>yob</th>\n",
       "      <th>age</th>\n",
       "      <th>donation_donorID</th>\n",
       "      <th>...</th>\n",
       "      <th>donation_median_co</th>\n",
       "      <th>donation_max_co</th>\n",
       "      <th>donation_min_co</th>\n",
       "      <th>donation_cu</th>\n",
       "      <th>recency</th>\n",
       "      <th>campaignID</th>\n",
       "      <th>campaign date</th>\n",
       "      <th>campaign_lettersSent</th>\n",
       "      <th>campaign_cost_per_unit</th>\n",
       "      <th>donated_to_6169</th>\n",
       "    </tr>\n",
       "  </thead>\n",
       "  <tbody>\n",
       "    <tr>\n",
       "      <th>0</th>\n",
       "      <td>100001</td>\n",
       "      <td>1861</td>\n",
       "      <td>3</td>\n",
       "      <td>1</td>\n",
       "      <td>0</td>\n",
       "      <td>2</td>\n",
       "      <td>1967-12-24</td>\n",
       "      <td>1967</td>\n",
       "      <td>51</td>\n",
       "      <td>100001</td>\n",
       "      <td>...</td>\n",
       "      <td>11.195</td>\n",
       "      <td>30.00</td>\n",
       "      <td>6.69</td>\n",
       "      <td>12.0</td>\n",
       "      <td>2011-12-30</td>\n",
       "      <td>NaN</td>\n",
       "      <td>NaT</td>\n",
       "      <td>NaN</td>\n",
       "      <td>NaN</td>\n",
       "      <td>0</td>\n",
       "    </tr>\n",
       "    <tr>\n",
       "      <th>12</th>\n",
       "      <td>100002</td>\n",
       "      <td>2260</td>\n",
       "      <td>0</td>\n",
       "      <td>1</td>\n",
       "      <td>1</td>\n",
       "      <td>2</td>\n",
       "      <td>1952-01-14</td>\n",
       "      <td>1952</td>\n",
       "      <td>66</td>\n",
       "      <td>100002</td>\n",
       "      <td>...</td>\n",
       "      <td>20.000</td>\n",
       "      <td>20.00</td>\n",
       "      <td>20.00</td>\n",
       "      <td>1.0</td>\n",
       "      <td>2015-01-10</td>\n",
       "      <td>NaN</td>\n",
       "      <td>NaT</td>\n",
       "      <td>NaN</td>\n",
       "      <td>NaN</td>\n",
       "      <td>0</td>\n",
       "    </tr>\n",
       "    <tr>\n",
       "      <th>13</th>\n",
       "      <td>100003</td>\n",
       "      <td>1780</td>\n",
       "      <td>3</td>\n",
       "      <td>1</td>\n",
       "      <td>1</td>\n",
       "      <td>2</td>\n",
       "      <td>1986-12-23</td>\n",
       "      <td>1986</td>\n",
       "      <td>32</td>\n",
       "      <td>100003</td>\n",
       "      <td>...</td>\n",
       "      <td>3.000</td>\n",
       "      <td>5.00</td>\n",
       "      <td>3.00</td>\n",
       "      <td>5.0</td>\n",
       "      <td>2018-07-08</td>\n",
       "      <td>NaN</td>\n",
       "      <td>NaT</td>\n",
       "      <td>NaN</td>\n",
       "      <td>NaN</td>\n",
       "      <td>0</td>\n",
       "    </tr>\n",
       "    <tr>\n",
       "      <th>25</th>\n",
       "      <td>100004</td>\n",
       "      <td>1020</td>\n",
       "      <td>1</td>\n",
       "      <td>0</td>\n",
       "      <td>0</td>\n",
       "      <td>1</td>\n",
       "      <td>1952-03-29</td>\n",
       "      <td>1952</td>\n",
       "      <td>66</td>\n",
       "      <td>100004</td>\n",
       "      <td>...</td>\n",
       "      <td>24.790</td>\n",
       "      <td>49.58</td>\n",
       "      <td>24.79</td>\n",
       "      <td>26.0</td>\n",
       "      <td>2011-06-03</td>\n",
       "      <td>NaN</td>\n",
       "      <td>NaT</td>\n",
       "      <td>NaN</td>\n",
       "      <td>NaN</td>\n",
       "      <td>0</td>\n",
       "    </tr>\n",
       "    <tr>\n",
       "      <th>51</th>\n",
       "      <td>100005</td>\n",
       "      <td>1020</td>\n",
       "      <td>1</td>\n",
       "      <td>0</td>\n",
       "      <td>0</td>\n",
       "      <td>1</td>\n",
       "      <td>1986-06-25</td>\n",
       "      <td>1986</td>\n",
       "      <td>32</td>\n",
       "      <td>100005</td>\n",
       "      <td>...</td>\n",
       "      <td>3.740</td>\n",
       "      <td>5.00</td>\n",
       "      <td>2.48</td>\n",
       "      <td>4.0</td>\n",
       "      <td>2018-06-19</td>\n",
       "      <td>NaN</td>\n",
       "      <td>NaT</td>\n",
       "      <td>NaN</td>\n",
       "      <td>NaN</td>\n",
       "      <td>0</td>\n",
       "    </tr>\n",
       "  </tbody>\n",
       "</table>\n",
       "<p>5 rows × 25 columns</p>\n",
       "</div>"
      ],
      "text/plain": [
       "   donorID donors_zip  donors_province  donors_region  donors_gender  \\\n",
       "0   100001       1861                3              1              0   \n",
       "12  100002       2260                0              1              1   \n",
       "13  100003       1780                3              1              1   \n",
       "25  100004       1020                1              0              0   \n",
       "51  100005       1020                1              0              0   \n",
       "\n",
       "    donors_language donors_DOB   yob  age donation_donorID  ...  \\\n",
       "0                 2 1967-12-24  1967   51           100001  ...   \n",
       "12                2 1952-01-14  1952   66           100002  ...   \n",
       "13                2 1986-12-23  1986   32           100003  ...   \n",
       "25                1 1952-03-29  1952   66           100004  ...   \n",
       "51                1 1986-06-25  1986   32           100005  ...   \n",
       "\n",
       "   donation_median_co  donation_max_co donation_min_co  donation_cu  \\\n",
       "0              11.195            30.00            6.69         12.0   \n",
       "12             20.000            20.00           20.00          1.0   \n",
       "13              3.000             5.00            3.00          5.0   \n",
       "25             24.790            49.58           24.79         26.0   \n",
       "51              3.740             5.00            2.48          4.0   \n",
       "\n",
       "      recency  campaignID  campaign date  campaign_lettersSent  \\\n",
       "0  2011-12-30         NaN            NaT                   NaN   \n",
       "12 2015-01-10         NaN            NaT                   NaN   \n",
       "13 2018-07-08         NaN            NaT                   NaN   \n",
       "25 2011-06-03         NaN            NaT                   NaN   \n",
       "51 2018-06-19         NaN            NaT                   NaN   \n",
       "\n",
       "    campaign_cost_per_unit donated_to_6169  \n",
       "0                      NaN               0  \n",
       "12                     NaN               0  \n",
       "13                     NaN               0  \n",
       "25                     NaN               0  \n",
       "51                     NaN               0  \n",
       "\n",
       "[5 rows x 25 columns]"
      ]
     },
     "execution_count": 1185,
     "metadata": {},
     "output_type": "execute_result"
    }
   ],
   "source": [
    "donations_train_6169.head()"
   ]
  },
  {
   "cell_type": "code",
   "execution_count": 1186,
   "id": "3619f829",
   "metadata": {
    "scrolled": true
   },
   "outputs": [
    {
     "data": {
      "text/plain": [
       "0    44684\n",
       "1      949\n",
       "Name: donated_to_6169, dtype: int64"
      ]
     },
     "execution_count": 1186,
     "metadata": {},
     "output_type": "execute_result"
    }
   ],
   "source": [
    "#sanity check\n",
    "\n",
    "donations_train_6169['donated_to_6169'].value_counts()"
   ]
  },
  {
   "cell_type": "code",
   "execution_count": 1187,
   "id": "0372cc2f",
   "metadata": {
    "scrolled": true
   },
   "outputs": [
    {
     "data": {
      "text/html": [
       "<div>\n",
       "<style scoped>\n",
       "    .dataframe tbody tr th:only-of-type {\n",
       "        vertical-align: middle;\n",
       "    }\n",
       "\n",
       "    .dataframe tbody tr th {\n",
       "        vertical-align: top;\n",
       "    }\n",
       "\n",
       "    .dataframe thead th {\n",
       "        text-align: right;\n",
       "    }\n",
       "</style>\n",
       "<table border=\"1\" class=\"dataframe\">\n",
       "  <thead>\n",
       "    <tr style=\"text-align: right;\">\n",
       "      <th></th>\n",
       "      <th>donorID</th>\n",
       "      <th>donors_zip</th>\n",
       "      <th>donors_province</th>\n",
       "      <th>donors_region</th>\n",
       "      <th>donors_gender</th>\n",
       "      <th>donors_language</th>\n",
       "      <th>donors_DOB</th>\n",
       "      <th>yob</th>\n",
       "      <th>age</th>\n",
       "      <th>donation_donorID</th>\n",
       "      <th>...</th>\n",
       "      <th>donation_median_co</th>\n",
       "      <th>donation_max_co</th>\n",
       "      <th>donation_min_co</th>\n",
       "      <th>donation_cu</th>\n",
       "      <th>recency</th>\n",
       "      <th>campaignID</th>\n",
       "      <th>campaign date</th>\n",
       "      <th>campaign_lettersSent</th>\n",
       "      <th>campaign_cost_per_unit</th>\n",
       "      <th>donated_to_6169</th>\n",
       "    </tr>\n",
       "  </thead>\n",
       "  <tbody>\n",
       "    <tr>\n",
       "      <th>0</th>\n",
       "      <td>100001</td>\n",
       "      <td>1861</td>\n",
       "      <td>3</td>\n",
       "      <td>1</td>\n",
       "      <td>0</td>\n",
       "      <td>2</td>\n",
       "      <td>1967-12-24</td>\n",
       "      <td>1967</td>\n",
       "      <td>51</td>\n",
       "      <td>100001</td>\n",
       "      <td>...</td>\n",
       "      <td>11.195</td>\n",
       "      <td>30.00</td>\n",
       "      <td>6.69</td>\n",
       "      <td>12.0</td>\n",
       "      <td>2011-12-30</td>\n",
       "      <td>NaN</td>\n",
       "      <td>NaT</td>\n",
       "      <td>NaN</td>\n",
       "      <td>NaN</td>\n",
       "      <td>0</td>\n",
       "    </tr>\n",
       "    <tr>\n",
       "      <th>12</th>\n",
       "      <td>100002</td>\n",
       "      <td>2260</td>\n",
       "      <td>0</td>\n",
       "      <td>1</td>\n",
       "      <td>1</td>\n",
       "      <td>2</td>\n",
       "      <td>1952-01-14</td>\n",
       "      <td>1952</td>\n",
       "      <td>66</td>\n",
       "      <td>100002</td>\n",
       "      <td>...</td>\n",
       "      <td>20.000</td>\n",
       "      <td>20.00</td>\n",
       "      <td>20.00</td>\n",
       "      <td>1.0</td>\n",
       "      <td>2015-01-10</td>\n",
       "      <td>NaN</td>\n",
       "      <td>NaT</td>\n",
       "      <td>NaN</td>\n",
       "      <td>NaN</td>\n",
       "      <td>0</td>\n",
       "    </tr>\n",
       "    <tr>\n",
       "      <th>13</th>\n",
       "      <td>100003</td>\n",
       "      <td>1780</td>\n",
       "      <td>3</td>\n",
       "      <td>1</td>\n",
       "      <td>1</td>\n",
       "      <td>2</td>\n",
       "      <td>1986-12-23</td>\n",
       "      <td>1986</td>\n",
       "      <td>32</td>\n",
       "      <td>100003</td>\n",
       "      <td>...</td>\n",
       "      <td>3.000</td>\n",
       "      <td>5.00</td>\n",
       "      <td>3.00</td>\n",
       "      <td>5.0</td>\n",
       "      <td>2018-07-08</td>\n",
       "      <td>NaN</td>\n",
       "      <td>NaT</td>\n",
       "      <td>NaN</td>\n",
       "      <td>NaN</td>\n",
       "      <td>0</td>\n",
       "    </tr>\n",
       "    <tr>\n",
       "      <th>25</th>\n",
       "      <td>100004</td>\n",
       "      <td>1020</td>\n",
       "      <td>1</td>\n",
       "      <td>0</td>\n",
       "      <td>0</td>\n",
       "      <td>1</td>\n",
       "      <td>1952-03-29</td>\n",
       "      <td>1952</td>\n",
       "      <td>66</td>\n",
       "      <td>100004</td>\n",
       "      <td>...</td>\n",
       "      <td>24.790</td>\n",
       "      <td>49.58</td>\n",
       "      <td>24.79</td>\n",
       "      <td>26.0</td>\n",
       "      <td>2011-06-03</td>\n",
       "      <td>NaN</td>\n",
       "      <td>NaT</td>\n",
       "      <td>NaN</td>\n",
       "      <td>NaN</td>\n",
       "      <td>0</td>\n",
       "    </tr>\n",
       "    <tr>\n",
       "      <th>51</th>\n",
       "      <td>100005</td>\n",
       "      <td>1020</td>\n",
       "      <td>1</td>\n",
       "      <td>0</td>\n",
       "      <td>0</td>\n",
       "      <td>1</td>\n",
       "      <td>1986-06-25</td>\n",
       "      <td>1986</td>\n",
       "      <td>32</td>\n",
       "      <td>100005</td>\n",
       "      <td>...</td>\n",
       "      <td>3.740</td>\n",
       "      <td>5.00</td>\n",
       "      <td>2.48</td>\n",
       "      <td>4.0</td>\n",
       "      <td>2018-06-19</td>\n",
       "      <td>NaN</td>\n",
       "      <td>NaT</td>\n",
       "      <td>NaN</td>\n",
       "      <td>NaN</td>\n",
       "      <td>0</td>\n",
       "    </tr>\n",
       "  </tbody>\n",
       "</table>\n",
       "<p>5 rows × 25 columns</p>\n",
       "</div>"
      ],
      "text/plain": [
       "   donorID donors_zip  donors_province  donors_region  donors_gender  \\\n",
       "0   100001       1861                3              1              0   \n",
       "12  100002       2260                0              1              1   \n",
       "13  100003       1780                3              1              1   \n",
       "25  100004       1020                1              0              0   \n",
       "51  100005       1020                1              0              0   \n",
       "\n",
       "    donors_language donors_DOB   yob  age donation_donorID  ...  \\\n",
       "0                 2 1967-12-24  1967   51           100001  ...   \n",
       "12                2 1952-01-14  1952   66           100002  ...   \n",
       "13                2 1986-12-23  1986   32           100003  ...   \n",
       "25                1 1952-03-29  1952   66           100004  ...   \n",
       "51                1 1986-06-25  1986   32           100005  ...   \n",
       "\n",
       "   donation_median_co  donation_max_co donation_min_co  donation_cu  \\\n",
       "0              11.195            30.00            6.69         12.0   \n",
       "12             20.000            20.00           20.00          1.0   \n",
       "13              3.000             5.00            3.00          5.0   \n",
       "25             24.790            49.58           24.79         26.0   \n",
       "51              3.740             5.00            2.48          4.0   \n",
       "\n",
       "      recency  campaignID  campaign date  campaign_lettersSent  \\\n",
       "0  2011-12-30         NaN            NaT                   NaN   \n",
       "12 2015-01-10         NaN            NaT                   NaN   \n",
       "13 2018-07-08         NaN            NaT                   NaN   \n",
       "25 2011-06-03         NaN            NaT                   NaN   \n",
       "51 2018-06-19         NaN            NaT                   NaN   \n",
       "\n",
       "    campaign_cost_per_unit donated_to_6169  \n",
       "0                      NaN               0  \n",
       "12                     NaN               0  \n",
       "13                     NaN               0  \n",
       "25                     NaN               0  \n",
       "51                     NaN               0  \n",
       "\n",
       "[5 rows x 25 columns]"
      ]
     },
     "execution_count": 1187,
     "metadata": {},
     "output_type": "execute_result"
    }
   ],
   "source": [
    "donations_train_6169.head()"
   ]
  },
  {
   "cell_type": "code",
   "execution_count": 1188,
   "id": "0011e0c5",
   "metadata": {},
   "outputs": [],
   "source": [
    "donations_train_6169.drop(['donation_date','donation_amount'],axis=1,inplace=True)"
   ]
  },
  {
   "cell_type": "code",
   "execution_count": 1189,
   "id": "8c7e5228",
   "metadata": {
    "scrolled": false
   },
   "outputs": [
    {
     "data": {
      "text/html": [
       "<div>\n",
       "<style scoped>\n",
       "    .dataframe tbody tr th:only-of-type {\n",
       "        vertical-align: middle;\n",
       "    }\n",
       "\n",
       "    .dataframe tbody tr th {\n",
       "        vertical-align: top;\n",
       "    }\n",
       "\n",
       "    .dataframe thead th {\n",
       "        text-align: right;\n",
       "    }\n",
       "</style>\n",
       "<table border=\"1\" class=\"dataframe\">\n",
       "  <thead>\n",
       "    <tr style=\"text-align: right;\">\n",
       "      <th></th>\n",
       "      <th>donorID</th>\n",
       "      <th>donors_zip</th>\n",
       "      <th>donors_province</th>\n",
       "      <th>donors_region</th>\n",
       "      <th>donors_gender</th>\n",
       "      <th>donors_language</th>\n",
       "      <th>donors_DOB</th>\n",
       "      <th>yob</th>\n",
       "      <th>age</th>\n",
       "      <th>donation_donorID</th>\n",
       "      <th>...</th>\n",
       "      <th>donation_median_co</th>\n",
       "      <th>donation_max_co</th>\n",
       "      <th>donation_min_co</th>\n",
       "      <th>donation_cu</th>\n",
       "      <th>recency</th>\n",
       "      <th>campaignID</th>\n",
       "      <th>campaign date</th>\n",
       "      <th>campaign_lettersSent</th>\n",
       "      <th>campaign_cost_per_unit</th>\n",
       "      <th>donated_to_6169</th>\n",
       "    </tr>\n",
       "  </thead>\n",
       "  <tbody>\n",
       "    <tr>\n",
       "      <th>0</th>\n",
       "      <td>100001</td>\n",
       "      <td>1861</td>\n",
       "      <td>3</td>\n",
       "      <td>1</td>\n",
       "      <td>0</td>\n",
       "      <td>2</td>\n",
       "      <td>1967-12-24</td>\n",
       "      <td>1967</td>\n",
       "      <td>51</td>\n",
       "      <td>100001</td>\n",
       "      <td>...</td>\n",
       "      <td>11.195</td>\n",
       "      <td>30.00</td>\n",
       "      <td>6.69</td>\n",
       "      <td>12.0</td>\n",
       "      <td>2011-12-30</td>\n",
       "      <td>NaN</td>\n",
       "      <td>NaT</td>\n",
       "      <td>NaN</td>\n",
       "      <td>NaN</td>\n",
       "      <td>0</td>\n",
       "    </tr>\n",
       "    <tr>\n",
       "      <th>12</th>\n",
       "      <td>100002</td>\n",
       "      <td>2260</td>\n",
       "      <td>0</td>\n",
       "      <td>1</td>\n",
       "      <td>1</td>\n",
       "      <td>2</td>\n",
       "      <td>1952-01-14</td>\n",
       "      <td>1952</td>\n",
       "      <td>66</td>\n",
       "      <td>100002</td>\n",
       "      <td>...</td>\n",
       "      <td>20.000</td>\n",
       "      <td>20.00</td>\n",
       "      <td>20.00</td>\n",
       "      <td>1.0</td>\n",
       "      <td>2015-01-10</td>\n",
       "      <td>NaN</td>\n",
       "      <td>NaT</td>\n",
       "      <td>NaN</td>\n",
       "      <td>NaN</td>\n",
       "      <td>0</td>\n",
       "    </tr>\n",
       "    <tr>\n",
       "      <th>13</th>\n",
       "      <td>100003</td>\n",
       "      <td>1780</td>\n",
       "      <td>3</td>\n",
       "      <td>1</td>\n",
       "      <td>1</td>\n",
       "      <td>2</td>\n",
       "      <td>1986-12-23</td>\n",
       "      <td>1986</td>\n",
       "      <td>32</td>\n",
       "      <td>100003</td>\n",
       "      <td>...</td>\n",
       "      <td>3.000</td>\n",
       "      <td>5.00</td>\n",
       "      <td>3.00</td>\n",
       "      <td>5.0</td>\n",
       "      <td>2018-07-08</td>\n",
       "      <td>NaN</td>\n",
       "      <td>NaT</td>\n",
       "      <td>NaN</td>\n",
       "      <td>NaN</td>\n",
       "      <td>0</td>\n",
       "    </tr>\n",
       "    <tr>\n",
       "      <th>25</th>\n",
       "      <td>100004</td>\n",
       "      <td>1020</td>\n",
       "      <td>1</td>\n",
       "      <td>0</td>\n",
       "      <td>0</td>\n",
       "      <td>1</td>\n",
       "      <td>1952-03-29</td>\n",
       "      <td>1952</td>\n",
       "      <td>66</td>\n",
       "      <td>100004</td>\n",
       "      <td>...</td>\n",
       "      <td>24.790</td>\n",
       "      <td>49.58</td>\n",
       "      <td>24.79</td>\n",
       "      <td>26.0</td>\n",
       "      <td>2011-06-03</td>\n",
       "      <td>NaN</td>\n",
       "      <td>NaT</td>\n",
       "      <td>NaN</td>\n",
       "      <td>NaN</td>\n",
       "      <td>0</td>\n",
       "    </tr>\n",
       "    <tr>\n",
       "      <th>51</th>\n",
       "      <td>100005</td>\n",
       "      <td>1020</td>\n",
       "      <td>1</td>\n",
       "      <td>0</td>\n",
       "      <td>0</td>\n",
       "      <td>1</td>\n",
       "      <td>1986-06-25</td>\n",
       "      <td>1986</td>\n",
       "      <td>32</td>\n",
       "      <td>100005</td>\n",
       "      <td>...</td>\n",
       "      <td>3.740</td>\n",
       "      <td>5.00</td>\n",
       "      <td>2.48</td>\n",
       "      <td>4.0</td>\n",
       "      <td>2018-06-19</td>\n",
       "      <td>NaN</td>\n",
       "      <td>NaT</td>\n",
       "      <td>NaN</td>\n",
       "      <td>NaN</td>\n",
       "      <td>0</td>\n",
       "    </tr>\n",
       "  </tbody>\n",
       "</table>\n",
       "<p>5 rows × 23 columns</p>\n",
       "</div>"
      ],
      "text/plain": [
       "   donorID donors_zip  donors_province  donors_region  donors_gender  \\\n",
       "0   100001       1861                3              1              0   \n",
       "12  100002       2260                0              1              1   \n",
       "13  100003       1780                3              1              1   \n",
       "25  100004       1020                1              0              0   \n",
       "51  100005       1020                1              0              0   \n",
       "\n",
       "    donors_language donors_DOB   yob  age donation_donorID  ...  \\\n",
       "0                 2 1967-12-24  1967   51           100001  ...   \n",
       "12                2 1952-01-14  1952   66           100002  ...   \n",
       "13                2 1986-12-23  1986   32           100003  ...   \n",
       "25                1 1952-03-29  1952   66           100004  ...   \n",
       "51                1 1986-06-25  1986   32           100005  ...   \n",
       "\n",
       "   donation_median_co  donation_max_co  donation_min_co  donation_cu  \\\n",
       "0              11.195            30.00             6.69         12.0   \n",
       "12             20.000            20.00            20.00          1.0   \n",
       "13              3.000             5.00             3.00          5.0   \n",
       "25             24.790            49.58            24.79         26.0   \n",
       "51              3.740             5.00             2.48          4.0   \n",
       "\n",
       "      recency  campaignID  campaign date campaign_lettersSent  \\\n",
       "0  2011-12-30         NaN            NaT                  NaN   \n",
       "12 2015-01-10         NaN            NaT                  NaN   \n",
       "13 2018-07-08         NaN            NaT                  NaN   \n",
       "25 2011-06-03         NaN            NaT                  NaN   \n",
       "51 2018-06-19         NaN            NaT                  NaN   \n",
       "\n",
       "   campaign_cost_per_unit donated_to_6169  \n",
       "0                     NaN               0  \n",
       "12                    NaN               0  \n",
       "13                    NaN               0  \n",
       "25                    NaN               0  \n",
       "51                    NaN               0  \n",
       "\n",
       "[5 rows x 23 columns]"
      ]
     },
     "execution_count": 1189,
     "metadata": {},
     "output_type": "execute_result"
    }
   ],
   "source": [
    "donations_train_6169.head()"
   ]
  },
  {
   "cell_type": "code",
   "execution_count": 1190,
   "id": "8c6dc1f8",
   "metadata": {},
   "outputs": [
    {
     "data": {
      "text/plain": [
       "donorID                           object\n",
       "donors_zip                        object\n",
       "donors_province                    int32\n",
       "donors_region                      int32\n",
       "donors_gender                      int32\n",
       "donors_language                    int32\n",
       "donors_DOB                datetime64[ns]\n",
       "yob                                int32\n",
       "age                                int32\n",
       "donation_donorID                  object\n",
       "donation_campaignID               object\n",
       "donation_total_co                float64\n",
       "donation_average_co              float64\n",
       "donation_median_co               float64\n",
       "donation_max_co                  float64\n",
       "donation_min_co                  float64\n",
       "donation_cu                      float64\n",
       "recency                   datetime64[ns]\n",
       "campaignID                        object\n",
       "campaign date             datetime64[ns]\n",
       "campaign_lettersSent             float64\n",
       "campaign_cost_per_unit           float64\n",
       "donated_to_6169                    int32\n",
       "dtype: object"
      ]
     },
     "execution_count": 1190,
     "metadata": {},
     "output_type": "execute_result"
    }
   ],
   "source": [
    "donations_train_6169.dtypes"
   ]
  },
  {
   "cell_type": "code",
   "execution_count": 1191,
   "id": "a2253cea",
   "metadata": {},
   "outputs": [],
   "source": [
    "#this function returns a basetable for a campaign based on the campaigns ID and the cut off date for the features as well\n",
    "#as the specified target variable\n",
    "\n",
    "def get_basetable(campaign_id: [str], date_Y_m_d: [str], target_var_name: [str]):\n",
    "    \n",
    "    global campaigns\n",
    "    \n",
    "    name_of_campaigns_df = campaigns[campaigns['campaignID']== campaign_id]\n",
    "    \n",
    "    date = date_Y_m_d\n",
    "    \n",
    "    cut_off_date = datetime.strptime(date,'%Y%m%d')\n",
    "    \n",
    "    global gifts\n",
    "    \n",
    "    gifts_cut_off = gifts[gifts['donation_date'] < cut_off_date]\n",
    "    \n",
    "    gifts_donations = gifts_cut_off.groupby('donation_donorID').agg({'donation_amount': ['sum','mean','median','max','min','count']}).reset_index()\n",
    "    \n",
    "    gifts_donations.columns = ['donation_donorID','donation_total_co','donation_average_co','donation_median_co','donation_max_co','donation_min_co','donation_cu']\n",
    "    \n",
    "    recency = gifts_cut_off.groupby(by=\"donation_donorID\").agg({'donation_date': 'max'}).reset_index()\n",
    "    \n",
    "    recency.rename(columns = {\"donation_date\":\"recency\"},inplace=True)\n",
    "    \n",
    "    gifts_donation_all = gifts_donations.merge(recency, on=\"donation_donorID\",how=\"left\")\n",
    "    \n",
    "    donations_train = gifts.merge(gifts_donation_all, on='donation_donorID',how='left')\n",
    "    \n",
    "    global donors\n",
    "    \n",
    "    donations_train = donors.merge(donations_train,left_on='donorID',right_on='donation_donorID', how='left')\n",
    "    \n",
    "    donations_train = donations_train.merge(name_of_campaigns_df, left_on='donation_campaignID', right_on='campaignID', how='left')\n",
    "    \n",
    "    donations_train[target_var_name] = np.where((donations_train['donation_campaignID'] == campaign_id) & (donations_train['donation_amount'] >= 30.0),1,0)\n",
    "    \n",
    "    donations_1 = donations_train[donations_train[target_var_name] == 1]\n",
    "    \n",
    "    donations_1.drop_duplicates(subset='donation_donorID',inplace=True)\n",
    "    \n",
    "    donations_0 = donations_train[donations_train[target_var_name]== 0]\n",
    "    \n",
    "    donations_0.drop_duplicates(subset='donation_donorID',inplace=True)\n",
    "    \n",
    "    donations_train = pd.concat([donations_0,donations_1],axis=0)\n",
    "    \n",
    "    donations_train.drop(['donation_date','donation_amount'],axis=1,inplace=True)\n",
    "    \n",
    "    return donations_train"
   ]
  },
  {
   "cell_type": "code",
   "execution_count": 1192,
   "id": "2036a51f",
   "metadata": {
    "scrolled": false
   },
   "outputs": [
    {
     "name": "stderr",
     "output_type": "stream",
     "text": [
      "<ipython-input-1191-56138ae0590c>:37: SettingWithCopyWarning: \n",
      "A value is trying to be set on a copy of a slice from a DataFrame\n",
      "\n",
      "See the caveats in the documentation: https://pandas.pydata.org/pandas-docs/stable/user_guide/indexing.html#returning-a-view-versus-a-copy\n",
      "  donations_1.drop_duplicates(subset='donation_donorID',inplace=True)\n",
      "<ipython-input-1191-56138ae0590c>:41: SettingWithCopyWarning: \n",
      "A value is trying to be set on a copy of a slice from a DataFrame\n",
      "\n",
      "See the caveats in the documentation: https://pandas.pydata.org/pandas-docs/stable/user_guide/indexing.html#returning-a-view-versus-a-copy\n",
      "  donations_0.drop_duplicates(subset='donation_donorID',inplace=True)\n"
     ]
    }
   ],
   "source": [
    "donations_train_7244 = get_basetable(campaign_id=\"7244\",date_Y_m_d='20190518', target_var_name='donated_to_7244')"
   ]
  },
  {
   "cell_type": "code",
   "execution_count": 1193,
   "id": "894a85bf",
   "metadata": {
    "scrolled": true
   },
   "outputs": [
    {
     "data": {
      "text/html": [
       "<div>\n",
       "<style scoped>\n",
       "    .dataframe tbody tr th:only-of-type {\n",
       "        vertical-align: middle;\n",
       "    }\n",
       "\n",
       "    .dataframe tbody tr th {\n",
       "        vertical-align: top;\n",
       "    }\n",
       "\n",
       "    .dataframe thead th {\n",
       "        text-align: right;\n",
       "    }\n",
       "</style>\n",
       "<table border=\"1\" class=\"dataframe\">\n",
       "  <thead>\n",
       "    <tr style=\"text-align: right;\">\n",
       "      <th></th>\n",
       "      <th>donorID</th>\n",
       "      <th>donors_zip</th>\n",
       "      <th>donors_province</th>\n",
       "      <th>donors_region</th>\n",
       "      <th>donors_gender</th>\n",
       "      <th>donors_language</th>\n",
       "      <th>donors_DOB</th>\n",
       "      <th>yob</th>\n",
       "      <th>age</th>\n",
       "      <th>donation_donorID</th>\n",
       "      <th>...</th>\n",
       "      <th>donation_median_co</th>\n",
       "      <th>donation_max_co</th>\n",
       "      <th>donation_min_co</th>\n",
       "      <th>donation_cu</th>\n",
       "      <th>recency</th>\n",
       "      <th>campaignID</th>\n",
       "      <th>campaign date</th>\n",
       "      <th>campaign_lettersSent</th>\n",
       "      <th>campaign_cost_per_unit</th>\n",
       "      <th>donated_to_7244</th>\n",
       "    </tr>\n",
       "  </thead>\n",
       "  <tbody>\n",
       "    <tr>\n",
       "      <th>0</th>\n",
       "      <td>100001</td>\n",
       "      <td>1861</td>\n",
       "      <td>3</td>\n",
       "      <td>1</td>\n",
       "      <td>0</td>\n",
       "      <td>2</td>\n",
       "      <td>1967-12-24</td>\n",
       "      <td>1967</td>\n",
       "      <td>51</td>\n",
       "      <td>100001</td>\n",
       "      <td>...</td>\n",
       "      <td>11.195</td>\n",
       "      <td>30.00</td>\n",
       "      <td>6.69</td>\n",
       "      <td>12.0</td>\n",
       "      <td>2011-12-30</td>\n",
       "      <td>NaN</td>\n",
       "      <td>NaT</td>\n",
       "      <td>NaN</td>\n",
       "      <td>NaN</td>\n",
       "      <td>0</td>\n",
       "    </tr>\n",
       "    <tr>\n",
       "      <th>12</th>\n",
       "      <td>100002</td>\n",
       "      <td>2260</td>\n",
       "      <td>0</td>\n",
       "      <td>1</td>\n",
       "      <td>1</td>\n",
       "      <td>2</td>\n",
       "      <td>1952-01-14</td>\n",
       "      <td>1952</td>\n",
       "      <td>66</td>\n",
       "      <td>100002</td>\n",
       "      <td>...</td>\n",
       "      <td>20.000</td>\n",
       "      <td>20.00</td>\n",
       "      <td>20.00</td>\n",
       "      <td>1.0</td>\n",
       "      <td>2015-01-10</td>\n",
       "      <td>NaN</td>\n",
       "      <td>NaT</td>\n",
       "      <td>NaN</td>\n",
       "      <td>NaN</td>\n",
       "      <td>0</td>\n",
       "    </tr>\n",
       "    <tr>\n",
       "      <th>13</th>\n",
       "      <td>100003</td>\n",
       "      <td>1780</td>\n",
       "      <td>3</td>\n",
       "      <td>1</td>\n",
       "      <td>1</td>\n",
       "      <td>2</td>\n",
       "      <td>1986-12-23</td>\n",
       "      <td>1986</td>\n",
       "      <td>32</td>\n",
       "      <td>100003</td>\n",
       "      <td>...</td>\n",
       "      <td>4.000</td>\n",
       "      <td>5.00</td>\n",
       "      <td>3.00</td>\n",
       "      <td>11.0</td>\n",
       "      <td>2019-05-06</td>\n",
       "      <td>NaN</td>\n",
       "      <td>NaT</td>\n",
       "      <td>NaN</td>\n",
       "      <td>NaN</td>\n",
       "      <td>0</td>\n",
       "    </tr>\n",
       "    <tr>\n",
       "      <th>25</th>\n",
       "      <td>100004</td>\n",
       "      <td>1020</td>\n",
       "      <td>1</td>\n",
       "      <td>0</td>\n",
       "      <td>0</td>\n",
       "      <td>1</td>\n",
       "      <td>1952-03-29</td>\n",
       "      <td>1952</td>\n",
       "      <td>66</td>\n",
       "      <td>100004</td>\n",
       "      <td>...</td>\n",
       "      <td>24.790</td>\n",
       "      <td>49.58</td>\n",
       "      <td>24.79</td>\n",
       "      <td>26.0</td>\n",
       "      <td>2011-06-03</td>\n",
       "      <td>NaN</td>\n",
       "      <td>NaT</td>\n",
       "      <td>NaN</td>\n",
       "      <td>NaN</td>\n",
       "      <td>0</td>\n",
       "    </tr>\n",
       "    <tr>\n",
       "      <th>51</th>\n",
       "      <td>100005</td>\n",
       "      <td>1020</td>\n",
       "      <td>1</td>\n",
       "      <td>0</td>\n",
       "      <td>0</td>\n",
       "      <td>1</td>\n",
       "      <td>1986-06-25</td>\n",
       "      <td>1986</td>\n",
       "      <td>32</td>\n",
       "      <td>100005</td>\n",
       "      <td>...</td>\n",
       "      <td>5.000</td>\n",
       "      <td>10.00</td>\n",
       "      <td>2.48</td>\n",
       "      <td>5.0</td>\n",
       "      <td>2019-04-18</td>\n",
       "      <td>NaN</td>\n",
       "      <td>NaT</td>\n",
       "      <td>NaN</td>\n",
       "      <td>NaN</td>\n",
       "      <td>0</td>\n",
       "    </tr>\n",
       "  </tbody>\n",
       "</table>\n",
       "<p>5 rows × 23 columns</p>\n",
       "</div>"
      ],
      "text/plain": [
       "   donorID donors_zip  donors_province  donors_region  donors_gender  \\\n",
       "0   100001       1861                3              1              0   \n",
       "12  100002       2260                0              1              1   \n",
       "13  100003       1780                3              1              1   \n",
       "25  100004       1020                1              0              0   \n",
       "51  100005       1020                1              0              0   \n",
       "\n",
       "    donors_language donors_DOB   yob  age donation_donorID  ...  \\\n",
       "0                 2 1967-12-24  1967   51           100001  ...   \n",
       "12                2 1952-01-14  1952   66           100002  ...   \n",
       "13                2 1986-12-23  1986   32           100003  ...   \n",
       "25                1 1952-03-29  1952   66           100004  ...   \n",
       "51                1 1986-06-25  1986   32           100005  ...   \n",
       "\n",
       "   donation_median_co  donation_max_co  donation_min_co  donation_cu  \\\n",
       "0              11.195            30.00             6.69         12.0   \n",
       "12             20.000            20.00            20.00          1.0   \n",
       "13              4.000             5.00             3.00         11.0   \n",
       "25             24.790            49.58            24.79         26.0   \n",
       "51              5.000            10.00             2.48          5.0   \n",
       "\n",
       "      recency  campaignID  campaign date campaign_lettersSent  \\\n",
       "0  2011-12-30         NaN            NaT                  NaN   \n",
       "12 2015-01-10         NaN            NaT                  NaN   \n",
       "13 2019-05-06         NaN            NaT                  NaN   \n",
       "25 2011-06-03         NaN            NaT                  NaN   \n",
       "51 2019-04-18         NaN            NaT                  NaN   \n",
       "\n",
       "   campaign_cost_per_unit donated_to_7244  \n",
       "0                     NaN               0  \n",
       "12                    NaN               0  \n",
       "13                    NaN               0  \n",
       "25                    NaN               0  \n",
       "51                    NaN               0  \n",
       "\n",
       "[5 rows x 23 columns]"
      ]
     },
     "execution_count": 1193,
     "metadata": {},
     "output_type": "execute_result"
    }
   ],
   "source": [
    "donations_train_7244.head()"
   ]
  },
  {
   "cell_type": "code",
   "execution_count": 1195,
   "id": "001819c6",
   "metadata": {},
   "outputs": [
    {
     "data": {
      "text/plain": [
       "0    44685\n",
       "1      217\n",
       "Name: donated_to_7244, dtype: int64"
      ]
     },
     "execution_count": 1195,
     "metadata": {},
     "output_type": "execute_result"
    }
   ],
   "source": [
    "donations_train_7244['donated_to_7244'].value_counts()"
   ]
  },
  {
   "cell_type": "code",
   "execution_count": 1196,
   "id": "ad65f60c",
   "metadata": {},
   "outputs": [],
   "source": [
    "donations_train_7244.drop(3356,axis=0,inplace=True)"
   ]
  },
  {
   "cell_type": "code",
   "execution_count": 1197,
   "id": "914c5b8c",
   "metadata": {},
   "outputs": [],
   "source": [
    "#convert recency datetime type to ordinal numeric value for model fitting and predicting \n",
    "\n",
    "donations_train_6169['recency'] = donations_train_6169['recency'].apply(lambda x:x.toordinal())\n",
    "donations_train_7244['recency'] = donations_train_7244['recency'].apply(lambda x:x.toordinal())"
   ]
  },
  {
   "cell_type": "markdown",
   "id": "4f62f5db",
   "metadata": {},
   "source": [
    "# Subsetting for Selection Campaigns\n"
   ]
  },
  {
   "cell_type": "code",
   "execution_count": 1198,
   "id": "52eba710",
   "metadata": {},
   "outputs": [],
   "source": [
    "selection_campaign_6169 = pd.read_csv('C:/Users/dkestenbaum/Desktop/PDA_GROUP ASSIGNMENT DSC use-case-20211201/selection campaign 6169.csv')"
   ]
  },
  {
   "cell_type": "code",
   "execution_count": 1199,
   "id": "fdeca0a3",
   "metadata": {},
   "outputs": [],
   "source": [
    "selection_campaign_6169['donorID'] = selection_campaign_6169['donorID'].astype(str)"
   ]
  },
  {
   "cell_type": "code",
   "execution_count": 1200,
   "id": "b36f73eb",
   "metadata": {},
   "outputs": [],
   "source": [
    "donations_train_6169_selected = donations_train_6169.merge(selection_campaign_6169,on='donorID',how='inner')"
   ]
  },
  {
   "cell_type": "code",
   "execution_count": 1201,
   "id": "3961210f",
   "metadata": {
    "scrolled": true
   },
   "outputs": [
    {
     "data": {
      "text/plain": [
       "0    34867\n",
       "1      949\n",
       "Name: donated_to_6169, dtype: int64"
      ]
     },
     "execution_count": 1201,
     "metadata": {},
     "output_type": "execute_result"
    }
   ],
   "source": [
    "donations_train_6169_selected['donated_to_6169'].value_counts()"
   ]
  },
  {
   "cell_type": "code",
   "execution_count": 1202,
   "id": "0000cf9b",
   "metadata": {},
   "outputs": [],
   "source": [
    "selection_campaign_7244 = pd.read_csv('C:/Users/dkestenbaum/Desktop/PDA_GROUP ASSIGNMENT DSC use-case-20211201/selection campaign 7244.csv')"
   ]
  },
  {
   "cell_type": "code",
   "execution_count": 1203,
   "id": "efbcce16",
   "metadata": {},
   "outputs": [],
   "source": [
    "selection_campaign_7244['donorID'] = selection_campaign_7244['donorID'].astype(str)"
   ]
  },
  {
   "cell_type": "code",
   "execution_count": 1204,
   "id": "87b462c7",
   "metadata": {},
   "outputs": [],
   "source": [
    "donations_train_7244_selected = donations_train_7244.merge(selection_campaign_7244,on='donorID',how='inner')"
   ]
  },
  {
   "cell_type": "code",
   "execution_count": 1205,
   "id": "a6a96f4a",
   "metadata": {
    "scrolled": false
   },
   "outputs": [
    {
     "data": {
      "text/plain": [
       "0    25643\n",
       "1      217\n",
       "Name: donated_to_7244, dtype: int64"
      ]
     },
     "execution_count": 1205,
     "metadata": {},
     "output_type": "execute_result"
    }
   ],
   "source": [
    "donations_train_7244_selected['donated_to_7244'].value_counts()"
   ]
  },
  {
   "cell_type": "code",
   "execution_count": 1206,
   "id": "678037f4",
   "metadata": {},
   "outputs": [],
   "source": [
    "X_train_6169 = donations_train_6169_selected.drop('donated_to_6169',axis=1)\n",
    "y_train_6169 = donations_train_6169_selected['donated_to_6169']"
   ]
  },
  {
   "cell_type": "code",
   "execution_count": 1207,
   "id": "7eefec2c",
   "metadata": {},
   "outputs": [
    {
     "data": {
      "text/plain": [
       "Index(['donorID', 'donors_zip', 'donors_province', 'donors_region',\n",
       "       'donors_gender', 'donors_language', 'donors_DOB', 'yob', 'age',\n",
       "       'donation_donorID', 'donation_campaignID', 'donation_total_co',\n",
       "       'donation_average_co', 'donation_median_co', 'donation_max_co',\n",
       "       'donation_min_co', 'donation_cu', 'recency', 'campaignID',\n",
       "       'campaign date', 'campaign_lettersSent', 'campaign_cost_per_unit'],\n",
       "      dtype='object')"
      ]
     },
     "execution_count": 1207,
     "metadata": {},
     "output_type": "execute_result"
    }
   ],
   "source": [
    "X_train_6169.columns"
   ]
  },
  {
   "cell_type": "code",
   "execution_count": 1208,
   "id": "3c5605b4",
   "metadata": {
    "scrolled": true
   },
   "outputs": [],
   "source": [
    "X_train_6169_features = X_train_6169[['donorID', 'donors_zip', 'donors_province', 'donors_region',\n",
    "       'donors_gender', 'donors_language', 'donors_DOB', 'yob', 'age',\n",
    "       'donation_donorID', 'donation_campaignID', 'donation_total_co',\n",
    "       'donation_average_co', 'donation_median_co', 'donation_max_co',\n",
    "       'donation_min_co', 'donation_cu', 'campaignID', 'campaign date',\n",
    "       'campaign_lettersSent', 'campaign_cost_per_unit','recency']]"
   ]
  },
  {
   "cell_type": "code",
   "execution_count": 1209,
   "id": "2368f48c",
   "metadata": {},
   "outputs": [],
   "source": [
    "donations_train_7244_selected.drop('age',inplace=True,axis=1)"
   ]
  },
  {
   "cell_type": "code",
   "execution_count": 1210,
   "id": "7182a585",
   "metadata": {},
   "outputs": [],
   "source": [
    "donations_train_7244_selected['age'] = 2019 - donations_train_7244_selected['yob']"
   ]
  },
  {
   "cell_type": "code",
   "execution_count": 1211,
   "id": "7267ca19",
   "metadata": {},
   "outputs": [],
   "source": [
    "X_test_7244 = donations_train_7244_selected.drop(\"donated_to_7244\",axis=1)\n",
    "y_test_7244 = donations_train_7244_selected['donated_to_7244']"
   ]
  },
  {
   "cell_type": "code",
   "execution_count": 1212,
   "id": "ffcf981f",
   "metadata": {},
   "outputs": [],
   "source": [
    "X_test_7244_features = X_test_7244[['donorID', 'donors_zip', 'donors_province', 'donors_region',\n",
    "       'donors_gender', 'donors_language', 'donors_DOB', 'yob', 'age',\n",
    "       'donation_donorID', 'donation_campaignID', 'donation_total_co',\n",
    "       'donation_average_co', 'donation_median_co', 'donation_max_co',\n",
    "       'donation_min_co', 'donation_cu', 'campaignID', 'campaign date',\n",
    "       'campaign_lettersSent', 'campaign_cost_per_unit','recency']]"
   ]
  },
  {
   "cell_type": "code",
   "execution_count": 1213,
   "id": "8e35c15c",
   "metadata": {
    "scrolled": true
   },
   "outputs": [
    {
     "name": "stdout",
     "output_type": "stream",
     "text": [
      "donors_province - p-vlue = 0.8825083737098818 - selected : 0\n",
      "donors_region - p-vlue = 0.6088877489449505 - selected : 0\n",
      "donors_gender - p-vlue = 4.708415860835804e-87 - selected : 1\n",
      "donors_language - p-vlue = 0.009737361757311474 - selected : 0\n",
      "yob - p-vlue = 7.778148317006798e-80 - selected : 1\n",
      "age - p-vlue = 7.778148317020947e-80 - selected : 1\n",
      "donation_total_co - p-vlue = 0.8493851916227793 - selected : 0\n",
      "donation_average_co - p-vlue = 0.8221498187168728 - selected : 0\n",
      "donation_median_co - p-vlue = 0.8225723745903779 - selected : 0\n",
      "donation_max_co - p-vlue = 0.8239891832141767 - selected : 0\n",
      "donation_min_co - p-vlue = 0.8751607723583259 - selected : 0\n",
      "donation_cu - p-vlue = 0.2942420776815557 - selected : 0\n",
      "recency - p-vlue = 6.371543747115007e-08 - selected : 1\n"
     ]
    }
   ],
   "source": [
    "#sourced from in-class notebook \n",
    "\n",
    "selectedFeatures = []\n",
    "target = \"donated_to_6169\"\n",
    "\n",
    "for column in X_train_6169_features.columns:\n",
    "    if column not in (\"donorID\",\"donated_to_6169\",\"donation_donorID\",\"donors_zip\",\"donation_donorID\",\"donation_campaignID\",\n",
    "                     \"campaignID\",\"campaign date\",\"donors_DOB\",\"campaign_lettersSent\",\"campaign_cost_per_unit\"):\n",
    "        (pearson,pvalue) = pearsonr(X_train_6169_features[column],donations_train_6169_selected[target])\n",
    "        print(f\"{column} - p-vlue = {pvalue} - selected : {1 if pvalue < 0.001 else 0}\")\n",
    "        if pvalue < 0.001:\n",
    "            selectedFeatures.append(column)"
   ]
  },
  {
   "cell_type": "code",
   "execution_count": 1214,
   "id": "bc328850",
   "metadata": {},
   "outputs": [],
   "source": [
    "X_train_6169_features = X_train_6169_features[['donors_province','donors_region','donors_gender','donors_language','yob','age','donation_total_co','donation_average_co','donation_median_co','donation_max_co','donation_min_co','donation_cu','recency']]"
   ]
  },
  {
   "cell_type": "code",
   "execution_count": 1215,
   "id": "e1faac18",
   "metadata": {},
   "outputs": [],
   "source": [
    "X_test_7244_features = X_test_7244[['donors_province','donors_region','donors_gender','donors_language','yob','age','donation_total_co','donation_average_co','donation_median_co','donation_max_co','donation_min_co','donation_cu','recency']]"
   ]
  },
  {
   "cell_type": "markdown",
   "id": "832a93ad",
   "metadata": {},
   "source": [
    "# Model 1: Logestion Regression"
   ]
  },
  {
   "cell_type": "code",
   "execution_count": 1216,
   "id": "38b67180",
   "metadata": {},
   "outputs": [],
   "source": [
    "model = LogisticRegression(solver = \"lbfgs\", max_iter = 500)"
   ]
  },
  {
   "cell_type": "code",
   "execution_count": 1217,
   "id": "abebd319",
   "metadata": {},
   "outputs": [],
   "source": [
    "#test set\n",
    "\n",
    "model_test_1 = model.fit(X_train_6169_features,y_train_6169)"
   ]
  },
  {
   "cell_type": "code",
   "execution_count": 1218,
   "id": "83a05c0e",
   "metadata": {},
   "outputs": [
    {
     "data": {
      "text/plain": [
       "0        0.024481\n",
       "1        0.041750\n",
       "2        0.063766\n",
       "3        0.086511\n",
       "4        0.014615\n",
       "           ...   \n",
       "25855    0.015484\n",
       "25856    0.013792\n",
       "25857    0.028043\n",
       "25858    0.018557\n",
       "25859    0.012912\n",
       "Name: 1, Length: 25860, dtype: float64"
      ]
     },
     "execution_count": 1218,
     "metadata": {},
     "output_type": "execute_result"
    }
   ],
   "source": [
    "DataFrame(model_test_1.predict_proba(X_test_7244_features))[1]"
   ]
  },
  {
   "cell_type": "code",
   "execution_count": 1219,
   "id": "18804f03",
   "metadata": {
    "scrolled": true
   },
   "outputs": [
    {
     "name": "stderr",
     "output_type": "stream",
     "text": [
      "<ipython-input-1219-6a61b1451721>:1: SettingWithCopyWarning: \n",
      "A value is trying to be set on a copy of a slice from a DataFrame.\n",
      "Try using .loc[row_indexer,col_indexer] = value instead\n",
      "\n",
      "See the caveats in the documentation: https://pandas.pydata.org/pandas-docs/stable/user_guide/indexing.html#returning-a-view-versus-a-copy\n",
      "  X_test_7244_features[\"proba donated\"] = DataFrame(model_test_1.predict_proba(X_test_7244_features))[1]\n"
     ]
    }
   ],
   "source": [
    "X_test_7244_features[\"proba donated\"] = DataFrame(model_test_1.predict_proba(X_test_7244_features))[1]"
   ]
  },
  {
   "cell_type": "code",
   "execution_count": 1220,
   "id": "d17d6c7b",
   "metadata": {},
   "outputs": [],
   "source": [
    "X_train, X_test_6169, y_train, y_test_6169 = train_test_split(X_train_6169, y_train_6169,test_size=.3, random_state=0,stratify=y_train_6169)"
   ]
  },
  {
   "cell_type": "code",
   "execution_count": 1221,
   "id": "b81d8add",
   "metadata": {},
   "outputs": [],
   "source": [
    "X_train1 = X_train[['donors_province','donors_region','donors_gender','donors_language','yob','age','donation_total_co','donation_average_co','donation_median_co','donation_max_co','donation_min_co','donation_cu','recency']]\n",
    "X_test_6169_1 = X_test_6169[['donors_province','donors_region','donors_gender','donors_language','yob','age','donation_total_co','donation_average_co','donation_median_co','donation_max_co','donation_min_co','donation_cu','recency']]"
   ]
  },
  {
   "cell_type": "code",
   "execution_count": 1222,
   "id": "7c4c2dc6",
   "metadata": {},
   "outputs": [],
   "source": [
    "#train set\n",
    "\n",
    "model_train_1 = model.fit(X_train1,y_train)"
   ]
  },
  {
   "cell_type": "code",
   "execution_count": 1223,
   "id": "65601955",
   "metadata": {
    "scrolled": false
   },
   "outputs": [],
   "source": [
    "#train set\n",
    "\n",
    "X_test_6169[\"proba donated\"] = DataFrame(model_train_1.predict_proba(X_test_6169_1))[1]"
   ]
  },
  {
   "cell_type": "code",
   "execution_count": 1224,
   "id": "8e6e8802",
   "metadata": {
    "scrolled": false
   },
   "outputs": [],
   "source": [
    "#impute NAN\n",
    "\n",
    "X_test_6169['proba donated'] = np.where(X_test_6169[\"proba donated\"].isnull(),0.0,X_test_6169['proba donated'])"
   ]
  },
  {
   "cell_type": "code",
   "execution_count": 1225,
   "id": "5c6982c4",
   "metadata": {},
   "outputs": [
    {
     "data": {
      "text/plain": [
       "29972    0.000000\n",
       "9245     0.025339\n",
       "10115    0.026092\n",
       "34864    0.000000\n",
       "20753    0.000000\n",
       "           ...   \n",
       "5637     0.025777\n",
       "1181     0.025705\n",
       "2360     0.026011\n",
       "33427    0.000000\n",
       "3150     0.025347\n",
       "Name: proba donated, Length: 10745, dtype: float64"
      ]
     },
     "execution_count": 1225,
     "metadata": {},
     "output_type": "execute_result"
    }
   ],
   "source": [
    "X_test_6169['proba donated']"
   ]
  },
  {
   "cell_type": "markdown",
   "id": "d413ccf0",
   "metadata": {},
   "source": [
    "# Scores 1"
   ]
  },
  {
   "cell_type": "code",
   "execution_count": 1226,
   "id": "e3af0b09",
   "metadata": {},
   "outputs": [
    {
     "name": "stdout",
     "output_type": "stream",
     "text": [
      "0.5290711482338734\n",
      "0.5490260544868921\n"
     ]
    }
   ],
   "source": [
    "aucTrain = roc_auc_score(array(y_test_6169),array(X_test_6169[\"proba donated\"]))\n",
    "aucTest     = roc_auc_score(array(donations_train_7244_selected['donated_to_7244']),array(X_test_7244_features[\"proba donated\"]))\n",
    "\n",
    "print(aucTrain)\n",
    "print(aucTest)"
   ]
  },
  {
   "cell_type": "markdown",
   "id": "f6457192",
   "metadata": {},
   "source": [
    "Isolating features "
   ]
  },
  {
   "cell_type": "code",
   "execution_count": 1227,
   "id": "374ea9df",
   "metadata": {},
   "outputs": [
    {
     "data": {
      "image/png": "[encoded data removed]",
      "text/plain": [
       "<Figure size 720x864 with 2 Axes>"
      ]
     },
     "metadata": {
      "needs_background": "light"
     },
     "output_type": "display_data"
    }
   ],
   "source": [
    "#pearson correlation matrix to explore feature correlation\n",
    "\n",
    "plt.figure(figsize=(10,12))\n",
    "cor = X_train_6169_features.corr()\n",
    "sns.heatmap(cor, annot=True, cmap=plt.cm.CMRmap_r)\n",
    "plt.show()"
   ]
  },
  {
   "cell_type": "code",
   "execution_count": 1228,
   "id": "fdc2f3ae",
   "metadata": {},
   "outputs": [],
   "source": [
    "#sourced from sklearn documentation\n",
    "def correlation(dataset, threshold):\n",
    "    col_corr = set() # Set of all names of correlated columns\n",
    "    corr_matrix = dataset.corr()\n",
    "    for i in range(len(corr_matrix.columns)):\n",
    "        for j in range(i):\n",
    "            if abs(corr_matrix.iloc[i, j]) > threshold: \n",
    "                colname = corr_matrix.columns[i]\n",
    "                col_corr.add(colname)\n",
    "    return col_corr"
   ]
  },
  {
   "cell_type": "code",
   "execution_count": 1229,
   "id": "e28ca5c8",
   "metadata": {},
   "outputs": [
    {
     "data": {
      "text/plain": [
       "5"
      ]
     },
     "execution_count": 1229,
     "metadata": {},
     "output_type": "execute_result"
    }
   ],
   "source": [
    "corr_features = correlation(X_train_6169_features, 0.7)\n",
    "len(set(corr_features))"
   ]
  },
  {
   "cell_type": "code",
   "execution_count": 1230,
   "id": "aa2f23b1",
   "metadata": {
    "scrolled": true
   },
   "outputs": [
    {
     "data": {
      "text/plain": [
       "{'age',\n",
       " 'donation_average_co',\n",
       " 'donation_max_co',\n",
       " 'donation_median_co',\n",
       " 'donation_min_co'}"
      ]
     },
     "execution_count": 1230,
     "metadata": {},
     "output_type": "execute_result"
    }
   ],
   "source": [
    "corr_features"
   ]
  },
  {
   "cell_type": "code",
   "execution_count": 1231,
   "id": "7d2e625c",
   "metadata": {},
   "outputs": [],
   "source": [
    "X_train_6169_features = X_train_6169_features[['donors_province','donors_region','donors_gender','donors_language','age','donation_total_co','donation_cu']]"
   ]
  },
  {
   "cell_type": "code",
   "execution_count": 1232,
   "id": "18673b53",
   "metadata": {},
   "outputs": [],
   "source": [
    "X_test_7244_features = X_test_7244[['donors_province','donors_region','donors_gender','donors_language','age','donation_total_co','donation_cu']]"
   ]
  },
  {
   "cell_type": "code",
   "execution_count": 1233,
   "id": "9ba45a7a",
   "metadata": {
    "scrolled": true
   },
   "outputs": [],
   "source": [
    "#test set\n",
    "\n",
    "model_test_2 = model.fit(X_train_6169_features,y_train_6169)"
   ]
  },
  {
   "cell_type": "code",
   "execution_count": 1234,
   "id": "557b9566",
   "metadata": {
    "scrolled": true
   },
   "outputs": [
    {
     "data": {
      "text/plain": [
       "0        0.045221\n",
       "1        0.019536\n",
       "2        0.024047\n",
       "3        0.049992\n",
       "4        0.009021\n",
       "           ...   \n",
       "25855    0.005458\n",
       "25856    0.001832\n",
       "25857    0.046950\n",
       "25858    0.006654\n",
       "25859    0.007907\n",
       "Name: 1, Length: 25860, dtype: float64"
      ]
     },
     "execution_count": 1234,
     "metadata": {},
     "output_type": "execute_result"
    }
   ],
   "source": [
    "#test set\n",
    "DataFrame(model_test_2.predict_proba(X_test_7244_features))[1]"
   ]
  },
  {
   "cell_type": "code",
   "execution_count": 1235,
   "id": "97682170",
   "metadata": {
    "scrolled": false
   },
   "outputs": [
    {
     "name": "stderr",
     "output_type": "stream",
     "text": [
      "<ipython-input-1235-0239454ad7d0>:3: SettingWithCopyWarning: \n",
      "A value is trying to be set on a copy of a slice from a DataFrame.\n",
      "Try using .loc[row_indexer,col_indexer] = value instead\n",
      "\n",
      "See the caveats in the documentation: https://pandas.pydata.org/pandas-docs/stable/user_guide/indexing.html#returning-a-view-versus-a-copy\n",
      "  X_test_7244_features[\"proba donated\"] = DataFrame(model_test_2.predict_proba(X_test_7244_features))[1]\n"
     ]
    }
   ],
   "source": [
    "#test set\n",
    "\n",
    "X_test_7244_features[\"proba donated\"] = DataFrame(model_test_2.predict_proba(X_test_7244_features))[1]"
   ]
  },
  {
   "cell_type": "code",
   "execution_count": 1236,
   "id": "92d0da1d",
   "metadata": {},
   "outputs": [],
   "source": [
    "X_train2 = X_train[['donors_province','donors_region','donors_gender','donors_language','age','donation_total_co','donation_cu']]\n",
    "X_test_6169_2 = X_test_6169[['donors_province','donors_region','donors_gender','donors_language','age','donation_total_co','donation_cu']]"
   ]
  },
  {
   "cell_type": "code",
   "execution_count": 1237,
   "id": "d3dcded7",
   "metadata": {},
   "outputs": [],
   "source": [
    "#train set \n",
    "model_train_2 = model.fit(X_train2,y_train)"
   ]
  },
  {
   "cell_type": "code",
   "execution_count": 1238,
   "id": "1b84605c",
   "metadata": {
    "scrolled": false
   },
   "outputs": [],
   "source": [
    "#train set\n",
    "\n",
    "X_test_6169[\"proba donated\"] = DataFrame(model_train_2.predict_proba(X_test_6169_2))[1]"
   ]
  },
  {
   "cell_type": "code",
   "execution_count": 1239,
   "id": "ef1df8e8",
   "metadata": {
    "scrolled": true
   },
   "outputs": [
    {
     "data": {
      "text/plain": [
       "29972         NaN\n",
       "9245     0.008591\n",
       "10115    0.011122\n",
       "34864         NaN\n",
       "20753         NaN\n",
       "           ...   \n",
       "5637     0.089509\n",
       "1181     0.010491\n",
       "2360     0.014174\n",
       "33427         NaN\n",
       "3150     0.008594\n",
       "Name: proba donated, Length: 10745, dtype: float64"
      ]
     },
     "execution_count": 1239,
     "metadata": {},
     "output_type": "execute_result"
    }
   ],
   "source": [
    "X_test_6169[\"proba donated\"]"
   ]
  },
  {
   "cell_type": "code",
   "execution_count": 1240,
   "id": "e5905043",
   "metadata": {
    "scrolled": true
   },
   "outputs": [],
   "source": [
    "X_test_6169['proba donated'] = np.where(X_test_6169[\"proba donated\"].isnull(),0.0,X_test_6169['proba donated'])"
   ]
  },
  {
   "cell_type": "markdown",
   "id": "24c36dbf",
   "metadata": {},
   "source": [
    "# Scores 2"
   ]
  },
  {
   "cell_type": "code",
   "execution_count": 1241,
   "id": "c1284a13",
   "metadata": {
    "scrolled": false
   },
   "outputs": [
    {
     "name": "stdout",
     "output_type": "stream",
     "text": [
      "0.5249887625373184\n",
      "0.6246615393103211\n"
     ]
    }
   ],
   "source": [
    "aucTrain = aucTrain = roc_auc_score(array(y_test_6169),array(X_test_6169[\"proba donated\"]))\n",
    "aucTest     = roc_auc_score(array(donations_train_7244_selected['donated_to_7244']),array(X_test_7244_features[\"proba donated\"]))\n",
    "\n",
    "print(aucTrain)\n",
    "print(aucTest)"
   ]
  },
  {
   "cell_type": "markdown",
   "id": "811b45fc",
   "metadata": {},
   "source": [
    "# Model 2: Random Forest Classifier"
   ]
  },
  {
   "cell_type": "code",
   "execution_count": 1242,
   "id": "13754a3d",
   "metadata": {},
   "outputs": [],
   "source": [
    "X_train_6169_features = donations_train_6169_selected[['donors_province','donors_region','donors_gender','donors_language','age','donation_total_co','recency','donation_cu','donation_average_co','donation_max_co']]"
   ]
  },
  {
   "cell_type": "code",
   "execution_count": 1243,
   "id": "763f4454",
   "metadata": {},
   "outputs": [],
   "source": [
    "X_test_7244_features = donations_train_7244_selected[['donors_province','donors_region','donors_gender','donors_language','age','donation_total_co','recency','donation_cu','donation_average_co','donation_max_co']]"
   ]
  },
  {
   "cell_type": "code",
   "execution_count": 1244,
   "id": "e792db95",
   "metadata": {},
   "outputs": [],
   "source": [
    "X_train3 = X_train[['donors_province','donors_region','donors_gender','donors_language','age','donation_total_co','recency','donation_cu','donation_average_co','donation_max_co']]\n",
    "X_test_6169_3 = X_test_6169[['donors_province','donors_region','donors_gender','donors_language','age','donation_total_co','recency','donation_cu','donation_average_co','donation_max_co']]"
   ]
  },
  {
   "cell_type": "code",
   "execution_count": 1245,
   "id": "b9c6689e",
   "metadata": {},
   "outputs": [],
   "source": [
    "clf = RandomForestClassifier(random_state=0,n_estimators=1000)"
   ]
  },
  {
   "cell_type": "code",
   "execution_count": 1246,
   "id": "6c697a1e",
   "metadata": {},
   "outputs": [],
   "source": [
    "#train set\n",
    "model_train_3 = clf.fit(X_train3, y_train)"
   ]
  },
  {
   "cell_type": "code",
   "execution_count": 1247,
   "id": "4784ae7a",
   "metadata": {},
   "outputs": [],
   "source": [
    "#test set\n",
    "model_test_3 = clf.fit(X_train_6169_features,y_train_6169)"
   ]
  },
  {
   "cell_type": "code",
   "execution_count": 1248,
   "id": "77257650",
   "metadata": {},
   "outputs": [],
   "source": [
    "#train set\n",
    "X_test_6169[\"proba donated\"] = DataFrame(model_train_3.predict_proba(X_test_6169_3))[1]"
   ]
  },
  {
   "cell_type": "code",
   "execution_count": 1249,
   "id": "a5e08c13",
   "metadata": {
    "scrolled": true
   },
   "outputs": [
    {
     "data": {
      "text/plain": [
       "29972         NaN\n",
       "9245     0.000000\n",
       "10115    0.000000\n",
       "34864         NaN\n",
       "20753         NaN\n",
       "           ...   \n",
       "5637     0.000000\n",
       "1181     0.000000\n",
       "2360     0.000000\n",
       "33427         NaN\n",
       "3150     0.067155\n",
       "Name: proba donated, Length: 10745, dtype: float64"
      ]
     },
     "execution_count": 1249,
     "metadata": {},
     "output_type": "execute_result"
    }
   ],
   "source": [
    "X_test_6169[\"proba donated\"]"
   ]
  },
  {
   "cell_type": "code",
   "execution_count": 1250,
   "id": "938a0c34",
   "metadata": {},
   "outputs": [],
   "source": [
    "X_test_6169['proba donated'] = np.where(X_test_6169[\"proba donated\"].isnull(),0.0,X_test_6169['proba donated'])"
   ]
  },
  {
   "cell_type": "code",
   "execution_count": 1251,
   "id": "eb50bae6",
   "metadata": {
    "scrolled": true
   },
   "outputs": [
    {
     "name": "stderr",
     "output_type": "stream",
     "text": [
      "<ipython-input-1251-029cd96cc29c>:2: SettingWithCopyWarning: \n",
      "A value is trying to be set on a copy of a slice from a DataFrame.\n",
      "Try using .loc[row_indexer,col_indexer] = value instead\n",
      "\n",
      "See the caveats in the documentation: https://pandas.pydata.org/pandas-docs/stable/user_guide/indexing.html#returning-a-view-versus-a-copy\n",
      "  X_test_7244_features[\"proba donated\"] = DataFrame(model_test_3.predict_proba(X_test_7244_features))[1]\n"
     ]
    }
   ],
   "source": [
    "#test set\n",
    "X_test_7244_features[\"proba donated\"] = DataFrame(model_test_3.predict_proba(X_test_7244_features))[1]"
   ]
  },
  {
   "cell_type": "markdown",
   "id": "cdf0937f",
   "metadata": {},
   "source": [
    "# Scores 3"
   ]
  },
  {
   "cell_type": "code",
   "execution_count": 1252,
   "id": "79178ca5",
   "metadata": {
    "scrolled": true
   },
   "outputs": [
    {
     "name": "stdout",
     "output_type": "stream",
     "text": [
      "0.5133802958639428\n",
      "0.7641396013428624\n"
     ]
    }
   ],
   "source": [
    "aucTrain = aucTrain = roc_auc_score(array(y_test_6169),array(X_test_6169[\"proba donated\"]))\n",
    "aucTest     = roc_auc_score(array(donations_train_7244_selected['donated_to_7244']),array(X_test_7244_features[\"proba donated\"]))\n",
    "\n",
    "print(aucTrain)\n",
    "print(aucTest)"
   ]
  },
  {
   "cell_type": "markdown",
   "id": "dc490d9d",
   "metadata": {},
   "source": [
    "# Model 3: Gaussian Naive Bayes "
   ]
  },
  {
   "cell_type": "code",
   "execution_count": 1253,
   "id": "29bc4b73",
   "metadata": {},
   "outputs": [
    {
     "name": "stderr",
     "output_type": "stream",
     "text": [
      "C:\\tools\\Anaconda3\\lib\\site-packages\\pandas\\core\\frame.py:4308: SettingWithCopyWarning: \n",
      "A value is trying to be set on a copy of a slice from a DataFrame\n",
      "\n",
      "See the caveats in the documentation: https://pandas.pydata.org/pandas-docs/stable/user_guide/indexing.html#returning-a-view-versus-a-copy\n",
      "  return super().drop(\n"
     ]
    }
   ],
   "source": [
    "X_test_7244_features.drop('proba donated',inplace=True,axis=1)"
   ]
  },
  {
   "cell_type": "code",
   "execution_count": 1254,
   "id": "66c459f4",
   "metadata": {},
   "outputs": [],
   "source": [
    "gnb = GaussianNB()"
   ]
  },
  {
   "cell_type": "code",
   "execution_count": 1255,
   "id": "0cc4739a",
   "metadata": {},
   "outputs": [],
   "source": [
    "#train set\n",
    "model_train_4 = gnb.fit(X_train3, y_train)"
   ]
  },
  {
   "cell_type": "code",
   "execution_count": 1256,
   "id": "c6ee0bae",
   "metadata": {},
   "outputs": [],
   "source": [
    "#test set\n",
    "model_test_4 = gnb.fit(X_train_6169_features,y_train_6169)"
   ]
  },
  {
   "cell_type": "code",
   "execution_count": 1257,
   "id": "87421d56",
   "metadata": {},
   "outputs": [],
   "source": [
    "#train set\n",
    "X_test_6169[\"proba donated\"] = DataFrame(model_train_4.predict_proba(X_test_6169_3))[1]"
   ]
  },
  {
   "cell_type": "code",
   "execution_count": 1258,
   "id": "8a64f1ee",
   "metadata": {},
   "outputs": [],
   "source": [
    "X_test_6169['proba donated'] = np.where(X_test_6169[\"proba donated\"].isnull(),0.0,X_test_6169['proba donated'])"
   ]
  },
  {
   "cell_type": "code",
   "execution_count": 1259,
   "id": "ff855158",
   "metadata": {
    "scrolled": true
   },
   "outputs": [
    {
     "name": "stderr",
     "output_type": "stream",
     "text": [
      "<ipython-input-1259-e216b659d156>:2: SettingWithCopyWarning: \n",
      "A value is trying to be set on a copy of a slice from a DataFrame.\n",
      "Try using .loc[row_indexer,col_indexer] = value instead\n",
      "\n",
      "See the caveats in the documentation: https://pandas.pydata.org/pandas-docs/stable/user_guide/indexing.html#returning-a-view-versus-a-copy\n",
      "  X_test_7244_features[\"proba donated\"] = DataFrame(model_test_4.predict_proba(X_test_7244_features))[1]\n"
     ]
    }
   ],
   "source": [
    "#test set\n",
    "X_test_7244_features[\"proba donated\"] = DataFrame(model_test_4.predict_proba(X_test_7244_features))[1]"
   ]
  },
  {
   "cell_type": "markdown",
   "id": "1c1615f7",
   "metadata": {},
   "source": [
    "# Scores 4"
   ]
  },
  {
   "cell_type": "code",
   "execution_count": 1260,
   "id": "89f1bf17",
   "metadata": {
    "scrolled": false
   },
   "outputs": [
    {
     "name": "stdout",
     "output_type": "stream",
     "text": [
      "0.522624534567777\n",
      "0.5927424072217407\n"
     ]
    }
   ],
   "source": [
    "aucTrain = aucTrain = roc_auc_score(array(y_test_6169),array(X_test_6169[\"proba donated\"]))\n",
    "aucTest     = roc_auc_score(array(donations_train_7244_selected['donated_to_7244']),array(X_test_7244_features[\"proba donated\"]))\n",
    "\n",
    "print(aucTrain)\n",
    "print(aucTest)"
   ]
  },
  {
   "cell_type": "markdown",
   "id": "a4ff22e3",
   "metadata": {},
   "source": [
    "# Model 4: Gradient Boosting Classifier"
   ]
  },
  {
   "cell_type": "code",
   "execution_count": 1261,
   "id": "a0394e15",
   "metadata": {},
   "outputs": [
    {
     "name": "stderr",
     "output_type": "stream",
     "text": [
      "C:\\tools\\Anaconda3\\lib\\site-packages\\pandas\\core\\frame.py:4308: SettingWithCopyWarning: \n",
      "A value is trying to be set on a copy of a slice from a DataFrame\n",
      "\n",
      "See the caveats in the documentation: https://pandas.pydata.org/pandas-docs/stable/user_guide/indexing.html#returning-a-view-versus-a-copy\n",
      "  return super().drop(\n"
     ]
    }
   ],
   "source": [
    "X_test_7244_features.drop('proba donated',axis=1,inplace=True)"
   ]
  },
  {
   "cell_type": "code",
   "execution_count": 1262,
   "id": "58a8751c",
   "metadata": {},
   "outputs": [],
   "source": [
    "gbclf = GradientBoostingClassifier(random_state=0, learning_rate=0.1, n_estimators=400)"
   ]
  },
  {
   "cell_type": "code",
   "execution_count": 1263,
   "id": "5de7989a",
   "metadata": {},
   "outputs": [],
   "source": [
    "#train set\n",
    "model_train_5 = gbclf.fit(X_train3, y_train)"
   ]
  },
  {
   "cell_type": "code",
   "execution_count": 1264,
   "id": "a63382d9",
   "metadata": {},
   "outputs": [],
   "source": [
    "#test set\n",
    "model_test_5 = gbclf.fit(X_train_6169_features,y_train_6169)"
   ]
  },
  {
   "cell_type": "code",
   "execution_count": 1265,
   "id": "87faf921",
   "metadata": {},
   "outputs": [],
   "source": [
    "#train set\n",
    "X_test_6169[\"proba donated\"] = DataFrame(model_train_5.predict_proba(X_test_6169_3))[1]"
   ]
  },
  {
   "cell_type": "code",
   "execution_count": 1266,
   "id": "fb4ce4ef",
   "metadata": {},
   "outputs": [],
   "source": [
    "X_test_6169['proba donated'] = np.where(X_test_6169[\"proba donated\"].isnull(),0.0,X_test_6169['proba donated'])"
   ]
  },
  {
   "cell_type": "code",
   "execution_count": 1267,
   "id": "02c8ca42",
   "metadata": {
    "scrolled": false
   },
   "outputs": [
    {
     "name": "stderr",
     "output_type": "stream",
     "text": [
      "<ipython-input-1267-0139123914e9>:2: SettingWithCopyWarning: \n",
      "A value is trying to be set on a copy of a slice from a DataFrame.\n",
      "Try using .loc[row_indexer,col_indexer] = value instead\n",
      "\n",
      "See the caveats in the documentation: https://pandas.pydata.org/pandas-docs/stable/user_guide/indexing.html#returning-a-view-versus-a-copy\n",
      "  X_test_7244_features[\"proba donated\"] = DataFrame(model_test_5.predict_proba(X_test_7244_features))[1]\n"
     ]
    }
   ],
   "source": [
    "#test set\n",
    "X_test_7244_features[\"proba donated\"] = DataFrame(model_test_5.predict_proba(X_test_7244_features))[1]"
   ]
  },
  {
   "cell_type": "markdown",
   "id": "00f980ab",
   "metadata": {},
   "source": [
    "# Scores 5"
   ]
  },
  {
   "cell_type": "code",
   "execution_count": 1268,
   "id": "99462285",
   "metadata": {},
   "outputs": [
    {
     "name": "stdout",
     "output_type": "stream",
     "text": [
      "0.5249929556204086\n",
      "0.7781509349125739\n"
     ]
    }
   ],
   "source": [
    "aucTrain = aucTrain = roc_auc_score(array(y_test_6169),array(X_test_6169[\"proba donated\"]))\n",
    "aucTest     = roc_auc_score(array(donations_train_7244_selected['donated_to_7244']),array(X_test_7244_features[\"proba donated\"]))\n",
    "\n",
    "print(aucTrain)\n",
    "print(aucTest)"
   ]
  },
  {
   "cell_type": "markdown",
   "id": "2d0b2ccd",
   "metadata": {},
   "source": [
    "# Subsetting for Validation Campaign 7362"
   ]
  },
  {
   "cell_type": "code",
   "execution_count": 1269,
   "id": "cfa203be",
   "metadata": {
    "scrolled": false
   },
   "outputs": [],
   "source": [
    "selection_campaign_7362 = pd.read_csv('C:/Users/dkestenbaum/Desktop/PDA_GROUP ASSIGNMENT DSC use-case-20211201/new_campaign_selection (1).csv')"
   ]
  },
  {
   "cell_type": "code",
   "execution_count": 1270,
   "id": "b39eef35",
   "metadata": {},
   "outputs": [
    {
     "name": "stdout",
     "output_type": "stream",
     "text": [
      "<class 'pandas.core.frame.DataFrame'>\n",
      "RangeIndex: 26522 entries, 0 to 26521\n",
      "Data columns (total 1 columns):\n",
      " #   Column   Non-Null Count  Dtype\n",
      "---  ------   --------------  -----\n",
      " 0   donorID  26522 non-null  int64\n",
      "dtypes: int64(1)\n",
      "memory usage: 207.3 KB\n"
     ]
    }
   ],
   "source": [
    "selection_campaign_7362.info()"
   ]
  },
  {
   "cell_type": "code",
   "execution_count": 1271,
   "id": "42f98d81",
   "metadata": {},
   "outputs": [],
   "source": [
    "selection_campaign_7362['donorID'] = selection_campaign_7362['donorID'].astype(str)"
   ]
  },
  {
   "cell_type": "code",
   "execution_count": 1272,
   "id": "80e05140",
   "metadata": {},
   "outputs": [],
   "source": [
    "donors_campaign_7362 = selection_campaign_7362.merge(donors,on='donorID',how='inner')"
   ]
  },
  {
   "cell_type": "code",
   "execution_count": 1273,
   "id": "a14980a4",
   "metadata": {
    "scrolled": true
   },
   "outputs": [
    {
     "name": "stderr",
     "output_type": "stream",
     "text": [
      "<ipython-input-1191-56138ae0590c>:37: SettingWithCopyWarning: \n",
      "A value is trying to be set on a copy of a slice from a DataFrame\n",
      "\n",
      "See the caveats in the documentation: https://pandas.pydata.org/pandas-docs/stable/user_guide/indexing.html#returning-a-view-versus-a-copy\n",
      "  donations_1.drop_duplicates(subset='donation_donorID',inplace=True)\n",
      "<ipython-input-1191-56138ae0590c>:41: SettingWithCopyWarning: \n",
      "A value is trying to be set on a copy of a slice from a DataFrame\n",
      "\n",
      "See the caveats in the documentation: https://pandas.pydata.org/pandas-docs/stable/user_guide/indexing.html#returning-a-view-versus-a-copy\n",
      "  donations_0.drop_duplicates(subset='donation_donorID',inplace=True)\n"
     ]
    }
   ],
   "source": [
    "donations_train_7362 = get_basetable(campaign_id=\"7244\",date_Y_m_d='20200201', target_var_name='donated_to_7244')"
   ]
  },
  {
   "cell_type": "code",
   "execution_count": 1274,
   "id": "95a72e22",
   "metadata": {},
   "outputs": [
    {
     "name": "stdout",
     "output_type": "stream",
     "text": [
      "<class 'pandas.core.frame.DataFrame'>\n",
      "Int64Index: 44902 entries, 0 to 215721\n",
      "Data columns (total 23 columns):\n",
      " #   Column                  Non-Null Count  Dtype         \n",
      "---  ------                  --------------  -----         \n",
      " 0   donorID                 44902 non-null  object        \n",
      " 1   donors_zip              44902 non-null  object        \n",
      " 2   donors_province         44902 non-null  int32         \n",
      " 3   donors_region           44902 non-null  int32         \n",
      " 4   donors_gender           44902 non-null  int32         \n",
      " 5   donors_language         44902 non-null  int32         \n",
      " 6   donors_DOB              44902 non-null  datetime64[ns]\n",
      " 7   yob                     44902 non-null  int32         \n",
      " 8   age                     44902 non-null  int32         \n",
      " 9   donation_donorID        44901 non-null  object        \n",
      " 10  donation_campaignID     44901 non-null  object        \n",
      " 11  donation_total_co       44901 non-null  float64       \n",
      " 12  donation_average_co     44901 non-null  float64       \n",
      " 13  donation_median_co      44901 non-null  float64       \n",
      " 14  donation_max_co         44901 non-null  float64       \n",
      " 15  donation_min_co         44901 non-null  float64       \n",
      " 16  donation_cu             44901 non-null  float64       \n",
      " 17  recency                 44901 non-null  datetime64[ns]\n",
      " 18  campaignID              217 non-null    object        \n",
      " 19  campaign date           217 non-null    datetime64[ns]\n",
      " 20  campaign_lettersSent    217 non-null    float64       \n",
      " 21  campaign_cost_per_unit  217 non-null    float64       \n",
      " 22  donated_to_7244         44902 non-null  int32         \n",
      "dtypes: datetime64[ns](3), float64(8), int32(7), object(5)\n",
      "memory usage: 7.0+ MB\n"
     ]
    }
   ],
   "source": [
    "donations_train_7362.info()"
   ]
  },
  {
   "cell_type": "code",
   "execution_count": 1275,
   "id": "c8a76daf",
   "metadata": {
    "scrolled": true
   },
   "outputs": [],
   "source": [
    "donations_train_7362 = donors_campaign_7362.merge(donations_train_7362, left_on='donorID', right_on='donorID', how='inner')"
   ]
  },
  {
   "cell_type": "code",
   "execution_count": 1276,
   "id": "74969b80",
   "metadata": {
    "scrolled": true
   },
   "outputs": [
    {
     "data": {
      "text/plain": [
       "donorID                           object\n",
       "donors_zip_x                      object\n",
       "donors_province_x                  int32\n",
       "donors_region_x                    int32\n",
       "donors_gender_x                    int32\n",
       "donors_language_x                  int32\n",
       "donors_DOB_x              datetime64[ns]\n",
       "yob_x                              int32\n",
       "age_x                              int32\n",
       "donors_zip_y                      object\n",
       "donors_province_y                  int32\n",
       "donors_region_y                    int32\n",
       "donors_gender_y                    int32\n",
       "donors_language_y                  int32\n",
       "donors_DOB_y              datetime64[ns]\n",
       "yob_y                              int32\n",
       "age_y                              int32\n",
       "donation_donorID                  object\n",
       "donation_campaignID               object\n",
       "donation_total_co                float64\n",
       "donation_average_co              float64\n",
       "donation_median_co               float64\n",
       "donation_max_co                  float64\n",
       "donation_min_co                  float64\n",
       "donation_cu                      float64\n",
       "recency                   datetime64[ns]\n",
       "campaignID                        object\n",
       "campaign date             datetime64[ns]\n",
       "campaign_lettersSent             float64\n",
       "campaign_cost_per_unit           float64\n",
       "donated_to_7244                    int32\n",
       "dtype: object"
      ]
     },
     "execution_count": 1276,
     "metadata": {},
     "output_type": "execute_result"
    }
   ],
   "source": [
    "donations_train_7362.dtypes"
   ]
  },
  {
   "cell_type": "code",
   "execution_count": 1277,
   "id": "1459321c",
   "metadata": {
    "scrolled": false
   },
   "outputs": [
    {
     "name": "stdout",
     "output_type": "stream",
     "text": [
      "<class 'pandas.core.frame.DataFrame'>\n",
      "Int64Index: 26734 entries, 0 to 26733\n",
      "Data columns (total 31 columns):\n",
      " #   Column                  Non-Null Count  Dtype         \n",
      "---  ------                  --------------  -----         \n",
      " 0   donorID                 26734 non-null  object        \n",
      " 1   donors_zip_x            26734 non-null  object        \n",
      " 2   donors_province_x       26734 non-null  int32         \n",
      " 3   donors_region_x         26734 non-null  int32         \n",
      " 4   donors_gender_x         26734 non-null  int32         \n",
      " 5   donors_language_x       26734 non-null  int32         \n",
      " 6   donors_DOB_x            26734 non-null  datetime64[ns]\n",
      " 7   yob_x                   26734 non-null  int32         \n",
      " 8   age_x                   26734 non-null  int32         \n",
      " 9   donors_zip_y            26734 non-null  object        \n",
      " 10  donors_province_y       26734 non-null  int32         \n",
      " 11  donors_region_y         26734 non-null  int32         \n",
      " 12  donors_gender_y         26734 non-null  int32         \n",
      " 13  donors_language_y       26734 non-null  int32         \n",
      " 14  donors_DOB_y            26734 non-null  datetime64[ns]\n",
      " 15  yob_y                   26734 non-null  int32         \n",
      " 16  age_y                   26734 non-null  int32         \n",
      " 17  donation_donorID        26734 non-null  object        \n",
      " 18  donation_campaignID     26734 non-null  object        \n",
      " 19  donation_total_co       26734 non-null  float64       \n",
      " 20  donation_average_co     26734 non-null  float64       \n",
      " 21  donation_median_co      26734 non-null  float64       \n",
      " 22  donation_max_co         26734 non-null  float64       \n",
      " 23  donation_min_co         26734 non-null  float64       \n",
      " 24  donation_cu             26734 non-null  float64       \n",
      " 25  recency                 26734 non-null  datetime64[ns]\n",
      " 26  campaignID              217 non-null    object        \n",
      " 27  campaign date           217 non-null    datetime64[ns]\n",
      " 28  campaign_lettersSent    217 non-null    float64       \n",
      " 29  campaign_cost_per_unit  217 non-null    float64       \n",
      " 30  donated_to_7244         26734 non-null  int32         \n",
      "dtypes: datetime64[ns](4), float64(8), int32(13), object(6)\n",
      "memory usage: 5.2+ MB\n"
     ]
    }
   ],
   "source": [
    "donations_train_7362.info()"
   ]
  },
  {
   "cell_type": "code",
   "execution_count": 1278,
   "id": "90a5686f",
   "metadata": {},
   "outputs": [],
   "source": [
    "donations_train_7362.drop(['donors_zip_y','donors_province_y','donors_region_y','donors_gender_y','donors_language_y','donors_DOB_y','yob_y','age_y'],axis=1,inplace=True)"
   ]
  },
  {
   "cell_type": "code",
   "execution_count": 1279,
   "id": "31482e09",
   "metadata": {
    "scrolled": true
   },
   "outputs": [
    {
     "data": {
      "text/plain": [
       "donorID                           object\n",
       "donors_zip_x                      object\n",
       "donors_province_x                  int32\n",
       "donors_region_x                    int32\n",
       "donors_gender_x                    int32\n",
       "donors_language_x                  int32\n",
       "donors_DOB_x              datetime64[ns]\n",
       "yob_x                              int32\n",
       "age_x                              int32\n",
       "donation_donorID                  object\n",
       "donation_campaignID               object\n",
       "donation_total_co                float64\n",
       "donation_average_co              float64\n",
       "donation_median_co               float64\n",
       "donation_max_co                  float64\n",
       "donation_min_co                  float64\n",
       "donation_cu                      float64\n",
       "recency                   datetime64[ns]\n",
       "campaignID                        object\n",
       "campaign date             datetime64[ns]\n",
       "campaign_lettersSent             float64\n",
       "campaign_cost_per_unit           float64\n",
       "donated_to_7244                    int32\n",
       "dtype: object"
      ]
     },
     "execution_count": 1279,
     "metadata": {},
     "output_type": "execute_result"
    }
   ],
   "source": [
    "donations_train_7362.dtypes"
   ]
  },
  {
   "cell_type": "code",
   "execution_count": 1280,
   "id": "0421db97",
   "metadata": {},
   "outputs": [],
   "source": [
    "donations_train_7362.drop('age_x',axis=1,inplace=True)"
   ]
  },
  {
   "cell_type": "code",
   "execution_count": 1281,
   "id": "8b625ba1",
   "metadata": {},
   "outputs": [],
   "source": [
    "donations_train_7362['age'] = 2020 - donations_train_7362['yob_x']"
   ]
  },
  {
   "cell_type": "code",
   "execution_count": 1282,
   "id": "c64d4043",
   "metadata": {
    "scrolled": true
   },
   "outputs": [
    {
     "data": {
      "text/plain": [
       "donorID                           object\n",
       "donors_zip_x                      object\n",
       "donors_province_x                  int32\n",
       "donors_region_x                    int32\n",
       "donors_gender_x                    int32\n",
       "donors_language_x                  int32\n",
       "donors_DOB_x              datetime64[ns]\n",
       "yob_x                              int32\n",
       "donation_donorID                  object\n",
       "donation_campaignID               object\n",
       "donation_total_co                float64\n",
       "donation_average_co              float64\n",
       "donation_median_co               float64\n",
       "donation_max_co                  float64\n",
       "donation_min_co                  float64\n",
       "donation_cu                      float64\n",
       "recency                   datetime64[ns]\n",
       "campaignID                        object\n",
       "campaign date             datetime64[ns]\n",
       "campaign_lettersSent             float64\n",
       "campaign_cost_per_unit           float64\n",
       "donated_to_7244                    int32\n",
       "age                                int32\n",
       "dtype: object"
      ]
     },
     "execution_count": 1282,
     "metadata": {},
     "output_type": "execute_result"
    }
   ],
   "source": [
    "donations_train_7362.dtypes"
   ]
  },
  {
   "cell_type": "code",
   "execution_count": 1283,
   "id": "fd75833f",
   "metadata": {},
   "outputs": [],
   "source": [
    "donations_train_7362['recency'] = donations_train_7362['recency'].apply(lambda x:x.toordinal())"
   ]
  },
  {
   "cell_type": "markdown",
   "id": "5ae00357",
   "metadata": {},
   "source": [
    "# Make predictions for Selection Campaign 7362"
   ]
  },
  {
   "cell_type": "code",
   "execution_count": 1284,
   "id": "5a5f4eb9",
   "metadata": {},
   "outputs": [],
   "source": [
    "X_test_7244 = donations_train_7244_selected[['donors_province','donors_region','donors_gender','donors_language','age','donation_total_co','recency','donation_cu','donation_average_co','donation_max_co']]\n",
    "y_test_7244 = donations_train_7244_selected['donated_to_7244']"
   ]
  },
  {
   "cell_type": "code",
   "execution_count": 1285,
   "id": "5966f9cb",
   "metadata": {},
   "outputs": [],
   "source": [
    "X_val_7362 = donations_train_7362[['donors_province_x','donors_region_x','donors_gender_x','donors_language_x','age','donation_total_co','recency','donation_cu','donation_average_co','donation_max_co']]"
   ]
  },
  {
   "cell_type": "code",
   "execution_count": 1286,
   "id": "a4093214",
   "metadata": {},
   "outputs": [],
   "source": [
    "#test set\n",
    "\n",
    "model_test_6 = gbclf.fit(X_test_7244,y_test_7244)"
   ]
  },
  {
   "cell_type": "code",
   "execution_count": 1287,
   "id": "3719b5bc",
   "metadata": {},
   "outputs": [],
   "source": [
    "Validation_7362_df = donations_train_7362[['donorID','donors_province_x','donors_region_x','donors_gender_x','donors_language_x','age','donation_total_co','recency','donation_cu','donation_average_co','donation_max_co']]"
   ]
  },
  {
   "cell_type": "code",
   "execution_count": 1288,
   "id": "a1dd1ba7",
   "metadata": {},
   "outputs": [
    {
     "data": {
      "text/html": [
       "<div>\n",
       "<style scoped>\n",
       "    .dataframe tbody tr th:only-of-type {\n",
       "        vertical-align: middle;\n",
       "    }\n",
       "\n",
       "    .dataframe tbody tr th {\n",
       "        vertical-align: top;\n",
       "    }\n",
       "\n",
       "    .dataframe thead th {\n",
       "        text-align: right;\n",
       "    }\n",
       "</style>\n",
       "<table border=\"1\" class=\"dataframe\">\n",
       "  <thead>\n",
       "    <tr style=\"text-align: right;\">\n",
       "      <th></th>\n",
       "      <th>donorID</th>\n",
       "      <th>donors_province_x</th>\n",
       "      <th>donors_region_x</th>\n",
       "      <th>donors_gender_x</th>\n",
       "      <th>donors_language_x</th>\n",
       "      <th>age</th>\n",
       "      <th>donation_total_co</th>\n",
       "      <th>recency</th>\n",
       "      <th>donation_cu</th>\n",
       "      <th>donation_average_co</th>\n",
       "      <th>donation_max_co</th>\n",
       "    </tr>\n",
       "  </thead>\n",
       "  <tbody>\n",
       "    <tr>\n",
       "      <th>0</th>\n",
       "      <td>134242</td>\n",
       "      <td>6</td>\n",
       "      <td>1</td>\n",
       "      <td>1</td>\n",
       "      <td>2</td>\n",
       "      <td>54</td>\n",
       "      <td>30.0</td>\n",
       "      <td>735201</td>\n",
       "      <td>2.0</td>\n",
       "      <td>15.0</td>\n",
       "      <td>20.0</td>\n",
       "    </tr>\n",
       "    <tr>\n",
       "      <th>1</th>\n",
       "      <td>126503</td>\n",
       "      <td>5</td>\n",
       "      <td>2</td>\n",
       "      <td>1</td>\n",
       "      <td>1</td>\n",
       "      <td>71</td>\n",
       "      <td>50.0</td>\n",
       "      <td>735595</td>\n",
       "      <td>1.0</td>\n",
       "      <td>50.0</td>\n",
       "      <td>50.0</td>\n",
       "    </tr>\n",
       "    <tr>\n",
       "      <th>2</th>\n",
       "      <td>104392</td>\n",
       "      <td>5</td>\n",
       "      <td>2</td>\n",
       "      <td>0</td>\n",
       "      <td>1</td>\n",
       "      <td>46</td>\n",
       "      <td>50.0</td>\n",
       "      <td>735596</td>\n",
       "      <td>1.0</td>\n",
       "      <td>50.0</td>\n",
       "      <td>50.0</td>\n",
       "    </tr>\n",
       "    <tr>\n",
       "      <th>3</th>\n",
       "      <td>105905</td>\n",
       "      <td>10</td>\n",
       "      <td>1</td>\n",
       "      <td>1</td>\n",
       "      <td>2</td>\n",
       "      <td>50</td>\n",
       "      <td>210.0</td>\n",
       "      <td>737392</td>\n",
       "      <td>3.0</td>\n",
       "      <td>70.0</td>\n",
       "      <td>100.0</td>\n",
       "    </tr>\n",
       "    <tr>\n",
       "      <th>4</th>\n",
       "      <td>105905</td>\n",
       "      <td>10</td>\n",
       "      <td>1</td>\n",
       "      <td>1</td>\n",
       "      <td>2</td>\n",
       "      <td>50</td>\n",
       "      <td>210.0</td>\n",
       "      <td>737392</td>\n",
       "      <td>3.0</td>\n",
       "      <td>70.0</td>\n",
       "      <td>100.0</td>\n",
       "    </tr>\n",
       "  </tbody>\n",
       "</table>\n",
       "</div>"
      ],
      "text/plain": [
       "  donorID  donors_province_x  donors_region_x  donors_gender_x  \\\n",
       "0  134242                  6                1                1   \n",
       "1  126503                  5                2                1   \n",
       "2  104392                  5                2                0   \n",
       "3  105905                 10                1                1   \n",
       "4  105905                 10                1                1   \n",
       "\n",
       "   donors_language_x  age  donation_total_co  recency  donation_cu  \\\n",
       "0                  2   54               30.0   735201          2.0   \n",
       "1                  1   71               50.0   735595          1.0   \n",
       "2                  1   46               50.0   735596          1.0   \n",
       "3                  2   50              210.0   737392          3.0   \n",
       "4                  2   50              210.0   737392          3.0   \n",
       "\n",
       "   donation_average_co  donation_max_co  \n",
       "0                 15.0             20.0  \n",
       "1                 50.0             50.0  \n",
       "2                 50.0             50.0  \n",
       "3                 70.0            100.0  \n",
       "4                 70.0            100.0  "
      ]
     },
     "execution_count": 1288,
     "metadata": {},
     "output_type": "execute_result"
    }
   ],
   "source": [
    "Validation_7362_df.head()"
   ]
  },
  {
   "cell_type": "code",
   "execution_count": 1289,
   "id": "409070ac",
   "metadata": {
    "scrolled": true
   },
   "outputs": [
    {
     "name": "stderr",
     "output_type": "stream",
     "text": [
      "C:\\tools\\Anaconda3\\lib\\site-packages\\sklearn\\base.py:484: FutureWarning: The feature names should match those that were passed during fit. Starting version 1.2, an error will be raised.\n",
      "Feature names unseen at fit time:\n",
      "- donors_gender_x\n",
      "- donors_language_x\n",
      "- donors_province_x\n",
      "- donors_region_x\n",
      "Feature names seen at fit time, yet now missing:\n",
      "- donors_gender\n",
      "- donors_language\n",
      "- donors_province\n",
      "- donors_region\n",
      "\n",
      "  warnings.warn(message, FutureWarning)\n",
      "<ipython-input-1289-8602143b9065>:2: SettingWithCopyWarning: \n",
      "A value is trying to be set on a copy of a slice from a DataFrame.\n",
      "Try using .loc[row_indexer,col_indexer] = value instead\n",
      "\n",
      "See the caveats in the documentation: https://pandas.pydata.org/pandas-docs/stable/user_guide/indexing.html#returning-a-view-versus-a-copy\n",
      "  Validation_7362_df[\"proba donated\"] = DataFrame(model_test_6.predict_proba(X_val_7362))[1]\n"
     ]
    }
   ],
   "source": [
    "#validation set \n",
    "Validation_7362_df[\"proba donated\"] = DataFrame(model_test_6.predict_proba(X_val_7362))[1]"
   ]
  },
  {
   "cell_type": "code",
   "execution_count": 1290,
   "id": "e3afa816",
   "metadata": {
    "scrolled": true
   },
   "outputs": [
    {
     "data": {
      "text/html": [
       "<div>\n",
       "<style scoped>\n",
       "    .dataframe tbody tr th:only-of-type {\n",
       "        vertical-align: middle;\n",
       "    }\n",
       "\n",
       "    .dataframe tbody tr th {\n",
       "        vertical-align: top;\n",
       "    }\n",
       "\n",
       "    .dataframe thead th {\n",
       "        text-align: right;\n",
       "    }\n",
       "</style>\n",
       "<table border=\"1\" class=\"dataframe\">\n",
       "  <thead>\n",
       "    <tr style=\"text-align: right;\">\n",
       "      <th></th>\n",
       "      <th>donorID</th>\n",
       "      <th>donors_province_x</th>\n",
       "      <th>donors_region_x</th>\n",
       "      <th>donors_gender_x</th>\n",
       "      <th>donors_language_x</th>\n",
       "      <th>age</th>\n",
       "      <th>donation_total_co</th>\n",
       "      <th>recency</th>\n",
       "      <th>donation_cu</th>\n",
       "      <th>donation_average_co</th>\n",
       "      <th>donation_max_co</th>\n",
       "      <th>proba donated</th>\n",
       "    </tr>\n",
       "  </thead>\n",
       "  <tbody>\n",
       "    <tr>\n",
       "      <th>0</th>\n",
       "      <td>134242</td>\n",
       "      <td>6</td>\n",
       "      <td>1</td>\n",
       "      <td>1</td>\n",
       "      <td>2</td>\n",
       "      <td>54</td>\n",
       "      <td>30.0</td>\n",
       "      <td>735201</td>\n",
       "      <td>2.0</td>\n",
       "      <td>15.0</td>\n",
       "      <td>20.0</td>\n",
       "      <td>0.001567</td>\n",
       "    </tr>\n",
       "    <tr>\n",
       "      <th>1</th>\n",
       "      <td>126503</td>\n",
       "      <td>5</td>\n",
       "      <td>2</td>\n",
       "      <td>1</td>\n",
       "      <td>1</td>\n",
       "      <td>71</td>\n",
       "      <td>50.0</td>\n",
       "      <td>735595</td>\n",
       "      <td>1.0</td>\n",
       "      <td>50.0</td>\n",
       "      <td>50.0</td>\n",
       "      <td>0.000680</td>\n",
       "    </tr>\n",
       "    <tr>\n",
       "      <th>2</th>\n",
       "      <td>104392</td>\n",
       "      <td>5</td>\n",
       "      <td>2</td>\n",
       "      <td>0</td>\n",
       "      <td>1</td>\n",
       "      <td>46</td>\n",
       "      <td>50.0</td>\n",
       "      <td>735596</td>\n",
       "      <td>1.0</td>\n",
       "      <td>50.0</td>\n",
       "      <td>50.0</td>\n",
       "      <td>0.001272</td>\n",
       "    </tr>\n",
       "    <tr>\n",
       "      <th>3</th>\n",
       "      <td>105905</td>\n",
       "      <td>10</td>\n",
       "      <td>1</td>\n",
       "      <td>1</td>\n",
       "      <td>2</td>\n",
       "      <td>50</td>\n",
       "      <td>210.0</td>\n",
       "      <td>737392</td>\n",
       "      <td>3.0</td>\n",
       "      <td>70.0</td>\n",
       "      <td>100.0</td>\n",
       "      <td>0.019512</td>\n",
       "    </tr>\n",
       "    <tr>\n",
       "      <th>4</th>\n",
       "      <td>105905</td>\n",
       "      <td>10</td>\n",
       "      <td>1</td>\n",
       "      <td>1</td>\n",
       "      <td>2</td>\n",
       "      <td>50</td>\n",
       "      <td>210.0</td>\n",
       "      <td>737392</td>\n",
       "      <td>3.0</td>\n",
       "      <td>70.0</td>\n",
       "      <td>100.0</td>\n",
       "      <td>0.019512</td>\n",
       "    </tr>\n",
       "  </tbody>\n",
       "</table>\n",
       "</div>"
      ],
      "text/plain": [
       "  donorID  donors_province_x  donors_region_x  donors_gender_x  \\\n",
       "0  134242                  6                1                1   \n",
       "1  126503                  5                2                1   \n",
       "2  104392                  5                2                0   \n",
       "3  105905                 10                1                1   \n",
       "4  105905                 10                1                1   \n",
       "\n",
       "   donors_language_x  age  donation_total_co  recency  donation_cu  \\\n",
       "0                  2   54               30.0   735201          2.0   \n",
       "1                  1   71               50.0   735595          1.0   \n",
       "2                  1   46               50.0   735596          1.0   \n",
       "3                  2   50              210.0   737392          3.0   \n",
       "4                  2   50              210.0   737392          3.0   \n",
       "\n",
       "   donation_average_co  donation_max_co  proba donated  \n",
       "0                 15.0             20.0       0.001567  \n",
       "1                 50.0             50.0       0.000680  \n",
       "2                 50.0             50.0       0.001272  \n",
       "3                 70.0            100.0       0.019512  \n",
       "4                 70.0            100.0       0.019512  "
      ]
     },
     "execution_count": 1290,
     "metadata": {},
     "output_type": "execute_result"
    }
   ],
   "source": [
    "Validation_7362_df.head()"
   ]
  }
 ],
 "metadata": {
  "kernelspec": {
   "display_name": "Python 3",
   "language": "python",
   "name": "python3"
  },
  "language_info": {
   "codemirror_mode": {
    "name": "ipython",
    "version": 3
   },
   "file_extension": ".py",
   "mimetype": "text/x-python",
   "name": "python",
   "nbconvert_exporter": "python",
   "pygments_lexer": "ipython3",
   "version": "3.8.8"
  }
 },
 "nbformat": 4,
 "nbformat_minor": 5
}
